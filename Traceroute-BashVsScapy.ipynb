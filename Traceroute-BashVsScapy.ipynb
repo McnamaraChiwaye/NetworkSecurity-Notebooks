{
 "cells": [
  {
   "cell_type": "markdown",
   "metadata": {},
   "source": [
    "# Traceroute\n",
    "## Note: run jupyter with sudo jupyter notebook --allow-root for scapy to work "
   ]
  },
  {
   "cell_type": "markdown",
   "metadata": {},
   "source": [
    "## the bash way"
   ]
  },
  {
   "cell_type": "code",
   "execution_count": 4,
   "metadata": {},
   "outputs": [
    {
     "name": "stdout",
     "output_type": "stream",
     "text": [
      "traceroute to coloradomesa.edu (72.166.224.167), 30 hops max, 60 byte packets\n",
      " 1  _gateway (192.168.100.1)  0.099 ms  0.131 ms  0.061 ms\n",
      " 2  * * *\n",
      " 3  * * *\n",
      " 4  * * *\n",
      " 5  * * *\n",
      " 6  * * *\n",
      " 7  * * *\n",
      " 8  * * *\n",
      " 9  * * *\n",
      "10  * * *\n",
      "11  * * *\n",
      "12  * * *\n",
      "13  * * *\n",
      "14  * * *\n",
      "15  * * *\n",
      "16  * * *\n",
      "17  * * *\n",
      "18  * * *\n",
      "19  * * *\n",
      "20  * * *\n",
      "21  * * *\n",
      "22  * * *\n",
      "23  * * *\n",
      "24  * * *\n",
      "25  * * *\n",
      "26  * * *\n",
      "27  * * *\n",
      "28  * * *\n",
      "29  * * *\n",
      "30  * * *\n"
     ]
    }
   ],
   "source": [
    "!traceroute coloradomesa.edu"
   ]
  },
  {
   "cell_type": "code",
   "execution_count": 2,
   "metadata": {},
   "outputs": [
    {
     "name": "stdout",
     "output_type": "stream",
     "text": [
      "Kernel IP routing table\r\n",
      "Destination     Gateway         Genmask         Flags Metric Ref    Use Iface\r\n",
      "0.0.0.0         192.168.100.1   0.0.0.0         UG    100    0        0 eth0\r\n",
      "192.168.100.0   0.0.0.0         255.255.255.0   U     100    0        0 eth0\r\n"
     ]
    }
   ],
   "source": [
    "! route -n "
   ]
  },
  {
   "cell_type": "markdown",
   "metadata": {},
   "source": [
    "##  the Scapy easy way"
   ]
  },
  {
   "cell_type": "code",
   "execution_count": 6,
   "metadata": {},
   "outputs": [],
   "source": [
    "# must run jupyter notebook using sudo\n",
    "from scapy.all import *"
   ]
  },
  {
   "cell_type": "code",
   "execution_count": 7,
   "metadata": {},
   "outputs": [
    {
     "name": "stdout",
     "output_type": "stream",
     "text": [
      "Help on function traceroute in module scapy.layers.inet:\n",
      "\n",
      "traceroute(target, dport=80, minttl=1, maxttl=30, sport=<RandShort>, l4=None, filter=None, timeout=2, verbose=None, **kargs)\n",
      "    Instant TCP traceroute\n",
      "    \n",
      "    :param target:  hostnames or IP addresses\n",
      "    :param dport:   TCP destination port (default is 80)\n",
      "    :param minttl:  minimum TTL (default is 1)\n",
      "    :param maxttl:  maximum TTL (default is 30)\n",
      "    :param sport:   TCP source port (default is random)\n",
      "    :param l4:      use a Scapy packet instead of TCP\n",
      "    :param filter:  BPF filter applied to received packets\n",
      "    :param timeout: time to wait for answers (default is 2s)\n",
      "    :param verbose: detailed output\n",
      "    :return: an TracerouteResult, and a list of unanswered packets\n",
      "\n"
     ]
    }
   ],
   "source": [
    "help(traceroute)"
   ]
  },
  {
   "cell_type": "code",
   "execution_count": 8,
   "metadata": {},
   "outputs": [
    {
     "name": "stdout",
     "output_type": "stream",
     "text": [
      "Begin emission:\n",
      "Finished sending 20 packets.\n",
      "\n",
      "Received 20 packets, got 20 answers, remaining 0 packets\n",
      "   172.217.14.228:tcp80 \n",
      "1  172.217.14.228  SA   \n",
      "2  172.217.14.228  SA   \n",
      "3  172.217.14.228  SA   \n",
      "4  172.217.14.228  SA   \n",
      "5  172.217.14.228  SA   \n",
      "6  172.217.14.228  SA   \n",
      "7  172.217.14.228  SA   \n",
      "8  172.217.14.228  SA   \n",
      "9  172.217.14.228  SA   \n",
      "10 172.217.14.228  SA   \n",
      "11 172.217.14.228  SA   \n",
      "12 172.217.14.228  SA   \n",
      "13 172.217.14.228  SA   \n",
      "14 172.217.14.228  SA   \n",
      "15 172.217.14.228  SA   \n",
      "16 172.217.14.228  SA   \n",
      "17 172.217.14.228  SA   \n",
      "18 172.217.14.228  SA   \n",
      "19 172.217.14.228  SA   \n",
      "20 172.217.14.228  SA   \n"
     ]
    },
    {
     "data": {
      "text/plain": [
       "(<Traceroute: TCP:20 UDP:0 ICMP:0 Other:0>,\n",
       " <Unanswered: TCP:0 UDP:0 ICMP:0 Other:0>)"
      ]
     },
     "execution_count": 8,
     "metadata": {},
     "output_type": "execute_result"
    }
   ],
   "source": [
    "traceroute(target=\"www.google.com\", maxttl=20)\n",
    "# Result shows TCP traceroute on default port 80 with (SA - Syn Ack flags)"
   ]
  },
  {
   "cell_type": "code",
   "execution_count": 9,
   "metadata": {},
   "outputs": [
    {
     "name": "stdout",
     "output_type": "stream",
     "text": [
      "Begin emission:\n",
      "Finished sending 20 packets.\n",
      "\n",
      "Received 20 packets, got 20 answers, remaining 0 packets\n",
      "   216.58.193.78:tcp443 \n",
      "1  216.58.193.78   SA   \n",
      "2  216.58.193.78   SA   \n",
      "3  216.58.193.78   SA   \n",
      "4  216.58.193.78   SA   \n",
      "5  216.58.193.78   SA   \n",
      "6  216.58.193.78   SA   \n",
      "7  216.58.193.78   SA   \n",
      "8  216.58.193.78   SA   \n",
      "9  216.58.193.78   SA   \n",
      "10 216.58.193.78   SA   \n",
      "11 216.58.193.78   SA   \n",
      "12 216.58.193.78   SA   \n",
      "13 216.58.193.78   SA   \n",
      "14 216.58.193.78   SA   \n",
      "15 216.58.193.78   SA   \n",
      "16 216.58.193.78   SA   \n",
      "17 216.58.193.78   SA   \n",
      "18 216.58.193.78   SA   \n",
      "19 216.58.193.78   SA   \n",
      "20 216.58.193.78   SA   \n"
     ]
    },
    {
     "data": {
      "text/plain": [
       "(<Traceroute: TCP:20 UDP:0 ICMP:0 Other:0>,\n",
       " <Unanswered: TCP:0 UDP:0 ICMP:0 Other:0>)"
      ]
     },
     "execution_count": 9,
     "metadata": {},
     "output_type": "execute_result"
    }
   ],
   "source": [
    "traceroute('google.com', dport=443, maxttl=20)"
   ]
  },
  {
   "cell_type": "markdown",
   "metadata": {},
   "source": [
    "## script your own"
   ]
  },
  {
   "cell_type": "code",
   "execution_count": 10,
   "metadata": {},
   "outputs": [
    {
     "name": "stdout",
     "output_type": "stream",
     "text": [
      "23117\n"
     ]
    }
   ],
   "source": [
    "# use RandShort() to create random src port\n",
    "print(RandShort())"
   ]
  },
  {
   "cell_type": "markdown",
   "metadata": {},
   "source": [
    "### TCP Flag Key\n",
    "- http://rapid.web.unc.edu/resources/tcp-flag-key/"
   ]
  },
  {
   "cell_type": "code",
   "execution_count": 12,
   "metadata": {},
   "outputs": [
    {
     "name": "stdout",
     "output_type": "stream",
     "text": [
      "Begin emission:\n",
      "Finished sending 22 packets.\n",
      "\n",
      "Received 11 packets, got 2 answers, remaining 20 packets\n"
     ]
    }
   ],
   "source": [
    "ans, unans = sr(IP(dst='example.com', ttl=(4,25), id=RandShort())/TCP(dport=80, flags=0x02))"
   ]
  },
  {
   "cell_type": "code",
   "execution_count": 13,
   "metadata": {},
   "outputs": [
    {
     "name": "stdout",
     "output_type": "stream",
     "text": [
      "0000 IP / TCP 192.168.100.4:ftp_data > 93.184.216.34:http S ==> IP / TCP 93.184.216.34:http > 192.168.100.4:ftp_data SA / Padding\n",
      "0001 IP / TCP 192.168.100.4:ftp_data > 93.184.216.34:http S ==> IP / TCP 93.184.216.34:http > 192.168.100.4:ftp_data SA / Padding\n"
     ]
    }
   ],
   "source": [
    "ans.show()"
   ]
  },
  {
   "cell_type": "code",
   "execution_count": 14,
   "metadata": {},
   "outputs": [
    {
     "name": "stdout",
     "output_type": "stream",
     "text": [
      "4 93.184.216.34 True\n",
      "5 93.184.216.34 True\n"
     ]
    }
   ],
   "source": [
    "for snd, rcv in ans:\n",
    "    print(snd.ttl, rcv.src, isinstance(rcv.payload, TCP))"
   ]
  },
  {
   "cell_type": "code",
   "execution_count": 15,
   "metadata": {
    "scrolled": true
   },
   "outputs": [
    {
     "name": "stdout",
     "output_type": "stream",
     "text": [
      "Begin emission:\n",
      "Finished sending 120 packets.\n",
      "Begin emission:\n",
      "Finished sending 20 packets.\n",
      "Begin emission:\n",
      "Finished sending 20 packets.\n",
      "\n",
      "Received 100 packets, got 100 answers, remaining 20 packets\n",
      "   184.86.200.197:tcp443 184.86.200.197:tcp80 23.20.239.12:tcp80 23.63.109.211:tcp443 23.63.109.211:tcp80 \n",
      "1  184.86.200.197  SA    184.86.200.197  SA   23.20.239.12    SA 23.63.109.211   SA   23.63.109.211   SA  \n",
      "2  184.86.200.197  SA    184.86.200.197  SA   23.20.239.12    SA 23.63.109.211   SA   23.63.109.211   SA  \n",
      "3  184.86.200.197  SA    184.86.200.197  SA   23.20.239.12    SA 23.63.109.211   SA   23.63.109.211   SA  \n",
      "4  184.86.200.197  SA    184.86.200.197  SA   23.20.239.12    SA 23.63.109.211   SA   23.63.109.211   SA  \n",
      "5  184.86.200.197  SA    184.86.200.197  SA   23.20.239.12    SA 23.63.109.211   SA   23.63.109.211   SA  \n",
      "6  184.86.200.197  SA    184.86.200.197  SA   23.20.239.12    SA 23.63.109.211   SA   23.63.109.211   SA  \n",
      "7  184.86.200.197  SA    184.86.200.197  SA   23.20.239.12    SA 23.63.109.211   SA   23.63.109.211   SA  \n",
      "8  184.86.200.197  SA    184.86.200.197  SA   23.20.239.12    SA 23.63.109.211   SA   23.63.109.211   SA  \n",
      "9  184.86.200.197  SA    184.86.200.197  SA   23.20.239.12    SA 23.63.109.211   SA   23.63.109.211   SA  \n",
      "10 184.86.200.197  SA    184.86.200.197  SA   23.20.239.12    SA 23.63.109.211   SA   23.63.109.211   SA  \n",
      "11 184.86.200.197  SA    184.86.200.197  SA   23.20.239.12    SA 23.63.109.211   SA   23.63.109.211   SA  \n",
      "12 184.86.200.197  SA    184.86.200.197  SA   23.20.239.12    SA 23.63.109.211   SA   23.63.109.211   SA  \n",
      "13 184.86.200.197  SA    184.86.200.197  SA   23.20.239.12    SA 23.63.109.211   SA   23.63.109.211   SA  \n",
      "14 184.86.200.197  SA    184.86.200.197  SA   23.20.239.12    SA 23.63.109.211   SA   23.63.109.211   SA  \n",
      "15 184.86.200.197  SA    184.86.200.197  SA   23.20.239.12    SA 23.63.109.211   SA   23.63.109.211   SA  \n",
      "16 184.86.200.197  SA    184.86.200.197  SA   23.20.239.12    SA 23.63.109.211   SA   23.63.109.211   SA  \n",
      "17 184.86.200.197  SA    184.86.200.197  SA   23.20.239.12    SA 23.63.109.211   SA   23.63.109.211   SA  \n",
      "18 184.86.200.197  SA    184.86.200.197  SA   23.20.239.12    SA 23.63.109.211   SA   23.63.109.211   SA  \n",
      "19 184.86.200.197  SA    184.86.200.197  SA   23.20.239.12    SA 23.63.109.211   SA   23.63.109.211   SA  \n",
      "20 184.86.200.197  SA    184.86.200.197  SA   23.20.239.12    SA 23.63.109.211   SA   23.63.109.211   SA  \n"
     ]
    }
   ],
   "source": [
    "res, unans = traceroute([\"www.microsoft.com\",\"www.cisco.com\",\"www.pacsec.com\"],dport=[80,443],maxttl=20,retry=-2)"
   ]
  },
  {
   "cell_type": "code",
   "execution_count": 16,
   "metadata": {},
   "outputs": [],
   "source": [
    "res.graph(target=\"graph.svg\")"
   ]
  },
  {
   "cell_type": "markdown",
   "metadata": {
    "collapsed": true
   },
   "source": [
    "<img src=\"graph.svg\">"
   ]
  },
  {
   "cell_type": "code",
   "execution_count": null,
   "metadata": {},
   "outputs": [],
   "source": []
  }
 ],
 "metadata": {
  "kernelspec": {
   "display_name": "Python 3",
   "language": "python",
   "name": "python3"
  },
  "language_info": {
   "codemirror_mode": {
    "name": "ipython",
    "version": 3
   },
   "file_extension": ".py",
   "mimetype": "text/x-python",
   "name": "python",
   "nbconvert_exporter": "python",
   "pygments_lexer": "ipython3",
   "version": "3.7.1"
  }
 },
 "nbformat": 4,
 "nbformat_minor": 2
}
