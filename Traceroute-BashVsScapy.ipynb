{
 "cells": [
  {
   "cell_type": "markdown",
   "metadata": {},
   "source": [
    "# Traceroute\n",
    "## Note: run jupyter with sudo jupyter notebook --allow-root for scapy to work "
   ]
  },
  {
   "cell_type": "markdown",
   "metadata": {},
   "source": [
    "## the bash way"
   ]
  },
  {
   "cell_type": "code",
   "execution_count": 1,
   "metadata": {},
   "outputs": [
    {
     "name": "stdout",
     "output_type": "stream",
     "text": [
      "traceroute to google.com (172.217.12.110), 30 hops max, 60 byte packets\n",
      " 1  192.168.65.1 (192.168.65.1)  0.149 ms  0.085 ms  0.170 ms\n",
      " 2  * * *\n",
      " 3  * * *\n",
      " 4  * * *\n",
      " 5  * * *\n",
      " 6  * * *\n",
      " 7  * * *\n",
      " 8  * * *\n",
      " 9  * * *\n",
      "10  * * *\n",
      "11  * * *\n",
      "12  * * *\n",
      "13  * * *\n",
      "14  * * *\n",
      "15  * * *\n",
      "16  * * *\n",
      "17  * * *\n",
      "18  * * *\n",
      "19  * * *\n",
      "20  * * *\n",
      "21  * * *\n",
      "22  * * *\n",
      "23  * * *\n",
      "24  * * *\n",
      "25  * * *\n",
      "26  * * *\n",
      "27  * * *\n",
      "28  * * *\n",
      "29  * * *\n",
      "30  * * *\n"
     ]
    }
   ],
   "source": [
    "!traceroute google.com"
   ]
  },
  {
   "cell_type": "code",
   "execution_count": null,
   "metadata": {},
   "outputs": [],
   "source": [
    "! route -n "
   ]
  },
  {
   "cell_type": "markdown",
   "metadata": {},
   "source": [
    "##  the Scapy easy way"
   ]
  },
  {
   "cell_type": "code",
   "execution_count": 2,
   "metadata": {},
   "outputs": [],
   "source": [
    "# must run jupyter notebook using sudo\n",
    "from scapy.all import *"
   ]
  },
  {
   "cell_type": "code",
   "execution_count": 3,
   "metadata": {},
   "outputs": [
    {
     "name": "stdout",
     "output_type": "stream",
     "text": [
      "Help on function traceroute in module scapy.layers.inet:\n",
      "\n",
      "traceroute(target, dport=80, minttl=1, maxttl=30, sport=<RandShort>, l4=None, filter=None, timeout=2, verbose=None, **kargs)\n",
      "    Instant TCP traceroute\n",
      "    traceroute(target, [maxttl=30,] [dport=80,] [sport=80,] [verbose=conf.verb]) -> None\n",
      "\n"
     ]
    }
   ],
   "source": [
    "help(traceroute)"
   ]
  },
  {
   "cell_type": "code",
   "execution_count": 4,
   "metadata": {},
   "outputs": [
    {
     "name": "stdout",
     "output_type": "stream",
     "text": [
      "Begin emission:\n",
      "Finished sending 20 packets.\n",
      "\n",
      "Received 20 packets, got 20 answers, remaining 0 packets\n",
      "   64.233.177.103:tcp80 \n",
      "1  64.233.177.103  SA   \n",
      "2  64.233.177.103  SA   \n",
      "3  64.233.177.103  SA   \n",
      "4  64.233.177.103  SA   \n",
      "5  64.233.177.103  SA   \n",
      "6  64.233.177.103  SA   \n",
      "7  64.233.177.103  SA   \n",
      "8  64.233.177.103  SA   \n",
      "9  64.233.177.103  SA   \n",
      "10 64.233.177.103  SA   \n",
      "11 64.233.177.103  SA   \n",
      "12 64.233.177.103  SA   \n",
      "13 64.233.177.103  SA   \n",
      "14 64.233.177.103  SA   \n",
      "15 64.233.177.103  SA   \n",
      "16 64.233.177.103  SA   \n",
      "17 64.233.177.103  SA   \n",
      "18 64.233.177.103  SA   \n",
      "19 64.233.177.103  SA   \n",
      "20 64.233.177.103  SA   \n"
     ]
    },
    {
     "data": {
      "text/plain": [
       "(<Traceroute: TCP:20 UDP:0 ICMP:0 Other:0>,\n",
       " <Unanswered: TCP:0 UDP:0 ICMP:0 Other:0>)"
      ]
     },
     "execution_count": 4,
     "metadata": {},
     "output_type": "execute_result"
    }
   ],
   "source": [
    "traceroute(target=\"www.google.com\", maxttl=20)\n",
    "# Result shows TCP traceroute on default port 80 with (SA - Syn Ack flags)"
   ]
  },
  {
   "cell_type": "code",
   "execution_count": 10,
   "metadata": {},
   "outputs": [
    {
     "name": "stdout",
     "output_type": "stream",
     "text": [
      "Begin emission:\n",
      "Finished sending 20 packets.\n",
      "\n",
      "Received 20 packets, got 20 answers, remaining 0 packets\n",
      "   108.177.122.139:tcp443 \n",
      "1  108.177.122.139 SA     \n",
      "2  108.177.122.139 SA     \n",
      "3  108.177.122.139 SA     \n",
      "4  108.177.122.139 SA     \n",
      "5  108.177.122.139 SA     \n",
      "6  108.177.122.139 SA     \n",
      "7  108.177.122.139 SA     \n",
      "8  108.177.122.139 SA     \n",
      "9  108.177.122.139 SA     \n",
      "10 108.177.122.139 SA     \n",
      "11 108.177.122.139 SA     \n",
      "12 108.177.122.139 SA     \n",
      "13 108.177.122.139 SA     \n",
      "14 108.177.122.139 SA     \n",
      "15 108.177.122.139 SA     \n",
      "16 108.177.122.139 SA     \n",
      "17 108.177.122.139 SA     \n",
      "18 108.177.122.139 SA     \n",
      "19 108.177.122.139 SA     \n",
      "20 108.177.122.139 SA     \n"
     ]
    },
    {
     "data": {
      "text/plain": [
       "(<Traceroute: TCP:20 UDP:0 ICMP:0 Other:0>,\n",
       " <Unanswered: TCP:0 UDP:0 ICMP:0 Other:0>)"
      ]
     },
     "execution_count": 10,
     "metadata": {},
     "output_type": "execute_result"
    }
   ],
   "source": [
    "traceroute('google.com', dport=443, maxttl=20)"
   ]
  },
  {
   "cell_type": "markdown",
   "metadata": {},
   "source": [
    "## script your own"
   ]
  },
  {
   "cell_type": "code",
   "execution_count": 12,
   "metadata": {},
   "outputs": [
    {
     "name": "stdout",
     "output_type": "stream",
     "text": [
      "65433\n"
     ]
    }
   ],
   "source": [
    "print(RandShort())"
   ]
  },
  {
   "cell_type": "markdown",
   "metadata": {},
   "source": [
    "### TCP Flag Key\n",
    "- http://rapid.web.unc.edu/resources/tcp-flag-key/"
   ]
  },
  {
   "cell_type": "code",
   "execution_count": 13,
   "metadata": {},
   "outputs": [
    {
     "name": "stdout",
     "output_type": "stream",
     "text": [
      "Begin emission:\n",
      "Finished sending 22 packets.\n",
      "\n",
      "Received 15 packets, got 1 answers, remaining 21 packets\n"
     ]
    }
   ],
   "source": [
    "ans, unans = sr(IP(dst='www.coloradomesa.edu', ttl=(4,25), id=RandShort())/TCP(dport=80, flags=0x02))"
   ]
  },
  {
   "cell_type": "code",
   "execution_count": 9,
   "metadata": {},
   "outputs": [
    {
     "name": "stdout",
     "output_type": "stream",
     "text": [
      "0000 IP / TCP 192.168.65.13:ftp_data > 72.166.224.167:http S ==> IP / TCP 72.166.224.167:http > 192.168.65.13:ftp_data SA / Padding\n",
      "0001 IP / TCP 192.168.65.13:ftp_data > 72.166.224.167:http S ==> IP / TCP 72.166.224.167:http > 192.168.65.13:ftp_data SA / Padding\n",
      "0002 IP / TCP 192.168.65.13:ftp_data > 72.166.224.167:http S ==> IP / TCP 72.166.224.167:http > 192.168.65.13:ftp_data SA / Padding\n",
      "0003 IP / TCP 192.168.65.13:ftp_data > 72.166.224.167:http S ==> IP / TCP 72.166.224.167:http > 192.168.65.13:ftp_data SA / Padding\n",
      "0004 IP / TCP 192.168.65.13:ftp_data > 72.166.224.167:http S ==> IP / TCP 72.166.224.167:http > 192.168.65.13:ftp_data SA / Padding\n",
      "0005 IP / TCP 192.168.65.13:ftp_data > 72.166.224.167:http S ==> IP / TCP 72.166.224.167:http > 192.168.65.13:ftp_data SA / Padding\n",
      "0006 IP / TCP 192.168.65.13:ftp_data > 72.166.224.167:http S ==> IP / TCP 72.166.224.167:http > 192.168.65.13:ftp_data SA / Padding\n",
      "0007 IP / TCP 192.168.65.13:ftp_data > 72.166.224.167:http S ==> IP / TCP 72.166.224.167:http > 192.168.65.13:ftp_data SA / Padding\n",
      "0008 IP / TCP 192.168.65.13:ftp_data > 72.166.224.167:http S ==> IP / TCP 72.166.224.167:http > 192.168.65.13:ftp_data SA / Padding\n"
     ]
    }
   ],
   "source": [
    "ans.show()"
   ]
  },
  {
   "cell_type": "code",
   "execution_count": 14,
   "metadata": {},
   "outputs": [
    {
     "name": "stdout",
     "output_type": "stream",
     "text": [
      "4 72.166.224.167 True\n"
     ]
    }
   ],
   "source": [
    "for snd, rcv in ans:\n",
    "    print(snd.ttl, rcv.src, isinstance(rcv.payload, TCP))"
   ]
  },
  {
   "cell_type": "code",
   "execution_count": 8,
   "metadata": {
    "scrolled": true
   },
   "outputs": [
    {
     "name": "stdout",
     "output_type": "stream",
     "text": [
      "Begin emission:\n",
      "Finished sending 120 packets.\n",
      "\n",
      "Received 120 packets, got 120 answers, remaining 0 packets\n",
      "   104.70.194.82:tcp443 104.70.194.82:tcp80 23.209.176.243:tcp443 23.209.176.243:tcp80 52.87.45.42:tcp443 52.87.45.42:tcp80  \n",
      "1  104.70.194.82   SA   104.70.194.82   SA  23.209.176.243  SA    23.209.176.243  SA   52.87.45.42     RA 52.87.45.42     SA \n",
      "2  104.70.194.82   SA   104.70.194.82   SA  23.209.176.243  SA    23.209.176.243  SA   52.87.45.42     RA 52.87.45.42     SA \n",
      "3  104.70.194.82   SA   104.70.194.82   SA  23.209.176.243  SA    23.209.176.243  SA   52.87.45.42     RA 52.87.45.42     SA \n",
      "4  104.70.194.82   SA   104.70.194.82   SA  23.209.176.243  SA    23.209.176.243  SA   52.87.45.42     RA 52.87.45.42     SA \n",
      "5  104.70.194.82   SA   104.70.194.82   SA  23.209.176.243  SA    23.209.176.243  SA   52.87.45.42     RA 52.87.45.42     SA \n",
      "6  104.70.194.82   SA   104.70.194.82   SA  23.209.176.243  SA    23.209.176.243  SA   52.87.45.42     RA 52.87.45.42     SA \n",
      "7  104.70.194.82   SA   104.70.194.82   SA  23.209.176.243  SA    23.209.176.243  SA   52.87.45.42     RA 52.87.45.42     SA \n",
      "8  104.70.194.82   SA   104.70.194.82   SA  23.209.176.243  SA    23.209.176.243  SA   52.87.45.42     RA 52.87.45.42     SA \n",
      "9  104.70.194.82   SA   104.70.194.82   SA  23.209.176.243  SA    23.209.176.243  SA   52.87.45.42     RA 52.87.45.42     SA \n",
      "10 104.70.194.82   SA   104.70.194.82   SA  23.209.176.243  SA    23.209.176.243  SA   52.87.45.42     RA 52.87.45.42     SA \n",
      "11 104.70.194.82   SA   104.70.194.82   SA  23.209.176.243  SA    23.209.176.243  SA   52.87.45.42     RA 52.87.45.42     SA \n",
      "12 104.70.194.82   SA   104.70.194.82   SA  23.209.176.243  SA    23.209.176.243  SA   52.87.45.42     RA 52.87.45.42     SA \n",
      "13 104.70.194.82   SA   104.70.194.82   SA  23.209.176.243  SA    23.209.176.243  SA   52.87.45.42     RA 52.87.45.42     SA \n",
      "14 104.70.194.82   SA   104.70.194.82   SA  23.209.176.243  SA    23.209.176.243  SA   52.87.45.42     RA 52.87.45.42     SA \n",
      "15 104.70.194.82   SA   104.70.194.82   SA  23.209.176.243  SA    23.209.176.243  SA   52.87.45.42     RA 52.87.45.42     SA \n",
      "16 104.70.194.82   SA   104.70.194.82   SA  23.209.176.243  SA    23.209.176.243  SA   52.87.45.42     RA 52.87.45.42     SA \n",
      "17 104.70.194.82   SA   104.70.194.82   SA  23.209.176.243  SA    23.209.176.243  SA   52.87.45.42     RA 52.87.45.42     SA \n",
      "18 104.70.194.82   SA   104.70.194.82   SA  23.209.176.243  SA    23.209.176.243  SA   52.87.45.42     RA 52.87.45.42     SA \n",
      "19 104.70.194.82   SA   104.70.194.82   SA  23.209.176.243  SA    23.209.176.243  SA   52.87.45.42     RA 52.87.45.42     SA \n",
      "20 104.70.194.82   SA   104.70.194.82   SA  23.209.176.243  SA    23.209.176.243  SA   52.87.45.42     RA 52.87.45.42     SA \n"
     ]
    }
   ],
   "source": [
    "res, unans = traceroute([\"www.microsoft.com\",\"www.cisco.com\",\"www.pacsec.com\"],dport=[80,443],maxttl=20,retry=-2)"
   ]
  },
  {
   "cell_type": "code",
   "execution_count": 15,
   "metadata": {},
   "outputs": [],
   "source": [
    "res.graph(target=\"graph.svg\")"
   ]
  },
  {
   "cell_type": "code",
   "execution_count": null,
   "metadata": {
    "collapsed": true
   },
   "outputs": [],
   "source": []
  }
 ],
 "metadata": {
  "kernelspec": {
   "display_name": "Python 3",
   "language": "python",
   "name": "python3"
  },
  "language_info": {
   "codemirror_mode": {
    "name": "ipython",
    "version": 3
   },
   "file_extension": ".py",
   "mimetype": "text/x-python",
   "name": "python",
   "nbconvert_exporter": "python",
   "pygments_lexer": "ipython3",
   "version": "3.7.1"
  }
 },
 "nbformat": 4,
 "nbformat_minor": 2
}
