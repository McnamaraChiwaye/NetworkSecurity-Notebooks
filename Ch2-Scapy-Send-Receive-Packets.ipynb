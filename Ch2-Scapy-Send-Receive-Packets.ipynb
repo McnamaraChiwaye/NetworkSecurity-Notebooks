{
 "cells": [
  {
   "cell_type": "markdown",
   "metadata": {},
   "source": [
    "# Sending and Receiving Packets\n",
    "\n",
    "## sniff() function\n",
    "- equivalent to tcpdump and wireshark\n",
    "- also has built-in wireshark function to parse big and complex packet captures\n"
   ]
  },
  {
   "cell_type": "code",
   "execution_count": 1,
   "metadata": {},
   "outputs": [],
   "source": [
    "from scapy.all import *"
   ]
  },
  {
   "cell_type": "code",
   "execution_count": 3,
   "metadata": {},
   "outputs": [],
   "source": [
    "conf.verb=1\n",
    "conf.color_theme = RastaTheme()"
   ]
  },
  {
   "cell_type": "code",
   "execution_count": 47,
   "metadata": {},
   "outputs": [
    {
     "name": "stdout",
     "output_type": "stream",
     "text": [
      "Help on function sniff in module scapy.sendrecv:\n",
      "\n",
      "sniff(count=0, store=True, offline=None, prn=None, lfilter=None, L2socket=None, timeout=None, opened_socket=None, stop_filter=None, iface=None, *arg, **karg)\n",
      "    Sniff packets and return a list of packets.\n",
      "    \n",
      "    Arguments:\n",
      "    \n",
      "      count: number of packets to capture. 0 means infinity.\n",
      "    \n",
      "      store: whether to store sniffed packets or discard them\n",
      "    \n",
      "      prn: function to apply to each packet. If something is returned, it\n",
      "          is displayed.\n",
      "    \n",
      "          Ex: prn = lambda x: x.summary()\n",
      "    \n",
      "      filter: BPF filter to apply.\n",
      "    \n",
      "      lfilter: Python function applied to each packet to determine if\n",
      "          further action may be done.\n",
      "    \n",
      "          Ex: lfilter = lambda x: x.haslayer(Padding)\n",
      "    \n",
      "      offline: PCAP file (or list of PCAP files) to read packets from,\n",
      "          instead of sniffing them\n",
      "    \n",
      "      timeout: stop sniffing after a given time (default: None).\n",
      "    \n",
      "      L2socket: use the provided L2socket (default: use conf.L2listen).\n",
      "    \n",
      "      opened_socket: provide an object (or a list of objects) ready to use\n",
      "          .recv() on.\n",
      "    \n",
      "      stop_filter: Python function applied to each packet to determine if\n",
      "          we have to stop the capture after this packet.\n",
      "    \n",
      "          Ex: stop_filter = lambda x: x.haslayer(TCP)\n",
      "    \n",
      "      iface: interface or list of interfaces (default: None for sniffing\n",
      "          on all interfaces).\n",
      "    \n",
      "    The iface, offline and opened_socket parameters can be either an\n",
      "    element, a list of elements, or a dict object mapping an element to a\n",
      "    label (see examples below).\n",
      "    \n",
      "    Examples:\n",
      "    \n",
      "      >>> sniff(filter=\"arp\")\n",
      "    \n",
      "      >>> sniff(lfilter=lambda pkt: ARP in pkt)\n",
      "    \n",
      "      >>> sniff(iface=\"eth0\", prn=Packet.summary)\n",
      "    \n",
      "      >>> sniff(iface=[\"eth0\", \"mon0\"],\n",
      "      ...       prn=lambda pkt: \"%s: %s\" % (pkt.sniffed_on,\n",
      "      ...                                   pkt.summary()))\n",
      "    \n",
      "      >>> sniff(iface={\"eth0\": \"Ethernet\", \"mon0\": \"Wifi\"},\n",
      "      ...       prn=lambda pkt: \"%s: %s\" % (pkt.sniffed_on,\n",
      "      ...                                   pkt.summary()))\n",
      "\n"
     ]
    }
   ],
   "source": [
    "help(sniff)"
   ]
  },
  {
   "cell_type": "code",
   "execution_count": 4,
   "metadata": {},
   "outputs": [],
   "source": [
    "# note: run ping google.com on a terminal to generate icmp packets\n",
    "pkts = sniff(count=2, filter=\"icmp\")"
   ]
  },
  {
   "cell_type": "code",
   "execution_count": 6,
   "metadata": {},
   "outputs": [
    {
     "data": {
      "text/plain": [
       "\u001b[31m<\u001b[0m\u001b[32m\u001b[1m\u001b[31m\u001b[1mSniffed\u001b[0m\u001b[32m\u001b[1m\u001b[31m:\u001b[0m\u001b[32m\u001b[1m \u001b[33m\u001b[1mTCP\u001b[0m\u001b[32m\u001b[1m\u001b[31m:\u001b[0m\u001b[32m\u001b[1m\u001b[32m\u001b[1m0\u001b[0m\u001b[32m\u001b[1m \u001b[33m\u001b[1mUDP\u001b[0m\u001b[32m\u001b[1m\u001b[31m:\u001b[0m\u001b[32m\u001b[1m\u001b[32m\u001b[1m0\u001b[0m\u001b[32m\u001b[1m \u001b[33m\u001b[1mICMP\u001b[0m\u001b[32m\u001b[1m\u001b[31m:\u001b[0m\u001b[32m\u001b[1m\u001b[32m\u001b[1m2\u001b[0m\u001b[32m\u001b[1m \u001b[33m\u001b[1mOther\u001b[0m\u001b[32m\u001b[1m\u001b[31m:\u001b[0m\u001b[32m\u001b[1m\u001b[32m\u001b[1m0\u001b[0m\u001b[32m\u001b[1m\u001b[31m>\u001b[0m\u001b[32m\u001b[1m"
      ]
     },
     "execution_count": 6,
     "metadata": {},
     "output_type": "execute_result"
    }
   ],
   "source": [
    "pkts"
   ]
  },
  {
   "cell_type": "code",
   "execution_count": 7,
   "metadata": {},
   "outputs": [
    {
     "name": "stdout",
     "output_type": "stream",
     "text": [
      "Ether / IP / ICMP 192.168.1.135 > 172.217.2.46 echo-request 0 / Raw\n",
      "Ether / IP / ICMP 172.217.2.46 > 192.168.1.135 echo-reply 0 / Raw\n"
     ]
    }
   ],
   "source": [
    "pkts.summary()"
   ]
  },
  {
   "cell_type": "code",
   "execution_count": 8,
   "metadata": {},
   "outputs": [
    {
     "name": "stdout",
     "output_type": "stream",
     "text": [
      "\u001b[32m\u001b[1m0000\u001b[0m\u001b[32m\u001b[1m Ether / IP / ICMP 192.168.1.135 > 172.217.2.46 echo-request 0 / Raw\n",
      "\u001b[32m\u001b[1m0001\u001b[0m\u001b[32m\u001b[1m Ether / IP / ICMP 172.217.2.46 > 192.168.1.135 echo-reply 0 / Raw\n"
     ]
    }
   ],
   "source": [
    "pkts.show()"
   ]
  },
  {
   "cell_type": "code",
   "execution_count": 9,
   "metadata": {},
   "outputs": [
    {
     "name": "stdout",
     "output_type": "stream",
     "text": [
      "\u001b[31m###[\u001b[0m\u001b[32m\u001b[1m \u001b[31m\u001b[1mEthernet\u001b[0m\u001b[32m\u001b[1m \u001b[31m]###\u001b[0m\u001b[32m\u001b[1m \n",
      "  \u001b[33m\u001b[1mdst\u001b[0m\u001b[32m\u001b[1m\u001b[31m=\u001b[0m\u001b[32m\u001b[1m \u001b[32m\u001b[1m94:10:3e:83:59:9b\u001b[0m\u001b[32m\u001b[1m\n",
      "  \u001b[33m\u001b[1msrc\u001b[0m\u001b[32m\u001b[1m\u001b[31m=\u001b[0m\u001b[32m\u001b[1m \u001b[32m\u001b[1m08:00:27:ce:4f:bd\u001b[0m\u001b[32m\u001b[1m\n",
      "  \u001b[33m\u001b[1mtype\u001b[0m\u001b[32m\u001b[1m\u001b[31m=\u001b[0m\u001b[32m\u001b[1m \u001b[32m\u001b[1m0x800\u001b[0m\u001b[32m\u001b[1m\n",
      "\u001b[31m###[\u001b[0m\u001b[32m\u001b[1m \u001b[31m\u001b[1mIP\u001b[0m\u001b[32m\u001b[1m \u001b[31m]###\u001b[0m\u001b[32m\u001b[1m \n",
      "     \u001b[33m\u001b[1mversion\u001b[0m\u001b[32m\u001b[1m\u001b[31m=\u001b[0m\u001b[32m\u001b[1m \u001b[32m\u001b[1m4\u001b[0m\u001b[32m\u001b[1m\n",
      "     \u001b[33m\u001b[1mihl\u001b[0m\u001b[32m\u001b[1m\u001b[31m=\u001b[0m\u001b[32m\u001b[1m \u001b[32m\u001b[1m5\u001b[0m\u001b[32m\u001b[1m\n",
      "     \u001b[33m\u001b[1mtos\u001b[0m\u001b[32m\u001b[1m\u001b[31m=\u001b[0m\u001b[32m\u001b[1m \u001b[32m\u001b[1m0x0\u001b[0m\u001b[32m\u001b[1m\n",
      "     \u001b[33m\u001b[1mlen\u001b[0m\u001b[32m\u001b[1m\u001b[31m=\u001b[0m\u001b[32m\u001b[1m \u001b[32m\u001b[1m84\u001b[0m\u001b[32m\u001b[1m\n",
      "     \u001b[33m\u001b[1mid\u001b[0m\u001b[32m\u001b[1m\u001b[31m=\u001b[0m\u001b[32m\u001b[1m \u001b[32m\u001b[1m8622\u001b[0m\u001b[32m\u001b[1m\n",
      "     \u001b[33m\u001b[1mflags\u001b[0m\u001b[32m\u001b[1m\u001b[31m=\u001b[0m\u001b[32m\u001b[1m \u001b[32m\u001b[1mDF\u001b[0m\u001b[32m\u001b[1m\n",
      "     \u001b[33m\u001b[1mfrag\u001b[0m\u001b[32m\u001b[1m\u001b[31m=\u001b[0m\u001b[32m\u001b[1m \u001b[32m\u001b[1m0\u001b[0m\u001b[32m\u001b[1m\n",
      "     \u001b[33m\u001b[1mttl\u001b[0m\u001b[32m\u001b[1m\u001b[31m=\u001b[0m\u001b[32m\u001b[1m \u001b[32m\u001b[1m64\u001b[0m\u001b[32m\u001b[1m\n",
      "     \u001b[33m\u001b[1mproto\u001b[0m\u001b[32m\u001b[1m\u001b[31m=\u001b[0m\u001b[32m\u001b[1m \u001b[32m\u001b[1micmp\u001b[0m\u001b[32m\u001b[1m\n",
      "     \u001b[33m\u001b[1mchksum\u001b[0m\u001b[32m\u001b[1m\u001b[31m=\u001b[0m\u001b[32m\u001b[1m \u001b[32m\u001b[1m0xa7c4\u001b[0m\u001b[32m\u001b[1m\n",
      "     \u001b[32msrc\u001b[0m\u001b[32m\u001b[1m\u001b[31m=\u001b[0m\u001b[32m\u001b[1m \u001b[32m192.168.1.135\u001b[0m\u001b[32m\u001b[1m\n",
      "     \u001b[32mdst\u001b[0m\u001b[32m\u001b[1m\u001b[31m=\u001b[0m\u001b[32m\u001b[1m \u001b[32m172.217.2.46\u001b[0m\u001b[32m\u001b[1m\n",
      "     \\\u001b[33m\u001b[1moptions\u001b[0m\u001b[32m\u001b[1m\\\n",
      "\u001b[31m###[\u001b[0m\u001b[32m\u001b[1m \u001b[31m\u001b[1mICMP\u001b[0m\u001b[32m\u001b[1m \u001b[31m]###\u001b[0m\u001b[32m\u001b[1m \n",
      "        \u001b[33m\u001b[1mtype\u001b[0m\u001b[32m\u001b[1m\u001b[31m=\u001b[0m\u001b[32m\u001b[1m \u001b[32m\u001b[1mecho-request\u001b[0m\u001b[32m\u001b[1m\n",
      "        \u001b[33m\u001b[1mcode\u001b[0m\u001b[32m\u001b[1m\u001b[31m=\u001b[0m\u001b[32m\u001b[1m \u001b[32m\u001b[1m0\u001b[0m\u001b[32m\u001b[1m\n",
      "        \u001b[33m\u001b[1mchksum\u001b[0m\u001b[32m\u001b[1m\u001b[31m=\u001b[0m\u001b[32m\u001b[1m \u001b[32m\u001b[1m0xcd4f\u001b[0m\u001b[32m\u001b[1m\n",
      "        \u001b[33m\u001b[1mid\u001b[0m\u001b[32m\u001b[1m\u001b[31m=\u001b[0m\u001b[32m\u001b[1m \u001b[32m\u001b[1m0x777a\u001b[0m\u001b[32m\u001b[1m\n",
      "        \u001b[33m\u001b[1mseq\u001b[0m\u001b[32m\u001b[1m\u001b[31m=\u001b[0m\u001b[32m\u001b[1m \u001b[32m\u001b[1m0x1\u001b[0m\u001b[32m\u001b[1m\n",
      "\u001b[31m###[\u001b[0m\u001b[32m\u001b[1m \u001b[31m\u001b[1mRaw\u001b[0m\u001b[32m\u001b[1m \u001b[31m]###\u001b[0m\u001b[32m\u001b[1m \n",
      "           \u001b[33m\u001b[1mload\u001b[0m\u001b[32m\u001b[1m\u001b[31m=\u001b[0m\u001b[32m\u001b[1m \u001b[32m\u001b[1m'\\xb6\\x85\\xa0[hP\\t\\x00\\x08\\t\\n\\x0b\\x0c\\r\\x0e\\x0f\\x10\\x11\\x12\\x13\\x14\\x15\\x16\\x17\\x18\\x19\\x1a\\x1b\\x1c\\x1d\\x1e\\x1f !\"#$%&\\'()*+,-./01234567'\u001b[0m\u001b[32m\u001b[1m\n",
      "\n"
     ]
    }
   ],
   "source": [
    "pkts[0].show()"
   ]
  },
  {
   "cell_type": "code",
   "execution_count": 10,
   "metadata": {},
   "outputs": [
    {
     "name": "stdout",
     "output_type": "stream",
     "text": [
      "0000  94103E83599B080027CE4FBD08004500 \u001b[32m.\u001b[0m\u001b[32m\u001b[1m\u001b[32m.\u001b[0m\u001b[32m\u001b[1m>\u001b[32m.\u001b[0m\u001b[32m\u001b[1mY\u001b[32m.\u001b[0m\u001b[32m\u001b[1m\u001b[32m.\u001b[0m\u001b[32m\u001b[1m\u001b[32m.\u001b[0m\u001b[32m\u001b[1m'\u001b[32m.\u001b[0m\u001b[32m\u001b[1mO\u001b[32m.\u001b[0m\u001b[32m\u001b[1m\u001b[32m.\u001b[0m\u001b[32m\u001b[1m\u001b[32m.\u001b[0m\u001b[32m\u001b[1mE\u001b[32m.\u001b[0m\u001b[32m\u001b[1m\n",
      "0010  005421AE40004001A7C4C0A80187ACD9 \u001b[32m.\u001b[0m\u001b[32m\u001b[1mT!\u001b[32m.\u001b[0m\u001b[32m\u001b[1m@\u001b[32m.\u001b[0m\u001b[32m\u001b[1m@\u001b[32m.\u001b[0m\u001b[32m\u001b[1m\u001b[32m.\u001b[0m\u001b[32m\u001b[1m\u001b[32m.\u001b[0m\u001b[32m\u001b[1m\u001b[32m.\u001b[0m\u001b[32m\u001b[1m\u001b[32m.\u001b[0m\u001b[32m\u001b[1m\u001b[32m.\u001b[0m\u001b[32m\u001b[1m\u001b[32m.\u001b[0m\u001b[32m\u001b[1m\u001b[32m.\u001b[0m\u001b[32m\u001b[1m\u001b[32m.\u001b[0m\u001b[32m\u001b[1m\n",
      "0020  022E0800CD4F777A0001B685A05B6850 \u001b[32m.\u001b[0m\u001b[32m\u001b[1m.\u001b[32m.\u001b[0m\u001b[32m\u001b[1m\u001b[32m.\u001b[0m\u001b[32m\u001b[1m\u001b[32m.\u001b[0m\u001b[32m\u001b[1mOwz\u001b[32m.\u001b[0m\u001b[32m\u001b[1m\u001b[32m.\u001b[0m\u001b[32m\u001b[1m\u001b[32m.\u001b[0m\u001b[32m\u001b[1m\u001b[32m.\u001b[0m\u001b[32m\u001b[1m\u001b[32m.\u001b[0m\u001b[32m\u001b[1m[hP\n",
      "0030  090008090A0B0C0D0E0F101112131415 \u001b[32m.\u001b[0m\u001b[32m\u001b[1m\u001b[32m.\u001b[0m\u001b[32m\u001b[1m\u001b[32m.\u001b[0m\u001b[32m\u001b[1m\u001b[32m.\u001b[0m\u001b[32m\u001b[1m\u001b[32m.\u001b[0m\u001b[32m\u001b[1m\u001b[32m.\u001b[0m\u001b[32m\u001b[1m\u001b[32m.\u001b[0m\u001b[32m\u001b[1m\u001b[32m.\u001b[0m\u001b[32m\u001b[1m\u001b[32m.\u001b[0m\u001b[32m\u001b[1m\u001b[32m.\u001b[0m\u001b[32m\u001b[1m\u001b[32m.\u001b[0m\u001b[32m\u001b[1m\u001b[32m.\u001b[0m\u001b[32m\u001b[1m\u001b[32m.\u001b[0m\u001b[32m\u001b[1m\u001b[32m.\u001b[0m\u001b[32m\u001b[1m\u001b[32m.\u001b[0m\u001b[32m\u001b[1m\u001b[32m.\u001b[0m\u001b[32m\u001b[1m\n",
      "0040  161718191A1B1C1D1E1F202122232425 \u001b[32m.\u001b[0m\u001b[32m\u001b[1m\u001b[32m.\u001b[0m\u001b[32m\u001b[1m\u001b[32m.\u001b[0m\u001b[32m\u001b[1m\u001b[32m.\u001b[0m\u001b[32m\u001b[1m\u001b[32m.\u001b[0m\u001b[32m\u001b[1m\u001b[32m.\u001b[0m\u001b[32m\u001b[1m\u001b[32m.\u001b[0m\u001b[32m\u001b[1m\u001b[32m.\u001b[0m\u001b[32m\u001b[1m\u001b[32m.\u001b[0m\u001b[32m\u001b[1m\u001b[32m.\u001b[0m\u001b[32m\u001b[1m !\"#$%\n",
      "0050  262728292A2B2C2D2E2F303132333435 &'()*+,-./012345\n",
      "0060  3637                             67\n"
     ]
    }
   ],
   "source": [
    "hexdump(pkts[0])"
   ]
  },
  {
   "cell_type": "code",
   "execution_count": 11,
   "metadata": {},
   "outputs": [
    {
     "data": {
      "text/plain": [
       "'Ether(dst=\\'94:10:3e:83:59:9b\\', type=2048, src=\\'08:00:27:ce:4f:bd\\')/IP(flags=2, version=4, ihl=5, dst=\\'172.217.2.46\\', options=[], len=84, tos=0, ttl=64, src=\\'192.168.1.135\\', chksum=42948, id=8622, frag=0, proto=1)/ICMP(ptr=None, ts_ori=None, length=None, code=0, unused=None, seq=1, addr_mask=None, nexthopmtu=None, reserved=None, ts_rx=None, ts_tx=None, chksum=52559, id=30586, type=8, gw=None)/Raw(load=b\\'\\\\xb6\\\\x85\\\\xa0[hP\\\\t\\\\x00\\\\x08\\\\t\\\\n\\\\x0b\\\\x0c\\\\r\\\\x0e\\\\x0f\\\\x10\\\\x11\\\\x12\\\\x13\\\\x14\\\\x15\\\\x16\\\\x17\\\\x18\\\\x19\\\\x1a\\\\x1b\\\\x1c\\\\x1d\\\\x1e\\\\x1f !\"#$%&\\\\\\'()*+,-./01234567\\')'"
      ]
     },
     "execution_count": 11,
     "metadata": {},
     "output_type": "execute_result"
    }
   ],
   "source": [
    "pkts[0].command()"
   ]
  },
  {
   "cell_type": "markdown",
   "metadata": {},
   "source": [
    "## Sniffing ARP packets \n",
    "### Generate ARP packets using arping\n",
    "1. open a terminal and run $ arping [ip of another vm/gateway]\n",
    "2. sniff the packets using scapy"
   ]
  },
  {
   "cell_type": "code",
   "execution_count": 14,
   "metadata": {},
   "outputs": [
    {
     "data": {
      "text/plain": [
       "\u001b[31m<\u001b[0m\u001b[32m\u001b[1m\u001b[31m\u001b[1mSniffed\u001b[0m\u001b[32m\u001b[1m\u001b[31m:\u001b[0m\u001b[32m\u001b[1m \u001b[33m\u001b[1mTCP\u001b[0m\u001b[32m\u001b[1m\u001b[31m:\u001b[0m\u001b[32m\u001b[1m\u001b[32m\u001b[1m0\u001b[0m\u001b[32m\u001b[1m \u001b[33m\u001b[1mUDP\u001b[0m\u001b[32m\u001b[1m\u001b[31m:\u001b[0m\u001b[32m\u001b[1m\u001b[32m\u001b[1m0\u001b[0m\u001b[32m\u001b[1m \u001b[33m\u001b[1mICMP\u001b[0m\u001b[32m\u001b[1m\u001b[31m:\u001b[0m\u001b[32m\u001b[1m\u001b[32m\u001b[1m0\u001b[0m\u001b[32m\u001b[1m \u001b[33m\u001b[1mOther\u001b[0m\u001b[32m\u001b[1m\u001b[31m:\u001b[0m\u001b[32m\u001b[1m\u001b[32m\u001b[1m5\u001b[0m\u001b[32m\u001b[1m\u001b[31m>\u001b[0m\u001b[32m\u001b[1m"
      ]
     },
     "execution_count": 14,
     "metadata": {},
     "output_type": "execute_result"
    }
   ],
   "source": [
    "# ping a non-existant private ip or gateway or use arping\n",
    "pkts = sniff(count=5, filter=\"arp\")\n",
    "pkts"
   ]
  },
  {
   "cell_type": "code",
   "execution_count": 15,
   "metadata": {},
   "outputs": [
    {
     "name": "stdout",
     "output_type": "stream",
     "text": [
      "Ether / ARP who has 192.168.1.100 says 192.168.1.135\n",
      "Ether / ARP who has 192.168.1.100 says 192.168.1.135\n",
      "Ether / ARP who has 192.168.1.100 says 192.168.1.135\n",
      "Ether / ARP who has 192.168.1.100 says 192.168.1.135\n",
      "Ether / ARP who has 192.168.1.100 says 192.168.1.135\n"
     ]
    }
   ],
   "source": [
    "pkts.summary()"
   ]
  },
  {
   "cell_type": "code",
   "execution_count": 16,
   "metadata": {},
   "outputs": [
    {
     "name": "stdout",
     "output_type": "stream",
     "text": [
      "\u001b[31m###[\u001b[0m\u001b[32m\u001b[1m \u001b[31m\u001b[1mEthernet\u001b[0m\u001b[32m\u001b[1m \u001b[31m]###\u001b[0m\u001b[32m\u001b[1m \n",
      "  \u001b[33m\u001b[1mdst\u001b[0m\u001b[32m\u001b[1m\u001b[31m=\u001b[0m\u001b[32m\u001b[1m \u001b[32m\u001b[1mff:ff:ff:ff:ff:ff\u001b[0m\u001b[32m\u001b[1m\n",
      "  \u001b[33m\u001b[1msrc\u001b[0m\u001b[32m\u001b[1m\u001b[31m=\u001b[0m\u001b[32m\u001b[1m \u001b[32m\u001b[1m08:00:27:ce:4f:bd\u001b[0m\u001b[32m\u001b[1m\n",
      "  \u001b[33m\u001b[1mtype\u001b[0m\u001b[32m\u001b[1m\u001b[31m=\u001b[0m\u001b[32m\u001b[1m \u001b[32m\u001b[1m0x806\u001b[0m\u001b[32m\u001b[1m\n",
      "\u001b[31m###[\u001b[0m\u001b[32m\u001b[1m \u001b[31m\u001b[1mARP\u001b[0m\u001b[32m\u001b[1m \u001b[31m]###\u001b[0m\u001b[32m\u001b[1m \n",
      "     \u001b[33m\u001b[1mhwtype\u001b[0m\u001b[32m\u001b[1m\u001b[31m=\u001b[0m\u001b[32m\u001b[1m \u001b[32m\u001b[1m0x1\u001b[0m\u001b[32m\u001b[1m\n",
      "     \u001b[33m\u001b[1mptype\u001b[0m\u001b[32m\u001b[1m\u001b[31m=\u001b[0m\u001b[32m\u001b[1m \u001b[32m\u001b[1m0x800\u001b[0m\u001b[32m\u001b[1m\n",
      "     \u001b[33m\u001b[1mhwlen\u001b[0m\u001b[32m\u001b[1m\u001b[31m=\u001b[0m\u001b[32m\u001b[1m \u001b[32m\u001b[1m6\u001b[0m\u001b[32m\u001b[1m\n",
      "     \u001b[33m\u001b[1mplen\u001b[0m\u001b[32m\u001b[1m\u001b[31m=\u001b[0m\u001b[32m\u001b[1m \u001b[32m\u001b[1m4\u001b[0m\u001b[32m\u001b[1m\n",
      "     \u001b[33m\u001b[1mop\u001b[0m\u001b[32m\u001b[1m\u001b[31m=\u001b[0m\u001b[32m\u001b[1m \u001b[32m\u001b[1mwho-has\u001b[0m\u001b[32m\u001b[1m\n",
      "     \u001b[33m\u001b[1mhwsrc\u001b[0m\u001b[32m\u001b[1m\u001b[31m=\u001b[0m\u001b[32m\u001b[1m \u001b[32m\u001b[1m08:00:27:ce:4f:bd\u001b[0m\u001b[32m\u001b[1m\n",
      "     \u001b[33m\u001b[1mpsrc\u001b[0m\u001b[32m\u001b[1m\u001b[31m=\u001b[0m\u001b[32m\u001b[1m \u001b[32m\u001b[1m192.168.1.135\u001b[0m\u001b[32m\u001b[1m\n",
      "     \u001b[33m\u001b[1mhwdst\u001b[0m\u001b[32m\u001b[1m\u001b[31m=\u001b[0m\u001b[32m\u001b[1m \u001b[32m\u001b[1m00:00:00:00:00:00\u001b[0m\u001b[32m\u001b[1m\n",
      "     \u001b[33m\u001b[1mpdst\u001b[0m\u001b[32m\u001b[1m\u001b[31m=\u001b[0m\u001b[32m\u001b[1m \u001b[32m\u001b[1m192.168.1.100\u001b[0m\u001b[32m\u001b[1m\n",
      "\n"
     ]
    }
   ],
   "source": [
    "pkts[0].show()"
   ]
  },
  {
   "cell_type": "code",
   "execution_count": 17,
   "metadata": {},
   "outputs": [
    {
     "data": {
      "text/plain": [
       "\"Ether(dst='ff:ff:ff:ff:ff:ff', type=2054, src='08:00:27:ce:4f:bd')/ARP(hwsrc='08:00:27:ce:4f:bd', ptype=2048, plen=4, op=1, hwtype=1, hwlen=6, pdst='192.168.1.100', hwdst='00:00:00:00:00:00', psrc='192.168.1.135')\""
      ]
     },
     "execution_count": 17,
     "metadata": {},
     "output_type": "execute_result"
    }
   ],
   "source": [
    "pkts[0].command()"
   ]
  },
  {
   "cell_type": "markdown",
   "metadata": {},
   "source": [
    "## Building a Packet\n",
    "- build ARP packet which has two layers - Ether and ARP"
   ]
  },
  {
   "cell_type": "code",
   "execution_count": 12,
   "metadata": {},
   "outputs": [
    {
     "name": "stdout",
     "output_type": "stream",
     "text": [
      "dst        : DestMACField         = (None)\n",
      "src        : SourceMACField       = (None)\n",
      "type       : XShortEnumField      = (36864)\n"
     ]
    }
   ],
   "source": [
    "ls(Ether)"
   ]
  },
  {
   "cell_type": "code",
   "execution_count": 13,
   "metadata": {},
   "outputs": [
    {
     "name": "stdout",
     "output_type": "stream",
     "text": [
      "hwtype     : XShortField          = (1)\n",
      "ptype      : XShortEnumField      = (2048)\n",
      "hwlen      : ByteField            = (6)\n",
      "plen       : ByteField            = (4)\n",
      "op         : ShortEnumField       = (1)\n",
      "hwsrc      : ARPSourceMACField    = (None)\n",
      "psrc       : SourceIPField        = (None)\n",
      "hwdst      : MACField             = ('00:00:00:00:00:00')\n",
      "pdst       : IPField              = ('0.0.0.0')\n"
     ]
    }
   ],
   "source": [
    "ls(ARP)"
   ]
  },
  {
   "cell_type": "markdown",
   "metadata": {},
   "source": [
    "## Stacking Layers to build packets"
   ]
  },
  {
   "cell_type": "code",
   "execution_count": 18,
   "metadata": {},
   "outputs": [],
   "source": [
    "arpPkt = Ether()/ARP()"
   ]
  },
  {
   "cell_type": "code",
   "execution_count": 19,
   "metadata": {},
   "outputs": [
    {
     "name": "stdout",
     "output_type": "stream",
     "text": [
      "\u001b[31m###[\u001b[0m\u001b[32m\u001b[1m \u001b[31m\u001b[1mEthernet\u001b[0m\u001b[32m\u001b[1m \u001b[31m]###\u001b[0m\u001b[32m\u001b[1m \n",
      "  \u001b[33m\u001b[1mdst\u001b[0m\u001b[32m\u001b[1m\u001b[31m=\u001b[0m\u001b[32m\u001b[1m \u001b[32m\u001b[1m94:10:3e:83:59:9b\u001b[0m\u001b[32m\u001b[1m\n",
      "  \u001b[33m\u001b[1msrc\u001b[0m\u001b[32m\u001b[1m\u001b[31m=\u001b[0m\u001b[32m\u001b[1m \u001b[32m\u001b[1m08:00:27:ce:4f:bd\u001b[0m\u001b[32m\u001b[1m\n",
      "  \u001b[33m\u001b[1mtype\u001b[0m\u001b[32m\u001b[1m\u001b[31m=\u001b[0m\u001b[32m\u001b[1m \u001b[32m\u001b[1m0x806\u001b[0m\u001b[32m\u001b[1m\n",
      "\u001b[31m###[\u001b[0m\u001b[32m\u001b[1m \u001b[31m\u001b[1mARP\u001b[0m\u001b[32m\u001b[1m \u001b[31m]###\u001b[0m\u001b[32m\u001b[1m \n",
      "     \u001b[33m\u001b[1mhwtype\u001b[0m\u001b[32m\u001b[1m\u001b[31m=\u001b[0m\u001b[32m\u001b[1m \u001b[32m\u001b[1m0x1\u001b[0m\u001b[32m\u001b[1m\n",
      "     \u001b[33m\u001b[1mptype\u001b[0m\u001b[32m\u001b[1m\u001b[31m=\u001b[0m\u001b[32m\u001b[1m \u001b[32m\u001b[1m0x800\u001b[0m\u001b[32m\u001b[1m\n",
      "     \u001b[33m\u001b[1mhwlen\u001b[0m\u001b[32m\u001b[1m\u001b[31m=\u001b[0m\u001b[32m\u001b[1m \u001b[32m\u001b[1m6\u001b[0m\u001b[32m\u001b[1m\n",
      "     \u001b[33m\u001b[1mplen\u001b[0m\u001b[32m\u001b[1m\u001b[31m=\u001b[0m\u001b[32m\u001b[1m \u001b[32m\u001b[1m4\u001b[0m\u001b[32m\u001b[1m\n",
      "     \u001b[33m\u001b[1mop\u001b[0m\u001b[32m\u001b[1m\u001b[31m=\u001b[0m\u001b[32m\u001b[1m \u001b[32m\u001b[1mwho-has\u001b[0m\u001b[32m\u001b[1m\n",
      "     \u001b[33m\u001b[1mhwsrc\u001b[0m\u001b[32m\u001b[1m\u001b[31m=\u001b[0m\u001b[32m\u001b[1m \u001b[32m\u001b[1m08:00:27:ce:4f:bd\u001b[0m\u001b[32m\u001b[1m\n",
      "     \u001b[33m\u001b[1mpsrc\u001b[0m\u001b[32m\u001b[1m\u001b[31m=\u001b[0m\u001b[32m\u001b[1m \u001b[32m\u001b[1m192.168.1.135\u001b[0m\u001b[32m\u001b[1m\n",
      "     \u001b[33m\u001b[1mhwdst\u001b[0m\u001b[32m\u001b[1m\u001b[31m=\u001b[0m\u001b[32m\u001b[1m \u001b[32m\u001b[1m00:00:00:00:00:00\u001b[0m\u001b[32m\u001b[1m\n",
      "     \u001b[33m\u001b[1mpdst\u001b[0m\u001b[32m\u001b[1m\u001b[31m=\u001b[0m\u001b[32m\u001b[1m \u001b[32m\u001b[1m0.0.0.0\u001b[0m\u001b[32m\u001b[1m\n",
      "\n"
     ]
    }
   ],
   "source": [
    "arpPkt.show()"
   ]
  },
  {
   "cell_type": "code",
   "execution_count": 20,
   "metadata": {},
   "outputs": [],
   "source": [
    "# Change Ethernet protocol's destination field to broadcase MAC address\n",
    "arpPkt['Ethernet'].dst= 'FF:FF:FF:FF:FF:FF'"
   ]
  },
  {
   "cell_type": "code",
   "execution_count": 21,
   "metadata": {},
   "outputs": [
    {
     "name": "stdout",
     "output_type": "stream",
     "text": [
      "\u001b[31m###[\u001b[0m\u001b[32m\u001b[1m \u001b[31m\u001b[1mEthernet\u001b[0m\u001b[32m\u001b[1m \u001b[31m]###\u001b[0m\u001b[32m\u001b[1m \n",
      "  \u001b[33m\u001b[1mdst\u001b[0m\u001b[32m\u001b[1m\u001b[31m=\u001b[0m\u001b[32m\u001b[1m \u001b[32m\u001b[1mFF:FF:FF:FF:FF:FF\u001b[0m\u001b[32m\u001b[1m\n",
      "  \u001b[33m\u001b[1msrc\u001b[0m\u001b[32m\u001b[1m\u001b[31m=\u001b[0m\u001b[32m\u001b[1m \u001b[32m\u001b[1m08:00:27:ce:4f:bd\u001b[0m\u001b[32m\u001b[1m\n",
      "  \u001b[33m\u001b[1mtype\u001b[0m\u001b[32m\u001b[1m\u001b[31m=\u001b[0m\u001b[32m\u001b[1m \u001b[32m\u001b[1m0x806\u001b[0m\u001b[32m\u001b[1m\n",
      "\u001b[31m###[\u001b[0m\u001b[32m\u001b[1m \u001b[31m\u001b[1mARP\u001b[0m\u001b[32m\u001b[1m \u001b[31m]###\u001b[0m\u001b[32m\u001b[1m \n",
      "     \u001b[33m\u001b[1mhwtype\u001b[0m\u001b[32m\u001b[1m\u001b[31m=\u001b[0m\u001b[32m\u001b[1m \u001b[32m\u001b[1m0x1\u001b[0m\u001b[32m\u001b[1m\n",
      "     \u001b[33m\u001b[1mptype\u001b[0m\u001b[32m\u001b[1m\u001b[31m=\u001b[0m\u001b[32m\u001b[1m \u001b[32m\u001b[1m0x800\u001b[0m\u001b[32m\u001b[1m\n",
      "     \u001b[33m\u001b[1mhwlen\u001b[0m\u001b[32m\u001b[1m\u001b[31m=\u001b[0m\u001b[32m\u001b[1m \u001b[32m\u001b[1m6\u001b[0m\u001b[32m\u001b[1m\n",
      "     \u001b[33m\u001b[1mplen\u001b[0m\u001b[32m\u001b[1m\u001b[31m=\u001b[0m\u001b[32m\u001b[1m \u001b[32m\u001b[1m4\u001b[0m\u001b[32m\u001b[1m\n",
      "     \u001b[33m\u001b[1mop\u001b[0m\u001b[32m\u001b[1m\u001b[31m=\u001b[0m\u001b[32m\u001b[1m \u001b[32m\u001b[1mwho-has\u001b[0m\u001b[32m\u001b[1m\n",
      "     \u001b[33m\u001b[1mhwsrc\u001b[0m\u001b[32m\u001b[1m\u001b[31m=\u001b[0m\u001b[32m\u001b[1m \u001b[32m\u001b[1m08:00:27:ce:4f:bd\u001b[0m\u001b[32m\u001b[1m\n",
      "     \u001b[33m\u001b[1mpsrc\u001b[0m\u001b[32m\u001b[1m\u001b[31m=\u001b[0m\u001b[32m\u001b[1m \u001b[32m\u001b[1m192.168.1.135\u001b[0m\u001b[32m\u001b[1m\n",
      "     \u001b[33m\u001b[1mhwdst\u001b[0m\u001b[32m\u001b[1m\u001b[31m=\u001b[0m\u001b[32m\u001b[1m \u001b[32m\u001b[1m00:00:00:00:00:00\u001b[0m\u001b[32m\u001b[1m\n",
      "     \u001b[33m\u001b[1mpdst\u001b[0m\u001b[32m\u001b[1m\u001b[31m=\u001b[0m\u001b[32m\u001b[1m \u001b[32m\u001b[1m0.0.0.0\u001b[0m\u001b[32m\u001b[1m\n",
      "\n"
     ]
    }
   ],
   "source": [
    "arpPkt.show()"
   ]
  },
  {
   "cell_type": "code",
   "execution_count": 22,
   "metadata": {},
   "outputs": [],
   "source": [
    "# change ARP protocol's hwdst to broadcast MAC address\n",
    "#arpPkt['Ethernet']['ARP'].hwdst = 'FF:FF:FF:FF:FF:FF'\n",
    "arpPkt['ARP'].hwdst = 'FF:FF:FF:FF:FF:FF'"
   ]
  },
  {
   "cell_type": "code",
   "execution_count": 23,
   "metadata": {},
   "outputs": [
    {
     "name": "stdout",
     "output_type": "stream",
     "text": [
      "\u001b[31m###[\u001b[0m\u001b[32m\u001b[1m \u001b[31m\u001b[1mEthernet\u001b[0m\u001b[32m\u001b[1m \u001b[31m]###\u001b[0m\u001b[32m\u001b[1m \n",
      "  \u001b[33m\u001b[1mdst\u001b[0m\u001b[32m\u001b[1m\u001b[31m=\u001b[0m\u001b[32m\u001b[1m \u001b[32m\u001b[1mFF:FF:FF:FF:FF:FF\u001b[0m\u001b[32m\u001b[1m\n",
      "  \u001b[33m\u001b[1msrc\u001b[0m\u001b[32m\u001b[1m\u001b[31m=\u001b[0m\u001b[32m\u001b[1m \u001b[32m\u001b[1m08:00:27:ce:4f:bd\u001b[0m\u001b[32m\u001b[1m\n",
      "  \u001b[33m\u001b[1mtype\u001b[0m\u001b[32m\u001b[1m\u001b[31m=\u001b[0m\u001b[32m\u001b[1m \u001b[32m\u001b[1m0x806\u001b[0m\u001b[32m\u001b[1m\n",
      "\u001b[31m###[\u001b[0m\u001b[32m\u001b[1m \u001b[31m\u001b[1mARP\u001b[0m\u001b[32m\u001b[1m \u001b[31m]###\u001b[0m\u001b[32m\u001b[1m \n",
      "     \u001b[33m\u001b[1mhwtype\u001b[0m\u001b[32m\u001b[1m\u001b[31m=\u001b[0m\u001b[32m\u001b[1m \u001b[32m\u001b[1m0x1\u001b[0m\u001b[32m\u001b[1m\n",
      "     \u001b[33m\u001b[1mptype\u001b[0m\u001b[32m\u001b[1m\u001b[31m=\u001b[0m\u001b[32m\u001b[1m \u001b[32m\u001b[1m0x800\u001b[0m\u001b[32m\u001b[1m\n",
      "     \u001b[33m\u001b[1mhwlen\u001b[0m\u001b[32m\u001b[1m\u001b[31m=\u001b[0m\u001b[32m\u001b[1m \u001b[32m\u001b[1m6\u001b[0m\u001b[32m\u001b[1m\n",
      "     \u001b[33m\u001b[1mplen\u001b[0m\u001b[32m\u001b[1m\u001b[31m=\u001b[0m\u001b[32m\u001b[1m \u001b[32m\u001b[1m4\u001b[0m\u001b[32m\u001b[1m\n",
      "     \u001b[33m\u001b[1mop\u001b[0m\u001b[32m\u001b[1m\u001b[31m=\u001b[0m\u001b[32m\u001b[1m \u001b[32m\u001b[1mwho-has\u001b[0m\u001b[32m\u001b[1m\n",
      "     \u001b[33m\u001b[1mhwsrc\u001b[0m\u001b[32m\u001b[1m\u001b[31m=\u001b[0m\u001b[32m\u001b[1m \u001b[32m\u001b[1m08:00:27:ce:4f:bd\u001b[0m\u001b[32m\u001b[1m\n",
      "     \u001b[33m\u001b[1mpsrc\u001b[0m\u001b[32m\u001b[1m\u001b[31m=\u001b[0m\u001b[32m\u001b[1m \u001b[32m\u001b[1m192.168.1.135\u001b[0m\u001b[32m\u001b[1m\n",
      "     \u001b[33m\u001b[1mhwdst\u001b[0m\u001b[32m\u001b[1m\u001b[31m=\u001b[0m\u001b[32m\u001b[1m \u001b[32m\u001b[1mFF:FF:FF:FF:FF:FF\u001b[0m\u001b[32m\u001b[1m\n",
      "     \u001b[33m\u001b[1mpdst\u001b[0m\u001b[32m\u001b[1m\u001b[31m=\u001b[0m\u001b[32m\u001b[1m \u001b[32m\u001b[1m0.0.0.0\u001b[0m\u001b[32m\u001b[1m\n",
      "\n"
     ]
    }
   ],
   "source": [
    "arpPkt.show()"
   ]
  },
  {
   "cell_type": "markdown",
   "metadata": {},
   "source": [
    "## Capture packet using wireshark\n",
    "- ARP packet is ready to be sent\n",
    "- Open Wireshark and start capturing traffic"
   ]
  },
  {
   "cell_type": "markdown",
   "metadata": {},
   "source": [
    "## Send Packets\n",
    "- two functions to send packets: sendp() and send()\n",
    "- **sendp()** for sending L2 packets\n",
    "- **send()** for sending L3 packets (IPv4 or IPv6)"
   ]
  },
  {
   "cell_type": "code",
   "execution_count": 24,
   "metadata": {},
   "outputs": [
    {
     "name": "stdout",
     "output_type": "stream",
     "text": [
      "Help on function send in module scapy.sendrecv:\n",
      "\n",
      "send(x, inter=0, loop=0, count=None, verbose=None, realtime=None, return_packets=False, socket=None, *args, **kargs)\n",
      "    Send packets at layer 3\n",
      "    send(packets, [inter=0], [loop=0], [count=None], [verbose=conf.verb], [realtime=None], [return_packets=False],\n",
      "         [socket=None]) -> None\n",
      "\n"
     ]
    }
   ],
   "source": [
    "help(send)"
   ]
  },
  {
   "cell_type": "code",
   "execution_count": 25,
   "metadata": {},
   "outputs": [
    {
     "name": "stdout",
     "output_type": "stream",
     "text": [
      "Help on function sendp in module scapy.sendrecv:\n",
      "\n",
      "sendp(x, inter=0, loop=0, iface=None, iface_hint=None, count=None, verbose=None, realtime=None, return_packets=False, socket=None, *args, **kargs)\n",
      "    Send packets at layer 2\n",
      "    sendp(packets, [inter=0], [loop=0], [iface=None], [iface_hint=None], [count=None], [verbose=conf.verb],\n",
      "          [realtime=None], [return_packets=False], [socket=None]) -> None\n",
      "\n"
     ]
    }
   ],
   "source": [
    "help(sendp)"
   ]
  },
  {
   "cell_type": "code",
   "execution_count": 26,
   "metadata": {},
   "outputs": [
    {
     "name": "stdout",
     "output_type": "stream",
     "text": [
      "\n",
      "Sent 1 packets.\n"
     ]
    }
   ],
   "source": [
    "# send the arpPkt - use sendp() because ARP is layer 2 packet\n",
    "sendp(arpPkt)"
   ]
  },
  {
   "cell_type": "code",
   "execution_count": 27,
   "metadata": {},
   "outputs": [
    {
     "name": "stdout",
     "output_type": "stream",
     "text": [
      "\n",
      "Sent 1 packets.\n"
     ]
    }
   ],
   "source": [
    "# one liner\n",
    "sendp(Ether(dst=\"ff:ff:ff:ff:ff:ff\",src=\"00:11:22:aa:bb:cc\")/ARP(hwsrc=\"00:11:22:aa:bb:cc\",pdst=\"192.168.231.2\"))"
   ]
  },
  {
   "cell_type": "markdown",
   "metadata": {},
   "source": [
    "## Sending HTTP request"
   ]
  },
  {
   "cell_type": "code",
   "execution_count": 37,
   "metadata": {},
   "outputs": [],
   "source": [
    "httpPkt = IP(dst=\"www.coloradomesa.edu\")/TCP()/\"GET /index.html HTTP/1.1\\n\\n\""
   ]
  },
  {
   "cell_type": "code",
   "execution_count": 38,
   "metadata": {},
   "outputs": [
    {
     "data": {
      "text/plain": [
       "b'E\\x00\\x00B\\x00\\x01\\x00\\x00@\\x06\\x8f8\\xc0\\xa8\\x01\\x87H\\xa6\\xe0\\xa7\\x00\\x14\\x00P\\x00\\x00\\x00\\x00\\x00\\x00\\x00\\x00P\\x02 \\x00\\xf24\\x00\\x00GET /index.html HTTP/1.1\\n\\n'"
      ]
     },
     "execution_count": 38,
     "metadata": {},
     "output_type": "execute_result"
    }
   ],
   "source": [
    "bytes(httpPkt)"
   ]
  },
  {
   "cell_type": "code",
   "execution_count": 39,
   "metadata": {},
   "outputs": [
    {
     "name": "stdout",
     "output_type": "stream",
     "text": [
      "0000  450000420001000040068F38C0A80187 E\u001b[32m.\u001b[0m\u001b[32m\u001b[1m\u001b[32m.\u001b[0m\u001b[32m\u001b[1mB\u001b[32m.\u001b[0m\u001b[32m\u001b[1m\u001b[32m.\u001b[0m\u001b[32m\u001b[1m\u001b[32m.\u001b[0m\u001b[32m\u001b[1m\u001b[32m.\u001b[0m\u001b[32m\u001b[1m@\u001b[32m.\u001b[0m\u001b[32m\u001b[1m\u001b[32m.\u001b[0m\u001b[32m\u001b[1m8\u001b[32m.\u001b[0m\u001b[32m\u001b[1m\u001b[32m.\u001b[0m\u001b[32m\u001b[1m\u001b[32m.\u001b[0m\u001b[32m\u001b[1m\u001b[32m.\u001b[0m\u001b[32m\u001b[1m\n",
      "0010  48A6E0A7001400500000000000000000 H\u001b[32m.\u001b[0m\u001b[32m\u001b[1m\u001b[32m.\u001b[0m\u001b[32m\u001b[1m\u001b[32m.\u001b[0m\u001b[32m\u001b[1m\u001b[32m.\u001b[0m\u001b[32m\u001b[1m\u001b[32m.\u001b[0m\u001b[32m\u001b[1m\u001b[32m.\u001b[0m\u001b[32m\u001b[1mP\u001b[32m.\u001b[0m\u001b[32m\u001b[1m\u001b[32m.\u001b[0m\u001b[32m\u001b[1m\u001b[32m.\u001b[0m\u001b[32m\u001b[1m\u001b[32m.\u001b[0m\u001b[32m\u001b[1m\u001b[32m.\u001b[0m\u001b[32m\u001b[1m\u001b[32m.\u001b[0m\u001b[32m\u001b[1m\u001b[32m.\u001b[0m\u001b[32m\u001b[1m\u001b[32m.\u001b[0m\u001b[32m\u001b[1m\n",
      "0020  50022000F2340000474554202F696E64 P\u001b[32m.\u001b[0m\u001b[32m\u001b[1m \u001b[32m.\u001b[0m\u001b[32m\u001b[1m\u001b[32m.\u001b[0m\u001b[32m\u001b[1m4\u001b[32m.\u001b[0m\u001b[32m\u001b[1m\u001b[32m.\u001b[0m\u001b[32m\u001b[1mGET /ind\n",
      "0030  65782E68746D6C20485454502F312E31 ex.html HTTP/1.1\n",
      "0040  0A0A                             \u001b[32m.\u001b[0m\u001b[32m\u001b[1m\u001b[32m.\u001b[0m\u001b[32m\u001b[1m\n"
     ]
    }
   ],
   "source": [
    "hexdump(httpPkt)"
   ]
  },
  {
   "cell_type": "code",
   "execution_count": 40,
   "metadata": {},
   "outputs": [
    {
     "name": "stdout",
     "output_type": "stream",
     "text": [
      "\u001b[31m###[\u001b[0m\u001b[32m\u001b[1m \u001b[31m\u001b[1mIP\u001b[0m\u001b[32m\u001b[1m \u001b[31m]###\u001b[0m\u001b[32m\u001b[1m \n",
      "  \u001b[33m\u001b[1mversion\u001b[0m\u001b[32m\u001b[1m\u001b[31m=\u001b[0m\u001b[32m\u001b[1m \u001b[32m\u001b[1m4\u001b[0m\u001b[32m\u001b[1m\n",
      "  \u001b[33m\u001b[1mihl\u001b[0m\u001b[32m\u001b[1m\u001b[31m=\u001b[0m\u001b[32m\u001b[1m \u001b[32m\u001b[1mNone\u001b[0m\u001b[32m\u001b[1m\n",
      "  \u001b[33m\u001b[1mtos\u001b[0m\u001b[32m\u001b[1m\u001b[31m=\u001b[0m\u001b[32m\u001b[1m \u001b[32m\u001b[1m0x0\u001b[0m\u001b[32m\u001b[1m\n",
      "  \u001b[33m\u001b[1mlen\u001b[0m\u001b[32m\u001b[1m\u001b[31m=\u001b[0m\u001b[32m\u001b[1m \u001b[32m\u001b[1mNone\u001b[0m\u001b[32m\u001b[1m\n",
      "  \u001b[33m\u001b[1mid\u001b[0m\u001b[32m\u001b[1m\u001b[31m=\u001b[0m\u001b[32m\u001b[1m \u001b[32m\u001b[1m1\u001b[0m\u001b[32m\u001b[1m\n",
      "  \u001b[33m\u001b[1mflags\u001b[0m\u001b[32m\u001b[1m\u001b[31m=\u001b[0m\u001b[32m\u001b[1m \u001b[32m\u001b[1m\u001b[0m\u001b[32m\u001b[1m\n",
      "  \u001b[33m\u001b[1mfrag\u001b[0m\u001b[32m\u001b[1m\u001b[31m=\u001b[0m\u001b[32m\u001b[1m \u001b[32m\u001b[1m0\u001b[0m\u001b[32m\u001b[1m\n",
      "  \u001b[33m\u001b[1mttl\u001b[0m\u001b[32m\u001b[1m\u001b[31m=\u001b[0m\u001b[32m\u001b[1m \u001b[32m\u001b[1m64\u001b[0m\u001b[32m\u001b[1m\n",
      "  \u001b[33m\u001b[1mproto\u001b[0m\u001b[32m\u001b[1m\u001b[31m=\u001b[0m\u001b[32m\u001b[1m \u001b[32m\u001b[1mtcp\u001b[0m\u001b[32m\u001b[1m\n",
      "  \u001b[33m\u001b[1mchksum\u001b[0m\u001b[32m\u001b[1m\u001b[31m=\u001b[0m\u001b[32m\u001b[1m \u001b[32m\u001b[1mNone\u001b[0m\u001b[32m\u001b[1m\n",
      "  \u001b[32msrc\u001b[0m\u001b[32m\u001b[1m\u001b[31m=\u001b[0m\u001b[32m\u001b[1m \u001b[32m192.168.1.135\u001b[0m\u001b[32m\u001b[1m\n",
      "  \u001b[32mdst\u001b[0m\u001b[32m\u001b[1m\u001b[31m=\u001b[0m\u001b[32m\u001b[1m \u001b[32mNet('www.coloradomesa.edu')\u001b[0m\u001b[32m\u001b[1m\n",
      "  \\\u001b[33m\u001b[1moptions\u001b[0m\u001b[32m\u001b[1m\\\n",
      "\u001b[31m###[\u001b[0m\u001b[32m\u001b[1m \u001b[31m\u001b[1mTCP\u001b[0m\u001b[32m\u001b[1m \u001b[31m]###\u001b[0m\u001b[32m\u001b[1m \n",
      "     \u001b[33m\u001b[1msport\u001b[0m\u001b[32m\u001b[1m\u001b[31m=\u001b[0m\u001b[32m\u001b[1m \u001b[32m\u001b[1mftp_data\u001b[0m\u001b[32m\u001b[1m\n",
      "     \u001b[33m\u001b[1mdport\u001b[0m\u001b[32m\u001b[1m\u001b[31m=\u001b[0m\u001b[32m\u001b[1m \u001b[32m\u001b[1mhttp\u001b[0m\u001b[32m\u001b[1m\n",
      "     \u001b[33m\u001b[1mseq\u001b[0m\u001b[32m\u001b[1m\u001b[31m=\u001b[0m\u001b[32m\u001b[1m \u001b[32m\u001b[1m0\u001b[0m\u001b[32m\u001b[1m\n",
      "     \u001b[33m\u001b[1mack\u001b[0m\u001b[32m\u001b[1m\u001b[31m=\u001b[0m\u001b[32m\u001b[1m \u001b[32m\u001b[1m0\u001b[0m\u001b[32m\u001b[1m\n",
      "     \u001b[33m\u001b[1mdataofs\u001b[0m\u001b[32m\u001b[1m\u001b[31m=\u001b[0m\u001b[32m\u001b[1m \u001b[32m\u001b[1mNone\u001b[0m\u001b[32m\u001b[1m\n",
      "     \u001b[33m\u001b[1mreserved\u001b[0m\u001b[32m\u001b[1m\u001b[31m=\u001b[0m\u001b[32m\u001b[1m \u001b[32m\u001b[1m0\u001b[0m\u001b[32m\u001b[1m\n",
      "     \u001b[33m\u001b[1mflags\u001b[0m\u001b[32m\u001b[1m\u001b[31m=\u001b[0m\u001b[32m\u001b[1m \u001b[32m\u001b[1mS\u001b[0m\u001b[32m\u001b[1m\n",
      "     \u001b[33m\u001b[1mwindow\u001b[0m\u001b[32m\u001b[1m\u001b[31m=\u001b[0m\u001b[32m\u001b[1m \u001b[32m\u001b[1m8192\u001b[0m\u001b[32m\u001b[1m\n",
      "     \u001b[33m\u001b[1mchksum\u001b[0m\u001b[32m\u001b[1m\u001b[31m=\u001b[0m\u001b[32m\u001b[1m \u001b[32m\u001b[1mNone\u001b[0m\u001b[32m\u001b[1m\n",
      "     \u001b[33m\u001b[1murgptr\u001b[0m\u001b[32m\u001b[1m\u001b[31m=\u001b[0m\u001b[32m\u001b[1m \u001b[32m\u001b[1m0\u001b[0m\u001b[32m\u001b[1m\n",
      "     \u001b[33m\u001b[1moptions\u001b[0m\u001b[32m\u001b[1m\u001b[31m=\u001b[0m\u001b[32m\u001b[1m \u001b[32m\u001b[1m[]\u001b[0m\u001b[32m\u001b[1m\n",
      "\u001b[31m###[\u001b[0m\u001b[32m\u001b[1m \u001b[31m\u001b[1mRaw\u001b[0m\u001b[32m\u001b[1m \u001b[31m]###\u001b[0m\u001b[32m\u001b[1m \n",
      "        \u001b[33m\u001b[1mload\u001b[0m\u001b[32m\u001b[1m\u001b[31m=\u001b[0m\u001b[32m\u001b[1m \u001b[32m\u001b[1m'GET /index.html HTTP/1.1\\n\\n'\u001b[0m\u001b[32m\u001b[1m\n",
      "\n"
     ]
    }
   ],
   "source": [
    "httpPkt.show()"
   ]
  },
  {
   "cell_type": "code",
   "execution_count": 42,
   "metadata": {
    "scrolled": true
   },
   "outputs": [
    {
     "name": "stdout",
     "output_type": "stream",
     "text": [
      "Begin emission:\n",
      "Finished sending 1 packets.\n",
      "\n",
      "Received 5 packets, got 1 answers, remaining 0 packets\n"
     ]
    }
   ],
   "source": [
    "response = sr(httpPkt)"
   ]
  },
  {
   "cell_type": "code",
   "execution_count": 45,
   "metadata": {},
   "outputs": [
    {
     "name": "stdout",
     "output_type": "stream",
     "text": [
      "\u001b[32m\u001b[1m0000\u001b[0m\u001b[32m\u001b[1m IP / TCP 192.168.1.135:ftp_data > 72.166.224.167:http S / Raw ==> IP / TCP 72.166.224.167:http > 192.168.1.135:ftp_data SA / Padding\n"
     ]
    }
   ],
   "source": [
    "response[0].show()"
   ]
  },
  {
   "cell_type": "code",
   "execution_count": 46,
   "metadata": {},
   "outputs": [
    {
     "name": "stdout",
     "output_type": "stream",
     "text": [
      "IP / TCP 192.168.1.135:ftp_data > 72.166.224.167:http S / Raw ==> IP / TCP 72.166.224.167:http > 192.168.1.135:ftp_data SA / Padding\n"
     ]
    }
   ],
   "source": [
    "response[0].summary()"
   ]
  },
  {
   "cell_type": "markdown",
   "metadata": {},
   "source": [
    "## TCP/IP full three-way handshake"
   ]
  },
  {
   "cell_type": "markdown",
   "metadata": {},
   "source": [
    "### send SYN packet"
   ]
  },
  {
   "cell_type": "markdown",
   "metadata": {},
   "source": [
    "## Send and Receive Packets\n",
    "- Send and receive functions are the heart of Scapy\n",
    "- ** sr() ** send L3 packets and receive answers; returns answered and unanswered packets\n",
    "- ** sr1() ** returns only one packet that answered the sent packet\n",
    "- sr() and sr1() functions can only send layer 3 L3 packets (IP, HTTP, etc.)\n",
    "- ** srp() ** send and receive L2 packets (ARP, Ehternet, 802.3, etc)\n",
    "- ** srp1() ** send and receive one layer 2 packet"
   ]
  },
  {
   "cell_type": "markdown",
   "metadata": {},
   "source": [
    "## Three-way handshake\n"
   ]
  },
  {
   "cell_type": "code",
   "execution_count": null,
   "metadata": {
    "collapsed": true
   },
   "outputs": [],
   "source": [
    "# Create syn packet\n",
    "syn = IP(dst='www.google.com')/TCP(dport=80, flags='S')"
   ]
  },
  {
   "cell_type": "code",
   "execution_count": null,
   "metadata": {
    "collapsed": true
   },
   "outputs": [],
   "source": [
    "syn"
   ]
  },
  {
   "cell_type": "code",
   "execution_count": null,
   "metadata": {
    "collapsed": true
   },
   "outputs": [],
   "source": [
    "# Receive SYN-ACK packet from google.com\n",
    "syn_ack = sr1(syn)"
   ]
  },
  {
   "cell_type": "code",
   "execution_count": null,
   "metadata": {
    "collapsed": true
   },
   "outputs": [],
   "source": [
    "syn_ack"
   ]
  },
  {
   "cell_type": "code",
   "execution_count": null,
   "metadata": {
    "collapsed": true
   },
   "outputs": [],
   "source": [
    "# Send Get request\n",
    "getStr = 'GET / HTTP1.1\\r\\nHost:www.google.com\\r\\n\\r\\n'\n",
    "request = IP(dst='www.google.com') / TCP(dport=80, sport=syn_ack[TCP].dport, \n",
    "                                        seq=syn_ack[TCP].ack, ack=syn_ack[TCP].seq+1, \n",
    "                                        flags='A') / getStr\n",
    "reply = sr1(request)"
   ]
  },
  {
   "cell_type": "code",
   "execution_count": null,
   "metadata": {
    "collapsed": true,
    "scrolled": true
   },
   "outputs": [],
   "source": [
    "reply"
   ]
  },
  {
   "cell_type": "code",
   "execution_count": null,
   "metadata": {
    "collapsed": true
   },
   "outputs": [],
   "source": [
    "reply.summary()"
   ]
  },
  {
   "cell_type": "code",
   "execution_count": null,
   "metadata": {
    "collapsed": true
   },
   "outputs": [],
   "source": [
    "reply.show()"
   ]
  },
  {
   "cell_type": "markdown",
   "metadata": {},
   "source": [
    "## Stacking Layers\n",
    "The / operator has been used as a composition operator between two layers. When doing so, the lower layer can have one or more of its defaults fields overloaded according to the upper layer. (You still can give the value you want). A string can be used as a raw layer.\n",
    "<img src=\"http://scapy.readthedocs.io/en/latest/_images/fieldsmanagement.png\" />"
   ]
  },
  {
   "cell_type": "code",
   "execution_count": 23,
   "metadata": {},
   "outputs": [
    {
     "data": {
      "text/plain": [
       "<IP  |>"
      ]
     },
     "execution_count": 23,
     "metadata": {},
     "output_type": "execute_result"
    }
   ],
   "source": [
    "IP()"
   ]
  },
  {
   "cell_type": "code",
   "execution_count": null,
   "metadata": {
    "collapsed": true
   },
   "outputs": [],
   "source": [
    "IP()/TCP()"
   ]
  },
  {
   "cell_type": "code",
   "execution_count": null,
   "metadata": {
    "collapsed": true
   },
   "outputs": [],
   "source": [
    "Ether()/IP()/TCP()"
   ]
  },
  {
   "cell_type": "code",
   "execution_count": null,
   "metadata": {
    "collapsed": true
   },
   "outputs": [],
   "source": [
    "IP()/TCP()/\"GET / HTTP/1.0\\r\\n\\r\\n\""
   ]
  },
  {
   "cell_type": "code",
   "execution_count": null,
   "metadata": {
    "collapsed": true
   },
   "outputs": [],
   "source": [
    "Ehter()/IP()/IP()/UDP()"
   ]
  },
  {
   "cell_type": "code",
   "execution_count": 24,
   "metadata": {},
   "outputs": [
    {
     "data": {
      "text/plain": [
       "<IP  frag=0 proto=55 |<TCP  dport=ssh |>>"
      ]
     },
     "execution_count": 24,
     "metadata": {},
     "output_type": "execute_result"
    }
   ],
   "source": [
    "IP(proto=55)/TCP(dport=22)"
   ]
  },
  {
   "cell_type": "code",
   "execution_count": null,
   "metadata": {
    "collapsed": true
   },
   "outputs": [],
   "source": [
    "tcpip = IP(dst=\"dstIP\") / TCP(dport=22) # tcp packet needs dest port\n",
    "reply = sr(tcpip)\n",
    "reply"
   ]
  },
  {
   "cell_type": "code",
   "execution_count": null,
   "metadata": {
    "collapsed": true
   },
   "outputs": [],
   "source": [
    "ans, unans = _ \n",
    "ans.summary()"
   ]
  },
  {
   "cell_type": "markdown",
   "metadata": {},
   "source": [
    "## Create ping request\n",
    "- IP packet with ICMP echo request and \"Hello World\" payload\n",
    "- send the packet and capture it with wireshark"
   ]
  },
  {
   "cell_type": "code",
   "execution_count": 3,
   "metadata": {
    "collapsed": true
   },
   "outputs": [],
   "source": [
    "ping = IP(dst=\"172.16.7.111\", src=\"172.16.7.129\") / ICMP() / \"Hello World!\""
   ]
  },
  {
   "cell_type": "code",
   "execution_count": 4,
   "metadata": {},
   "outputs": [
    {
     "name": "stdout",
     "output_type": "stream",
     "text": [
      "###[ IP ]###\n",
      "  version   = 4\n",
      "  ihl       = None\n",
      "  tos       = 0x0\n",
      "  len       = None\n",
      "  id        = 1\n",
      "  flags     = \n",
      "  frag      = 0\n",
      "  ttl       = 64\n",
      "  proto     = icmp\n",
      "  chksum    = None\n",
      "  src       = 172.16.7.129\n",
      "  dst       = 172.16.7.111\n",
      "  \\options   \\\n",
      "###[ ICMP ]###\n",
      "     type      = echo-request\n",
      "     code      = 0\n",
      "     chksum    = None\n",
      "     id        = 0x0\n",
      "     seq       = 0x0\n",
      "###[ Raw ]###\n",
      "        load      = 'Hello World!'\n"
     ]
    }
   ],
   "source": [
    "ping.show()"
   ]
  },
  {
   "cell_type": "code",
   "execution_count": 5,
   "metadata": {},
   "outputs": [
    {
     "name": "stdout",
     "output_type": "stream",
     "text": [
      "\n",
      "Sent 1 packets.\n"
     ]
    }
   ],
   "source": [
    "send(ping)"
   ]
  },
  {
   "cell_type": "code",
   "execution_count": null,
   "metadata": {
    "collapsed": true
   },
   "outputs": [],
   "source": [
    "reply = sr1(ping)\n",
    "reply.show()"
   ]
  },
  {
   "cell_type": "markdown",
   "metadata": {},
   "source": [
    "## Exercise\n",
    "- Spoof src IP and ping some IP in ACM or CSC network\n",
    "- "
   ]
  }
 ],
 "metadata": {
  "kernelspec": {
   "display_name": "Python 3",
   "language": "python",
   "name": "python3"
  },
  "language_info": {
   "codemirror_mode": {
    "name": "ipython",
    "version": 3
   },
   "file_extension": ".py",
   "mimetype": "text/x-python",
   "name": "python",
   "nbconvert_exporter": "python",
   "pygments_lexer": "ipython3",
   "version": "3.5.2"
  }
 },
 "nbformat": 4,
 "nbformat_minor": 2
}
