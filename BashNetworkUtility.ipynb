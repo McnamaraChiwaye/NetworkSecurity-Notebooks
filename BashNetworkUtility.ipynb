{
 "cells": [
  {
   "cell_type": "markdown",
   "metadata": {},
   "source": [
    "# Bash Network Utility Commands "
   ]
  },
  {
   "cell_type": "markdown",
   "metadata": {},
   "source": [
    "## ping - test if a system is up"
   ]
  },
  {
   "cell_type": "code",
   "execution_count": null,
   "metadata": {},
   "outputs": [],
   "source": [
    "!ping google.com"
   ]
  },
  {
   "cell_type": "markdown",
   "metadata": {},
   "source": [
    "## DNS Lookup Commands\n",
    "- host, dig\n",
    "- start with ! to run bash commands"
   ]
  },
  {
   "cell_type": "code",
   "execution_count": null,
   "metadata": {},
   "outputs": [],
   "source": [
    "! man host"
   ]
  },
  {
   "cell_type": "code",
   "execution_count": null,
   "metadata": {
    "scrolled": true
   },
   "outputs": [],
   "source": [
    "! host google.com"
   ]
  },
  {
   "cell_type": "code",
   "execution_count": null,
   "metadata": {},
   "outputs": [],
   "source": [
    "! host -a google.com # display all records"
   ]
  },
  {
   "cell_type": "code",
   "execution_count": null,
   "metadata": {},
   "outputs": [],
   "source": [
    "! host -t a coloradomesa.edu # domain ip "
   ]
  },
  {
   "cell_type": "code",
   "execution_count": null,
   "metadata": {},
   "outputs": [],
   "source": [
    "! host -t mx coloradomesa.edu # domain mail server"
   ]
  },
  {
   "cell_type": "code",
   "execution_count": null,
   "metadata": {},
   "outputs": [],
   "source": [
    "! host -t ns coloradomesa.edu # nameserver"
   ]
  },
  {
   "cell_type": "markdown",
   "metadata": {},
   "source": [
    "## reverse lookup\n",
    "- given IP, find the domain name"
   ]
  },
  {
   "cell_type": "code",
   "execution_count": null,
   "metadata": {},
   "outputs": [],
   "source": [
    "! host 72.166.224.167"
   ]
  },
  {
   "cell_type": "code",
   "execution_count": null,
   "metadata": {},
   "outputs": [],
   "source": [
    "! dig google.com"
   ]
  },
  {
   "cell_type": "markdown",
   "metadata": {
    "collapsed": true
   },
   "source": [
    "## Display arp/routing cache"
   ]
  },
  {
   "cell_type": "code",
   "execution_count": null,
   "metadata": {},
   "outputs": [],
   "source": [
    "! man route"
   ]
  },
  {
   "cell_type": "code",
   "execution_count": null,
   "metadata": {},
   "outputs": [],
   "source": [
    "! route -n"
   ]
  },
  {
   "cell_type": "code",
   "execution_count": null,
   "metadata": {},
   "outputs": [],
   "source": [
    "! ifconfig"
   ]
  },
  {
   "cell_type": "code",
   "execution_count": null,
   "metadata": {},
   "outputs": [],
   "source": [
    "!dhclient -v -r"
   ]
  },
  {
   "cell_type": "markdown",
   "metadata": {},
   "source": [
    "## Internal routing table\n",
    "- typically displays gateway information that could be very useful to know how the packet is being routed to the internet"
   ]
  },
  {
   "cell_type": "code",
   "execution_count": null,
   "metadata": {},
   "outputs": [],
   "source": [
    "! route -n"
   ]
  },
  {
   "cell_type": "markdown",
   "metadata": {},
   "source": [
    "## ARP - address resolution protocol \n",
    "- maps private IP to ethernet/MAC address for local/internal routing\n",
    "- without knowing each other's MAC address, systems cann't communicate each other\n",
    "- there are 4 different types of ARP messages, but ARP request and ARP reply message are most important and common types"
   ]
  },
  {
   "cell_type": "code",
   "execution_count": 27,
   "metadata": {},
   "outputs": [
    {
     "name": "stdout",
     "output_type": "stream",
     "text": [
      "ARP(8)                     Linux Programmer's Manual                    ARP(8)\r\n",
      "\r\n",
      "N\bNA\bAM\bME\bE\r\n",
      "       arp - manipulate the system ARP cache\r\n",
      "\r\n",
      "S\bSY\bYN\bNO\bOP\bPS\bSI\bIS\bS\r\n",
      "       a\bar\brp\bp [-\b-v\bvn\bn] [-\b-H\bH _\bt_\by_\bp_\be] [-\b-i\bi _\bi_\bf] [-\b-a\ba] [_\bh_\bo_\bs_\bt_\bn_\ba_\bm_\be]\r\n",
      "\r\n",
      "       a\bar\brp\bp [-\b-v\bv] [-\b-i\bi _\bi_\bf] -\b-d\bd _\bh_\bo_\bs_\bt_\bn_\ba_\bm_\be [p\bpu\bub\bb]\r\n",
      "\r\n",
      "       a\bar\brp\bp [-\b-v\bv] [-\b-H\bH _\bt_\by_\bp_\be] [-\b-i\bi _\bi_\bf] -\b-s\bs _\bh_\bo_\bs_\bt_\bn_\ba_\bm_\be _\bh_\bw_\b__\ba_\bd_\bd_\br [t\bte\bem\bmp\bp]\r\n",
      "\r\n",
      "       a\bar\brp\bp [-\b-v\bv] [-\b-H\bH _\bt_\by_\bp_\be] [-\b-i\bi _\bi_\bf] -\b-s\bs _\bh_\bo_\bs_\bt_\bn_\ba_\bm_\be _\bh_\bw_\b__\ba_\bd_\bd_\br [n\bne\bet\btm\bma\bas\bsk\bk _\bn_\bm] p\bpu\bub\bb\r\n",
      "\r\n",
      "       a\bar\brp\bp [-\b-v\bv] [-\b-H\bH _\bt_\by_\bp_\be] [-\b-i\bi _\bi_\bf] -\b-D\bDs\bs _\bh_\bo_\bs_\bt_\bn_\ba_\bm_\be _\bi_\bf_\bn_\ba_\bm_\be [n\bne\bet\btm\bma\bas\bsk\bk _\bn_\bm] p\bpu\bub\bb\r\n",
      "\r\n",
      "       a\bar\brp\bp [-\b-v\bvn\bnD\bD] [-\b-H\bH _\bt_\by_\bp_\be] [-\b-i\bi _\bi_\bf] -\b-f\bf [_\bf_\bi_\bl_\be_\bn_\ba_\bm_\be]\r\n",
      "\r\n",
      "D\bDE\bES\bSC\bCR\bRI\bIP\bPT\bTI\bIO\bON\bN\r\n",
      "       A\bAr\brp\bp  manipulates or displays the kernel's IPv4 network neighbour cache.\r\n",
      "       It can add entries to the table, delete one or display the current con‐\r\n",
      "       tent.\r\n",
      "\r\n",
      "       A\bAR\bRP\bP  stands  for Address Resolution Protocol, which is used to find the\r\n",
      "       media access control address of a network neighbour for  a  given  IPv4\r\n",
      "       Address.\r\n",
      "\r\n",
      "M\bMO\bOD\bDE\bES\bS\r\n",
      "       a\bar\brp\bp with no mode specifier will print the current content of the table.\r\n",
      "       It is possible to limit the number of entries printed, by specifying an\r\n",
      "       hardware address type, interface name or host address.\r\n",
      "\r\n",
      "       a\bar\brp\bp  -\b-d\bd  _\ba_\bd_\bd_\br_\be_\bs_\bs  will delete a ARP table entry. Root or netadmin priv‐\r\n",
      "       eledge is required to do this. The entry is found by IP address.  If  a\r\n",
      "       hostname  is  given, it will be resolved before looking up the entry in\r\n",
      "       the ARP table.\r\n",
      "\r\n",
      "       a\bar\brp\bp -\b-s\bs _\ba_\bd_\bd_\br_\be_\bs_\bs _\bh_\bw_\b__\ba_\bd_\bd_\br is used to set up a new table entry. The  format\r\n",
      "       of  the  _\bh_\bw_\b__\ba_\bd_\bd_\br  parameter is dependent on the hardware class, but for\r\n",
      "       most classes one can assume that the usual presentation  can  be  used.\r\n",
      "       For  the  Ethernet  class, this is 6 bytes in hexadecimal, separated by\r\n",
      "       colons. When adding proxy arp entries (that is those with  the  p\bpu\bub\bblish\r\n",
      "       flag  set  a  n\bne\bet\btm\bma\bas\bsk\bk may be specified to proxy arp for entire subnets.\r\n",
      "       This is not good practice, but is supported by older kernels because it\r\n",
      "       can  be useful. If the t\bte\bem\bmp\bp flag is not supplied entries will be perma‐\r\n",
      "       nent stored into the ARP cache. To simplyfy setting up entries for  one\r\n",
      "       of  your own network interfaces, you can use the a\bar\brp\bp -\b-D\bDs\bs _\ba_\bd_\bd_\br_\be_\bs_\bs _\bi_\bf_\bn_\ba_\bm_\be\r\n",
      "       form. In that case the hardware address is  taken  from  the  interface\r\n",
      "       with the specified name.\r\n",
      "\r\n",
      "O\bOP\bPT\bTI\bIO\bON\bNS\bS\r\n",
      "       -\b-v\bv,\b, -\b--\b-v\bve\ber\brb\bbo\bos\bse\be\r\n",
      "              Tell the user what is going on by being verbose.\r\n",
      "\r\n",
      "       -\b-n\bn,\b, -\b--\b-n\bnu\bum\bme\ber\bri\bic\bc\r\n",
      "              shows  numerical  addresses  instead of trying to determine sym‐\r\n",
      "              bolic host, port or user names.\r\n",
      "\r\n",
      "       -\b-H\bH t\bty\byp\bpe\be,\b, -\b--\b-h\bhw\bw-\b-t\bty\byp\bpe\be t\bty\byp\bpe\be\r\n",
      "              When setting or reading the ARP cache, this  optional  parameter\r\n",
      "              tells  a\bar\brp\bp  which  class  of  entries  it should check for.  The\r\n",
      "              default value of this parameter is  e\bet\bth\bhe\ber\br  (i.e.  hardware  code\r\n",
      "              0x01  for  IEEE  802.3  10Mbps  Ethernet).   Other  values might\r\n",
      "              include network technologies such as ARCnet  (a\bar\brc\bcn\bne\bet\bt)  ,  PROnet\r\n",
      "              (p\bpr\bro\bon\bne\bet\bt) , AX.25 (a\bax\bx2\b25\b5) and NET/ROM (n\bne\bet\btr\bro\bom\bm).\r\n",
      "\r\n",
      "       -\b-a\ba     Use alternate BSD style output format (with no fixed columns).\r\n",
      "\r\n",
      "       -\b-D\bD,\b, -\b--\b-u\bus\bse\be-\b-d\bde\bev\bvi\bic\bce\be\r\n",
      "              Instead  of  a  hw_addr,  the  given  argument is the name of an\r\n",
      "              interface.  a\bar\brp\bp will use the MAC address of that  interface  for\r\n",
      "              the  table  entry.  This  is usually the best option to set up a\r\n",
      "              proxy ARP entry to yourself.\r\n",
      "\r\n",
      "       -\b-i\bi I\bIf\bf,\b, -\b--\b-d\bde\bev\bvi\bic\bce\be I\bIf\bf\r\n",
      "              Select an interface. When dumping the  ARP  cache  only  entries\r\n",
      "              matching the specified interface will be printed. When setting a\r\n",
      "              permanent or t\bte\bem\bmp\bp ARP entry this interface  will  be  associated\r\n",
      "              with  the  entry;  if  this  option is not used, the kernel will\r\n",
      "              guess based on the routing table. For p\bpu\bub\bb entries the  specified\r\n",
      "              interface  is  the  interface  on  which  ARP  requests  will be\r\n",
      "              answered.\r\n",
      "              N\bNO\bOT\bTE\bE:\b: This has to be different from the interface to  which  the\r\n",
      "              IP  datagrams will be routed.  N\bNO\bOT\bTE\bE:\b: As of kernel 2.2.0 it is no\r\n",
      "              longer possible to set an ARP entry for an entire subnet.  Linux\r\n",
      "              instead  does  automagic proxy arp when a route exists and it is\r\n",
      "              forwarding. See a\bar\brp\bp(7) for  details.  Also  the  d\bdo\bon\bnt\btp\bpu\bub\bb  option\r\n",
      "              which  is available for delete and set operations cannot be used\r\n",
      "              with 2.4 and newer kernels.\r\n",
      "\r\n",
      "       -\b-f\bf f\bfi\bil\ble\ben\bna\bam\bme\be,\b, -\b--\b-f\bfi\bil\ble\be f\bfi\bil\ble\ben\bna\bam\bme\be\r\n",
      "              Similar to the -\b-s\bs option, only this time  the  address  info  is\r\n",
      "              taken from file f\bfi\bil\ble\ben\bna\bam\bme\be.\b.  This can be used if ARP entries for a\r\n",
      "              lot of hosts have to be set up.  The name of the  data  file  is\r\n",
      "              very often _\b/_\be_\bt_\bc_\b/_\be_\bt_\bh_\be_\br_\bs, but this is not official. If no filename\r\n",
      "              is specified /etc/ethers is used as default.\r\n",
      "\r\n",
      "              The format of the file is simple; it only  contains  ASCII  text\r\n",
      "              lines  with  a  hostname,  and  a  hardware address separated by\r\n",
      "              whitespace. Additionally the p\bpu\bub\bb, t\bte\bem\bmp\bp and n\bne\bet\btm\bma\bas\bsk\bk flags can  be\r\n",
      "              used.\r\n",
      "\r\n",
      "       In  all  places  where a h\bho\bos\bst\btn\bna\bam\bme\be is expected, one can also enter an I\bIP\bP\r\n",
      "       a\bad\bdd\bdr\bre\bes\bss\bs in dotted-decimal notation.\r\n",
      "\r\n",
      "       As a special case for compatibility the order of the hostname  and  the\r\n",
      "       hardware address can be exchanged.\r\n",
      "\r\n",
      "       Each  complete  entry  in the ARP cache will be marked with the C\bC flag.\r\n",
      "       Permanent entries are marked with M\bM and published entries  have  the  P\bP\r\n",
      "       flag.\r\n",
      "\r\n",
      "E\bEX\bXS\bSA\bAM\bMP\bPL\bLE\bES\bS\r\n",
      "       /\b/u\bus\bsr\br/\b/s\bsb\bbi\bin\bn/\b/a\bar\brp\bp -\b-i\bi e\bet\bth\bh0\b0 -\b-D\bDs\bs 1\b10\b0.\b.0\b0.\b.0\b0.\b.2\b2 e\bet\bth\bh1\b1 p\bpu\bub\bb\r\n",
      "\r\n",
      "       This will answer ARP requests for 10.0.0.2 on eth0 with the MAC address\r\n",
      "       for eth1.\r\n",
      "\r\n",
      "       /\b/u\bus\bsr\br/\b/s\bsb\bbi\bin\bn/\b/a\bar\brp\bp -\b-i\bi e\bet\bth\bh1\b1 -\b-d\bd 1\b10\b0.\b.0\b0.\b.0\b0.\b.1\b1\r\n",
      "\r\n",
      "       Delete the ARP table entry for 10.0.0.1 on interface  eth1.  This  will\r\n",
      "       match published proxy ARP entries and permanent entries.\r\n",
      "\r\n",
      "F\bFI\bIL\bLE\bES\bS\r\n",
      "       _\b/_\bp_\br_\bo_\bc_\b/_\bn_\be_\bt_\b/_\ba_\br_\bp\r\n",
      "       _\b/_\be_\bt_\bc_\b/_\bn_\be_\bt_\bw_\bo_\br_\bk_\bs\r\n",
      "       _\b/_\be_\bt_\bc_\b/_\bh_\bo_\bs_\bt_\bs\r\n",
      "       _\b/_\be_\bt_\bc_\b/_\be_\bt_\bh_\be_\br_\bs\r\n",
      "\r\n",
      "S\bSE\bEE\bE A\bAL\bLS\bSO\bO\r\n",
      "       rarp(8), route(8), ifconfig(8), netstat(8)\r\n",
      "\r\n",
      "A\bAU\bUT\bTH\bHO\bOR\bRS\bS\r\n",
      "       Fred   N.  van  Kempen  <waltje@uwalt.nl.mugnet.org>,  Bernd  Eckenfels\r\n",
      "       <net-tools@lina.inka.de>.\r\n",
      "\r\n",
      "net-tools                         2007-12-01                            ARP(8)\r\n"
     ]
    }
   ],
   "source": [
    "! man arp"
   ]
  },
  {
   "cell_type": "code",
   "execution_count": 26,
   "metadata": {},
   "outputs": [
    {
     "name": "stdout",
     "output_type": "stream",
     "text": [
      "Address                  HWtype  HWaddress           Flags Mask            Iface\r\n",
      "192.168.1.110            ether   a8:bb:cf:1e:b8:b4   C                     enp0s3\r\n",
      "192.168.1.1              ether   94:10:3e:83:59:9b   C                     enp0s3\r\n"
     ]
    }
   ],
   "source": [
    "! arp -n # -n shows numerical addresses from ARP cache"
   ]
  },
  {
   "cell_type": "markdown",
   "metadata": {},
   "source": [
    "### Find ip of host or another VM or gateway and ping it to see the ARP cache being changed\n",
    "- $ ifconfig | grep inet \n",
    "- and ping host and then run route -n again to see the routing table"
   ]
  },
  {
   "cell_type": "code",
   "execution_count": null,
   "metadata": {},
   "outputs": [],
   "source": [
    "! ping -c 1 -w 1 192.168.1.1"
   ]
  },
  {
   "cell_type": "code",
   "execution_count": null,
   "metadata": {},
   "outputs": [],
   "source": [
    "! ping -c 1 192.168.1.110"
   ]
  },
  {
   "cell_type": "code",
   "execution_count": null,
   "metadata": {},
   "outputs": [],
   "source": [
    "! arp -n"
   ]
  },
  {
   "cell_type": "code",
   "execution_count": 28,
   "metadata": {},
   "outputs": [],
   "source": [
    "# arp -d <ip> to delete entry\n",
    "! arp -d 192.168.1.110"
   ]
  },
  {
   "cell_type": "code",
   "execution_count": 35,
   "metadata": {},
   "outputs": [
    {
     "name": "stdout",
     "output_type": "stream",
     "text": [
      "Address                  HWtype  HWaddress           Flags Mask            Iface\r\n",
      "192.168.1.110                    (incomplete)                              enp0s3\r\n",
      "192.168.1.1              ether   94:10:3e:83:59:9b   C                     enp0s3\r\n"
     ]
    }
   ],
   "source": [
    "! arp -n #shows (incomplete) completely clearing is not easy"
   ]
  },
  {
   "cell_type": "markdown",
   "metadata": {},
   "source": [
    "### flush all entries"
   ]
  },
  {
   "cell_type": "code",
   "execution_count": 36,
   "metadata": {},
   "outputs": [
    {
     "name": "stdout",
     "output_type": "stream",
     "text": [
      "192.168.1.1 dev enp0s3 lladdr 94:10:3e:83:59:9b used 280/275/14 probes 1 STALE\r\n",
      "\r\n",
      "*** Round 1, deleting 1 entries ***\r\n",
      "*** Flush is complete after 1 round ***\r\n"
     ]
    }
   ],
   "source": [
    "! ip -s -s neigh flush all"
   ]
  },
  {
   "cell_type": "code",
   "execution_count": null,
   "metadata": {},
   "outputs": [],
   "source": []
  }
 ],
 "metadata": {
  "kernelspec": {
   "display_name": "Python 3",
   "language": "python",
   "name": "python3"
  },
  "language_info": {
   "codemirror_mode": {
    "name": "ipython",
    "version": 3
   },
   "file_extension": ".py",
   "mimetype": "text/x-python",
   "name": "python",
   "nbconvert_exporter": "python",
   "pygments_lexer": "ipython3",
   "version": "3.5.2"
  }
 },
 "nbformat": 4,
 "nbformat_minor": 2
}
