{
 "cells": [
  {
   "cell_type": "markdown",
   "metadata": {},
   "source": [
    "# Traceroute"
   ]
  },
  {
   "cell_type": "markdown",
   "metadata": {},
   "source": [
    "## the bash way"
   ]
  },
  {
   "cell_type": "code",
   "execution_count": 1,
   "metadata": {},
   "outputs": [
    {
     "name": "stdout",
     "output_type": "stream",
     "text": [
      "traceroute to google.com (216.58.217.46), 30 hops max, 60 byte packets\n",
      " 1  gateway (172.16.0.1)  7.282 ms  7.263 ms  7.321 ms\n",
      " 2  72.166.228.1 (72.166.228.1)  8.438 ms  8.101 ms  8.203 ms\n",
      " 3  nat.coloradomesa.edu (192.168.0.180)  8.421 ms  8.415 ms  8.354 ms\n",
      " 4  hlr-edge-09.inet.qwest.net (65.117.253.217)  15.862 ms  14.547 ms  15.829 ms\n",
      " 5  dvr-edge-15.inet.qwest.net (208.168.152.74)  25.434 ms  26.358 ms  26.340 ms\n",
      " 6  72.164.247.142 (72.164.247.142)  21.413 ms  16.934 ms  17.173 ms\n",
      " 7  72.14.234.57 (72.14.234.57)  14.998 ms  23.431 ms  23.302 ms\n",
      " 8  209.85.250.255 (209.85.250.255)  10.698 ms  18.564 ms  18.535 ms\n",
      " 9  den03s10-in-f46.1e100.net (216.58.217.46)  19.850 ms  13.508 ms  20.494 ms\n"
     ]
    }
   ],
   "source": [
    "!traceroute google.com"
   ]
  },
  {
   "cell_type": "markdown",
   "metadata": {},
   "source": [
    "##  the Scapy easy way"
   ]
  },
  {
   "cell_type": "code",
   "execution_count": 2,
   "metadata": {},
   "outputs": [
    {
     "name": "stderr",
     "output_type": "stream",
     "text": [
      "WARNING: No route found for IPv6 destination :: (no default route?). This affects only IPv6\n"
     ]
    }
   ],
   "source": [
    "from scapy.all import *"
   ]
  },
  {
   "cell_type": "code",
   "execution_count": 2,
   "metadata": {},
   "outputs": [
    {
     "name": "stdout",
     "output_type": "stream",
     "text": [
      "Help on function traceroute in module scapy.layers.inet:\n",
      "\n",
      "traceroute(target, dport=80, minttl=1, maxttl=30, sport=23435, l4=None, filter=None, timeout=2, verbose=None, **kargs)\n",
      "    Instant TCP traceroute\n",
      "    traceroute(target, [maxttl=30,] [dport=80,] [sport=80,] [verbose=conf.verb]) -> None\n",
      "\n"
     ]
    }
   ],
   "source": [
    "help(traceroute)"
   ]
  },
  {
   "cell_type": "code",
   "execution_count": 3,
   "metadata": {},
   "outputs": [
    {
     "name": "stdout",
     "output_type": "stream",
     "text": [
      "Begin emission:\n",
      "Finished to send 20 packets.\n",
      "\n",
      "Received 22 packets, got 20 answers, remaining 0 packets\n",
      "   216.58.217.36:tcp80 \n",
      "1  172.16.0.1      11  \n",
      "2  72.166.228.1    11  \n",
      "3  216.58.217.36   SA  \n",
      "4  216.58.217.36   SA  \n",
      "5  216.58.217.36   SA  \n",
      "6  216.58.217.36   SA  \n",
      "7  216.58.217.36   SA  \n",
      "8  216.58.217.36   SA  \n",
      "9  216.58.217.36   SA  \n",
      "10 216.58.217.36   SA  \n",
      "11 216.58.217.36   SA  \n",
      "12 216.58.217.36   SA  \n",
      "13 216.58.217.36   SA  \n",
      "14 216.58.217.36   SA  \n",
      "15 216.58.217.36   SA  \n",
      "16 216.58.217.36   SA  \n",
      "17 216.58.217.36   SA  \n",
      "18 216.58.217.36   SA  \n",
      "19 216.58.217.36   SA  \n",
      "20 216.58.217.36   SA  \n"
     ]
    },
    {
     "data": {
      "text/plain": [
       "(<Traceroute: TCP:18 UDP:0 ICMP:2 Other:0>,\n",
       " <Unanswered: TCP:0 UDP:0 ICMP:0 Other:0>)"
      ]
     },
     "execution_count": 3,
     "metadata": {},
     "output_type": "execute_result"
    }
   ],
   "source": [
    "traceroute(target=\"www.google.com\", maxttl=20)\n",
    "# Result shows TCP traceroute on default port 80 with (SA - Syn Ack flags)"
   ]
  },
  {
   "cell_type": "code",
   "execution_count": 4,
   "metadata": {},
   "outputs": [
    {
     "name": "stdout",
     "output_type": "stream",
     "text": [
      "Begin emission:\n",
      "Finished to send 20 packets.\n",
      "\n",
      "Received 22 packets, got 20 answers, remaining 0 packets\n",
      "   216.58.217.46:tcp443 \n",
      "1  172.16.0.1      11   \n",
      "2  72.166.228.1    11   \n",
      "3  192.168.0.180   11   \n",
      "4  65.117.253.217  11   \n",
      "5  208.168.152.74  11   \n",
      "6  72.164.247.142  11   \n",
      "7  72.14.234.57    11   \n",
      "8  209.85.250.255  11   \n",
      "9  216.58.217.46   SA   \n",
      "10 216.58.217.46   SA   \n",
      "11 216.58.217.46   SA   \n",
      "12 216.58.217.46   SA   \n",
      "13 216.58.217.46   SA   \n",
      "14 216.58.217.46   SA   \n",
      "15 216.58.217.46   SA   \n",
      "16 216.58.217.46   SA   \n",
      "17 216.58.217.46   SA   \n",
      "18 216.58.217.46   SA   \n",
      "19 216.58.217.46   SA   \n",
      "20 216.58.217.46   SA   \n"
     ]
    },
    {
     "data": {
      "text/plain": [
       "(<Traceroute: TCP:12 UDP:0 ICMP:8 Other:0>,\n",
       " <Unanswered: TCP:0 UDP:0 ICMP:0 Other:0>)"
      ]
     },
     "execution_count": 4,
     "metadata": {},
     "output_type": "execute_result"
    }
   ],
   "source": [
    "traceroute('google.com', dport=443, maxttl=20)"
   ]
  },
  {
   "cell_type": "markdown",
   "metadata": {},
   "source": [
    "## your OWN way?"
   ]
  },
  {
   "cell_type": "code",
   "execution_count": 7,
   "metadata": {},
   "outputs": [
    {
     "name": "stdout",
     "output_type": "stream",
     "text": [
      "35328\n"
     ]
    }
   ],
   "source": [
    "print(RandShort())"
   ]
  },
  {
   "cell_type": "markdown",
   "metadata": {},
   "source": [
    "### TCP Flag Key\n",
    "- http://rapid.web.unc.edu/resources/tcp-flag-key/"
   ]
  },
  {
   "cell_type": "code",
   "execution_count": null,
   "metadata": {},
   "outputs": [
    {
     "name": "stdout",
     "output_type": "stream",
     "text": [
      "Begin emission:\n",
      "Finished to send 22 packets.\n"
     ]
    }
   ],
   "source": [
    "ans, unans = sr(IP(dst='google.com', ttl=(4,25), id=RandShort())/TCP(dport=443, flags=0x02))"
   ]
  },
  {
   "cell_type": "code",
   "execution_count": null,
   "metadata": {},
   "outputs": [],
   "source": [
    "ans.show()"
   ]
  },
  {
   "cell_type": "code",
   "execution_count": null,
   "metadata": {},
   "outputs": [],
   "source": [
    "for snd, rcv in ans:\n",
    "    print(snd.ttl, rcv.src, isinstance(rcv.payload, TCP))"
   ]
  },
  {
   "cell_type": "code",
   "execution_count": null,
   "metadata": {
    "collapsed": true
   },
   "outputs": [],
   "source": []
  }
 ],
 "metadata": {
  "kernelspec": {
   "display_name": "Python 3",
   "language": "python",
   "name": "python3"
  },
  "language_info": {
   "codemirror_mode": {
    "name": "ipython",
    "version": 3
   },
   "file_extension": ".py",
   "mimetype": "text/x-python",
   "name": "python",
   "nbconvert_exporter": "python",
   "pygments_lexer": "ipython3",
   "version": "3.6.1"
  }
 },
 "nbformat": 4,
 "nbformat_minor": 2
}
