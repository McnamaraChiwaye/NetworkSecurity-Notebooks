{
 "cells": [
  {
   "cell_type": "markdown",
   "metadata": {},
   "source": [
    "# Traceroute\n",
    "## Note: run jupyter with sudo jupyter notebook --allow-root for scapy to work "
   ]
  },
  {
   "cell_type": "markdown",
   "metadata": {},
   "source": [
    "## the bash way"
   ]
  },
  {
   "cell_type": "code",
   "execution_count": 1,
   "metadata": {},
   "outputs": [
    {
     "name": "stdout",
     "output_type": "stream",
     "text": [
      "traceroute to google.com (172.217.12.110), 30 hops max, 60 byte packets\n",
      " 1  192.168.65.1 (192.168.65.1)  0.149 ms  0.085 ms  0.170 ms\n",
      " 2  * * *\n",
      " 3  * * *\n",
      " 4  * * *\n",
      " 5  * * *\n",
      " 6  * * *\n",
      " 7  * * *\n",
      " 8  * * *\n",
      " 9  * * *\n",
      "10  * * *\n",
      "11  * * *\n",
      "12  * * *\n",
      "13  * * *\n",
      "14  * * *\n",
      "15  * * *\n",
      "16  * * *\n",
      "17  * * *\n",
      "18  * * *\n",
      "19  * * *\n",
      "20  * * *\n",
      "21  * * *\n",
      "22  * * *\n",
      "23  * * *\n",
      "24  * * *\n",
      "25  * * *\n",
      "26  * * *\n",
      "27  * * *\n",
      "28  * * *\n",
      "29  * * *\n",
      "30  * * *\n"
     ]
    }
   ],
   "source": [
    "!traceroute google.com"
   ]
  },
  {
   "cell_type": "markdown",
   "metadata": {},
   "source": [
    "##  the Scapy easy way"
   ]
  },
  {
   "cell_type": "code",
   "execution_count": 2,
   "metadata": {},
   "outputs": [],
   "source": [
    "# must run jupyter notebook using sudo\n",
    "from scapy.all import *"
   ]
  },
  {
   "cell_type": "code",
   "execution_count": 3,
   "metadata": {},
   "outputs": [
    {
     "name": "stdout",
     "output_type": "stream",
     "text": [
      "Help on function traceroute in module scapy.layers.inet:\n",
      "\n",
      "traceroute(target, dport=80, minttl=1, maxttl=30, sport=<RandShort>, l4=None, filter=None, timeout=2, verbose=None, **kargs)\n",
      "    Instant TCP traceroute\n",
      "    traceroute(target, [maxttl=30,] [dport=80,] [sport=80,] [verbose=conf.verb]) -> None\n",
      "\n"
     ]
    }
   ],
   "source": [
    "help(traceroute)"
   ]
  },
  {
   "cell_type": "code",
   "execution_count": 4,
   "metadata": {},
   "outputs": [
    {
     "name": "stdout",
     "output_type": "stream",
     "text": [
      "Begin emission:\n",
      "Finished sending 20 packets.\n",
      "\n",
      "Received 20 packets, got 20 answers, remaining 0 packets\n",
      "   64.233.177.103:tcp80 \n",
      "1  64.233.177.103  SA   \n",
      "2  64.233.177.103  SA   \n",
      "3  64.233.177.103  SA   \n",
      "4  64.233.177.103  SA   \n",
      "5  64.233.177.103  SA   \n",
      "6  64.233.177.103  SA   \n",
      "7  64.233.177.103  SA   \n",
      "8  64.233.177.103  SA   \n",
      "9  64.233.177.103  SA   \n",
      "10 64.233.177.103  SA   \n",
      "11 64.233.177.103  SA   \n",
      "12 64.233.177.103  SA   \n",
      "13 64.233.177.103  SA   \n",
      "14 64.233.177.103  SA   \n",
      "15 64.233.177.103  SA   \n",
      "16 64.233.177.103  SA   \n",
      "17 64.233.177.103  SA   \n",
      "18 64.233.177.103  SA   \n",
      "19 64.233.177.103  SA   \n",
      "20 64.233.177.103  SA   \n"
     ]
    },
    {
     "data": {
      "text/plain": [
       "(<Traceroute: TCP:20 UDP:0 ICMP:0 Other:0>,\n",
       " <Unanswered: TCP:0 UDP:0 ICMP:0 Other:0>)"
      ]
     },
     "execution_count": 4,
     "metadata": {},
     "output_type": "execute_result"
    }
   ],
   "source": [
    "traceroute(target=\"www.google.com\", maxttl=20)\n",
    "# Result shows TCP traceroute on default port 80 with (SA - Syn Ack flags)"
   ]
  },
  {
   "cell_type": "code",
   "execution_count": 4,
   "metadata": {},
   "outputs": [
    {
     "name": "stdout",
     "output_type": "stream",
     "text": [
      "Begin emission:\n",
      "Finished to send 20 packets.\n",
      "\n",
      "Received 22 packets, got 20 answers, remaining 0 packets\n",
      "   216.58.217.46:tcp443 \n",
      "1  172.16.0.1      11   \n",
      "2  72.166.228.1    11   \n",
      "3  192.168.0.180   11   \n",
      "4  65.117.253.217  11   \n",
      "5  208.168.152.74  11   \n",
      "6  72.164.247.142  11   \n",
      "7  72.14.234.57    11   \n",
      "8  209.85.250.255  11   \n",
      "9  216.58.217.46   SA   \n",
      "10 216.58.217.46   SA   \n",
      "11 216.58.217.46   SA   \n",
      "12 216.58.217.46   SA   \n",
      "13 216.58.217.46   SA   \n",
      "14 216.58.217.46   SA   \n",
      "15 216.58.217.46   SA   \n",
      "16 216.58.217.46   SA   \n",
      "17 216.58.217.46   SA   \n",
      "18 216.58.217.46   SA   \n",
      "19 216.58.217.46   SA   \n",
      "20 216.58.217.46   SA   \n"
     ]
    },
    {
     "data": {
      "text/plain": [
       "(<Traceroute: TCP:12 UDP:0 ICMP:8 Other:0>,\n",
       " <Unanswered: TCP:0 UDP:0 ICMP:0 Other:0>)"
      ]
     },
     "execution_count": 4,
     "metadata": {},
     "output_type": "execute_result"
    }
   ],
   "source": [
    "traceroute('google.com', dport=443, maxttl=20)"
   ]
  },
  {
   "cell_type": "markdown",
   "metadata": {},
   "source": [
    "## script your own"
   ]
  },
  {
   "cell_type": "code",
   "execution_count": 7,
   "metadata": {},
   "outputs": [
    {
     "name": "stdout",
     "output_type": "stream",
     "text": [
      "35328\n"
     ]
    }
   ],
   "source": [
    "print(RandShort())"
   ]
  },
  {
   "cell_type": "markdown",
   "metadata": {},
   "source": [
    "### TCP Flag Key\n",
    "- http://rapid.web.unc.edu/resources/tcp-flag-key/"
   ]
  },
  {
   "cell_type": "code",
   "execution_count": null,
   "metadata": {},
   "outputs": [
    {
     "name": "stdout",
     "output_type": "stream",
     "text": [
      "Begin emission:\n",
      "Finished sending 22 packets.\n"
     ]
    }
   ],
   "source": [
    "ans, unans = sr(IP(dst='www.coloradomesa.edu', ttl=(4,25), id=RandShort())/TCP(dport=80, flags=0x02))"
   ]
  },
  {
   "cell_type": "code",
   "execution_count": null,
   "metadata": {
    "collapsed": true
   },
   "outputs": [],
   "source": [
    "ans.show()"
   ]
  },
  {
   "cell_type": "code",
   "execution_count": 4,
   "metadata": {},
   "outputs": [
    {
     "name": "stdout",
     "output_type": "stream",
     "text": [
      "4 50.63.202.11 True\n"
     ]
    }
   ],
   "source": [
    "for snd, rcv in ans:\n",
    "    print(snd.ttl, rcv.src, isinstance(rcv.payload, TCP))"
   ]
  },
  {
   "cell_type": "code",
   "execution_count": 5,
   "metadata": {},
   "outputs": [
    {
     "name": "stdout",
     "output_type": "stream",
     "text": [
      "Begin emission:\n",
      "Finished to send 120 packets.\n",
      "Begin emission:\n",
      "Finished to send 19 packets.\n",
      "Begin emission:\n",
      "Finished to send 19 packets.\n",
      "\n",
      "Received 107 packets, got 101 answers, remaining 19 packets\n",
      "   184.168.221.42:tcp443 184.168.221.42:tcp80 23.213.139.66:tcp443 23.213.139.66:tcp80 23.44.161.156:tcp443 23.44.161.156:tcp80 \n",
      "1  192.168.231.2   11    192.168.231.2   11   192.168.231.2   11   192.168.231.2   11  192.168.231.2   11   192.168.231.2   11  \n",
      "2  -                     184.168.221.42  SA   23.213.139.66   SA   23.213.139.66   SA  23.44.161.156   SA   23.44.161.156   SA  \n",
      "3  -                     184.168.221.42  SA   23.213.139.66   SA   23.213.139.66   SA  23.44.161.156   SA   23.44.161.156   SA  \n",
      "4  -                     184.168.221.42  SA   23.213.139.66   SA   23.213.139.66   SA  23.44.161.156   SA   23.44.161.156   SA  \n",
      "5  -                     184.168.221.42  SA   23.213.139.66   SA   23.213.139.66   SA  23.44.161.156   SA   23.44.161.156   SA  \n",
      "6  -                     184.168.221.42  SA   23.213.139.66   SA   23.213.139.66   SA  23.44.161.156   SA   23.44.161.156   SA  \n",
      "7  -                     184.168.221.42  SA   23.213.139.66   SA   23.213.139.66   SA  23.44.161.156   SA   23.44.161.156   SA  \n",
      "8  -                     184.168.221.42  SA   23.213.139.66   SA   23.213.139.66   SA  23.44.161.156   SA   23.44.161.156   SA  \n",
      "9  -                     184.168.221.42  SA   23.213.139.66   SA   23.213.139.66   SA  23.44.161.156   SA   23.44.161.156   SA  \n",
      "10 -                     184.168.221.42  SA   23.213.139.66   SA   23.213.139.66   SA  23.44.161.156   SA   23.44.161.156   SA  \n",
      "11 -                     184.168.221.42  SA   23.213.139.66   SA   23.213.139.66   SA  23.44.161.156   SA   23.44.161.156   SA  \n",
      "12 -                     184.168.221.42  SA   23.213.139.66   SA   23.213.139.66   SA  23.44.161.156   SA   23.44.161.156   SA  \n",
      "13 -                     184.168.221.42  SA   23.213.139.66   SA   23.213.139.66   SA  23.44.161.156   SA   23.44.161.156   SA  \n",
      "14 -                     184.168.221.42  SA   23.213.139.66   SA   23.213.139.66   SA  23.44.161.156   SA   23.44.161.156   SA  \n",
      "15 -                     184.168.221.42  SA   23.213.139.66   SA   23.213.139.66   SA  23.44.161.156   SA   23.44.161.156   SA  \n",
      "16 -                     184.168.221.42  SA   23.213.139.66   SA   23.213.139.66   SA  23.44.161.156   SA   23.44.161.156   SA  \n",
      "17 -                     184.168.221.42  SA   23.213.139.66   SA   23.213.139.66   SA  23.44.161.156   SA   23.44.161.156   SA  \n",
      "18 -                     184.168.221.42  SA   23.213.139.66   SA   23.213.139.66   SA  23.44.161.156   SA   23.44.161.156   SA  \n",
      "19 -                     184.168.221.42  SA   23.213.139.66   SA   23.213.139.66   SA  23.44.161.156   SA   23.44.161.156   SA  \n",
      "20 -                     184.168.221.42  SA   23.213.139.66   SA   23.213.139.66   SA  23.44.161.156   SA   23.44.161.156   SA  \n"
     ]
    }
   ],
   "source": [
    "res, unans = traceroute([\"www.microsoft.com\",\"www.cisco.com\",\"www.pacsec.com\"],dport=[80,443],maxttl=20,retry=-2)"
   ]
  },
  {
   "cell_type": "code",
   "execution_count": 8,
   "metadata": {},
   "outputs": [],
   "source": [
    "res.graph(target=\"graph.svg\")"
   ]
  },
  {
   "cell_type": "code",
   "execution_count": null,
   "metadata": {
    "collapsed": true
   },
   "outputs": [],
   "source": []
  }
 ],
 "metadata": {
  "kernelspec": {
   "display_name": "Python 3",
   "language": "python",
   "name": "python3"
  },
  "language_info": {
   "codemirror_mode": {
    "name": "ipython",
    "version": 3
   },
   "file_extension": ".py",
   "mimetype": "text/x-python",
   "name": "python",
   "nbconvert_exporter": "python",
   "pygments_lexer": "ipython3",
   "version": "3.5.2"
  }
 },
 "nbformat": 4,
 "nbformat_minor": 2
}
