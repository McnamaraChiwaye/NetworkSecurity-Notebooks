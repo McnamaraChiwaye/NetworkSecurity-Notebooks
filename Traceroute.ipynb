{
 "cells": [
  {
   "cell_type": "markdown",
   "metadata": {},
   "source": [
    "# Traceroute\n",
    "## Note: run jupyter with sudo jupyter notebook --allow-root for scapy to work "
   ]
  },
  {
   "cell_type": "markdown",
   "metadata": {},
   "source": [
    "## the bash way"
   ]
  },
  {
   "cell_type": "code",
   "execution_count": 2,
   "metadata": {},
   "outputs": [
    {
     "name": "stdout",
     "output_type": "stream",
     "text": [
      "traceroute: Warning: google.com has multiple addresses; using 74.125.21.139\n",
      "traceroute to google.com (74.125.21.139), 64 hops max, 52 byte packets\n",
      " 1  linksys09366 (192.168.1.1)  1.557 ms  1.567 ms  0.639 ms\n",
      " 2  * * *\n",
      " 3  host-69-144-24-37.lar-wy.client.bresnan.net (69.144.24.37)  13.970 ms  14.416 ms  12.866 ms\n",
      " 4  host-69-144-24-28.lar-wy.client.bresnan.net (69.144.24.28)  12.374 ms  11.193 ms  12.990 ms\n",
      " 5  host-69-144-47-49.sal-co.client.bresnan.net (69.144.47.49)  45.025 ms  47.546 ms  49.776 ms\n",
      " 6  96-34-76-114.static.unas.sc.charter.com (96.34.76.114)  56.215 ms  54.577 ms  51.518 ms\n",
      " 7  69.145.174.134 (69.145.174.134)  54.850 ms  51.205 ms  56.715 ms\n",
      " 8  bbr02snjsca-bue-2.snjs.ca.charter.com (96.34.0.2)  79.366 ms  86.776 ms  81.039 ms\n",
      " 9  prr01snjsca-bue-6.snjs.ca.charter.com (96.34.3.3)  83.397 ms  80.996 ms  79.722 ms\n",
      "10  74.125.50.90 (74.125.50.90)  80.410 ms  84.864 ms  101.587 ms\n",
      "11  108.170.242.94 (108.170.242.94)  129.299 ms\n",
      "    108.170.242.254 (108.170.242.254)  79.068 ms  80.403 ms\n",
      "12  72.14.237.160 (72.14.237.160)  79.071 ms  80.345 ms\n",
      "    74.125.253.149 (74.125.253.149)  90.348 ms\n",
      "13  209.85.248.127 (209.85.248.127)  104.763 ms\n",
      "    72.14.239.63 (72.14.239.63)  104.048 ms\n",
      "    209.85.248.127 (209.85.248.127)  105.312 ms\n",
      "14  72.14.239.159 (72.14.239.159)  117.980 ms  120.186 ms\n",
      "    72.14.237.134 (72.14.237.134)  118.107 ms\n",
      "15  209.85.243.161 (209.85.243.161)  136.519 ms\n",
      "    209.85.249.44 (209.85.249.44)  135.374 ms  138.370 ms\n",
      "16  216.239.47.83 (216.239.47.83)  148.679 ms\n",
      "    209.85.142.149 (209.85.142.149)  135.537 ms\n",
      "    209.85.248.53 (209.85.248.53)  136.527 ms\n",
      "17  * * *\n",
      "18  * * *\n",
      "19  * * *\n",
      "20  * * *\n",
      "21  * * *\n",
      "22  * * *\n",
      "23  * * *\n",
      "24  * * *\n",
      "25  * * *\n",
      "26  yv-in-f139.1e100.net (74.125.21.139)  140.301 ms  137.621 ms  137.166 ms\n"
     ]
    }
   ],
   "source": [
    "!traceroute google.com"
   ]
  },
  {
   "cell_type": "markdown",
   "metadata": {},
   "source": [
    "##  the Scapy easy way"
   ]
  },
  {
   "cell_type": "code",
   "execution_count": 3,
   "metadata": {},
   "outputs": [],
   "source": [
    "# must run jupyter notebook using sudo\n",
    "from scapy.all import *"
   ]
  },
  {
   "cell_type": "code",
   "execution_count": 4,
   "metadata": {},
   "outputs": [
    {
     "name": "stdout",
     "output_type": "stream",
     "text": [
      "Help on function traceroute in module scapy.layers.inet:\n",
      "\n",
      "traceroute(target, dport=80, minttl=1, maxttl=30, sport=<RandShort>, l4=None, filter=None, timeout=2, verbose=None, **kargs)\n",
      "    Instant TCP traceroute\n",
      "    traceroute(target, [maxttl=30,] [dport=80,] [sport=80,] [verbose=conf.verb]) -> None\n",
      "\n"
     ]
    }
   ],
   "source": [
    "help(traceroute)"
   ]
  },
  {
   "cell_type": "code",
   "execution_count": 5,
   "metadata": {},
   "outputs": [
    {
     "ename": "Scapy_Exception",
     "evalue": "No /dev/bpf handle is available !",
     "output_type": "error",
     "traceback": [
      "\u001b[0;31m---------------------------------------------------------------------------\u001b[0m",
      "\u001b[0;31mScapy_Exception\u001b[0m                           Traceback (most recent call last)",
      "\u001b[0;32m<ipython-input-5-df43eb02f93b>\u001b[0m in \u001b[0;36m<module>\u001b[0;34m()\u001b[0m\n\u001b[0;32m----> 1\u001b[0;31m \u001b[0mtraceroute\u001b[0m\u001b[0;34m(\u001b[0m\u001b[0mtarget\u001b[0m\u001b[0;34m=\u001b[0m\u001b[0;34m\"www.google.com\"\u001b[0m\u001b[0;34m,\u001b[0m \u001b[0mmaxttl\u001b[0m\u001b[0;34m=\u001b[0m\u001b[0;36m20\u001b[0m\u001b[0;34m)\u001b[0m\u001b[0;34m\u001b[0m\u001b[0m\n\u001b[0m\u001b[1;32m      2\u001b[0m \u001b[0;31m# Result shows TCP traceroute on default port 80 with (SA - Syn Ack flags)\u001b[0m\u001b[0;34m\u001b[0m\u001b[0;34m\u001b[0m\u001b[0m\n",
      "\u001b[0;32m/Library/Frameworks/Python.framework/Versions/3.6/lib/python3.6/site-packages/scapy/layers/inet.py\u001b[0m in \u001b[0;36mtraceroute\u001b[0;34m(target, dport, minttl, maxttl, sport, l4, filter, timeout, verbose, **kargs)\u001b[0m\n\u001b[1;32m   1505\u001b[0m     \u001b[0;32mif\u001b[0m \u001b[0ml4\u001b[0m \u001b[0;32mis\u001b[0m \u001b[0;32mNone\u001b[0m\u001b[0;34m:\u001b[0m\u001b[0;34m\u001b[0m\u001b[0m\n\u001b[1;32m   1506\u001b[0m         a,b = sr(IP(dst=target, id=RandShort(), ttl=(minttl,maxttl))/TCP(seq=RandInt(),sport=sport, dport=dport),\n\u001b[0;32m-> 1507\u001b[0;31m                  timeout=timeout, filter=filter, verbose=verbose, **kargs)\n\u001b[0m\u001b[1;32m   1508\u001b[0m     \u001b[0;32melse\u001b[0m\u001b[0;34m:\u001b[0m\u001b[0;34m\u001b[0m\u001b[0m\n\u001b[1;32m   1509\u001b[0m         \u001b[0;31m# this should always work\u001b[0m\u001b[0;34m\u001b[0m\u001b[0;34m\u001b[0m\u001b[0m\n",
      "\u001b[0;32m/Library/Frameworks/Python.framework/Versions/3.6/lib/python3.6/site-packages/scapy/sendrecv.py\u001b[0m in \u001b[0;36msr\u001b[0;34m(x, promisc, filter, iface, nofilter, *args, **kargs)\u001b[0m\n\u001b[1;32m    373\u001b[0m     \u001b[0;32mif\u001b[0m \u001b[0;34m\"timeout\"\u001b[0m \u001b[0;32mnot\u001b[0m \u001b[0;32min\u001b[0m \u001b[0mkargs\u001b[0m\u001b[0;34m:\u001b[0m\u001b[0;34m\u001b[0m\u001b[0m\n\u001b[1;32m    374\u001b[0m         \u001b[0mkargs\u001b[0m\u001b[0;34m[\u001b[0m\u001b[0;34m\"timeout\"\u001b[0m\u001b[0;34m]\u001b[0m \u001b[0;34m=\u001b[0m \u001b[0;34m-\u001b[0m\u001b[0;36m1\u001b[0m\u001b[0;34m\u001b[0m\u001b[0m\n\u001b[0;32m--> 375\u001b[0;31m     \u001b[0ms\u001b[0m \u001b[0;34m=\u001b[0m \u001b[0mconf\u001b[0m\u001b[0;34m.\u001b[0m\u001b[0mL3socket\u001b[0m\u001b[0;34m(\u001b[0m\u001b[0mpromisc\u001b[0m\u001b[0;34m=\u001b[0m\u001b[0mpromisc\u001b[0m\u001b[0;34m,\u001b[0m \u001b[0mfilter\u001b[0m\u001b[0;34m=\u001b[0m\u001b[0mfilter\u001b[0m\u001b[0;34m,\u001b[0m \u001b[0miface\u001b[0m\u001b[0;34m=\u001b[0m\u001b[0miface\u001b[0m\u001b[0;34m,\u001b[0m \u001b[0mnofilter\u001b[0m\u001b[0;34m=\u001b[0m\u001b[0mnofilter\u001b[0m\u001b[0;34m)\u001b[0m\u001b[0;34m\u001b[0m\u001b[0m\n\u001b[0m\u001b[1;32m    376\u001b[0m     \u001b[0mresult\u001b[0m \u001b[0;34m=\u001b[0m \u001b[0msndrcv\u001b[0m\u001b[0;34m(\u001b[0m\u001b[0ms\u001b[0m\u001b[0;34m,\u001b[0m \u001b[0mx\u001b[0m\u001b[0;34m,\u001b[0m \u001b[0;34m*\u001b[0m\u001b[0margs\u001b[0m\u001b[0;34m,\u001b[0m \u001b[0;34m**\u001b[0m\u001b[0mkargs\u001b[0m\u001b[0;34m)\u001b[0m\u001b[0;34m\u001b[0m\u001b[0m\n\u001b[1;32m    377\u001b[0m     \u001b[0ms\u001b[0m\u001b[0;34m.\u001b[0m\u001b[0mclose\u001b[0m\u001b[0;34m(\u001b[0m\u001b[0;34m)\u001b[0m\u001b[0;34m\u001b[0m\u001b[0m\n",
      "\u001b[0;32m/Library/Frameworks/Python.framework/Versions/3.6/lib/python3.6/site-packages/scapy/arch/bpf/supersocket.py\u001b[0m in \u001b[0;36m__init__\u001b[0;34m(self, iface, type, promisc, filter, nofilter, monitor)\u001b[0m\n\u001b[1;32m     56\u001b[0m \u001b[0;34m\u001b[0m\u001b[0m\n\u001b[1;32m     57\u001b[0m         \u001b[0;31m# Get the BPF handle\u001b[0m\u001b[0;34m\u001b[0m\u001b[0;34m\u001b[0m\u001b[0m\n\u001b[0;32m---> 58\u001b[0;31m         \u001b[0;34m(\u001b[0m\u001b[0mself\u001b[0m\u001b[0;34m.\u001b[0m\u001b[0mins\u001b[0m\u001b[0;34m,\u001b[0m \u001b[0mself\u001b[0m\u001b[0;34m.\u001b[0m\u001b[0mdev_bpf\u001b[0m\u001b[0;34m)\u001b[0m \u001b[0;34m=\u001b[0m \u001b[0mget_dev_bpf\u001b[0m\u001b[0;34m(\u001b[0m\u001b[0;34m)\u001b[0m\u001b[0;34m\u001b[0m\u001b[0m\n\u001b[0m\u001b[1;32m     59\u001b[0m         \u001b[0mself\u001b[0m\u001b[0;34m.\u001b[0m\u001b[0mouts\u001b[0m \u001b[0;34m=\u001b[0m \u001b[0mself\u001b[0m\u001b[0;34m.\u001b[0m\u001b[0mins\u001b[0m\u001b[0;34m\u001b[0m\u001b[0m\n\u001b[1;32m     60\u001b[0m \u001b[0;34m\u001b[0m\u001b[0m\n",
      "\u001b[0;32m/Library/Frameworks/Python.framework/Versions/3.6/lib/python3.6/site-packages/scapy/arch/bpf/core.py\u001b[0m in \u001b[0;36mget_dev_bpf\u001b[0;34m()\u001b[0m\n\u001b[1;32m     96\u001b[0m             \u001b[0;32mcontinue\u001b[0m\u001b[0;34m\u001b[0m\u001b[0m\n\u001b[1;32m     97\u001b[0m \u001b[0;34m\u001b[0m\u001b[0m\n\u001b[0;32m---> 98\u001b[0;31m     \u001b[0;32mraise\u001b[0m \u001b[0mScapy_Exception\u001b[0m\u001b[0;34m(\u001b[0m\u001b[0;34m\"No /dev/bpf handle is available !\"\u001b[0m\u001b[0;34m)\u001b[0m\u001b[0;34m\u001b[0m\u001b[0m\n\u001b[0m\u001b[1;32m     99\u001b[0m \u001b[0;34m\u001b[0m\u001b[0m\n\u001b[1;32m    100\u001b[0m \u001b[0;34m\u001b[0m\u001b[0m\n",
      "\u001b[0;31mScapy_Exception\u001b[0m: No /dev/bpf handle is available !"
     ]
    }
   ],
   "source": [
    "traceroute(target=\"www.google.com\", maxttl=20)\n",
    "# Result shows TCP traceroute on default port 80 with (SA - Syn Ack flags)"
   ]
  },
  {
   "cell_type": "code",
   "execution_count": 4,
   "metadata": {},
   "outputs": [
    {
     "name": "stdout",
     "output_type": "stream",
     "text": [
      "Begin emission:\n",
      "Finished to send 20 packets.\n",
      "\n",
      "Received 22 packets, got 20 answers, remaining 0 packets\n",
      "   216.58.217.46:tcp443 \n",
      "1  172.16.0.1      11   \n",
      "2  72.166.228.1    11   \n",
      "3  192.168.0.180   11   \n",
      "4  65.117.253.217  11   \n",
      "5  208.168.152.74  11   \n",
      "6  72.164.247.142  11   \n",
      "7  72.14.234.57    11   \n",
      "8  209.85.250.255  11   \n",
      "9  216.58.217.46   SA   \n",
      "10 216.58.217.46   SA   \n",
      "11 216.58.217.46   SA   \n",
      "12 216.58.217.46   SA   \n",
      "13 216.58.217.46   SA   \n",
      "14 216.58.217.46   SA   \n",
      "15 216.58.217.46   SA   \n",
      "16 216.58.217.46   SA   \n",
      "17 216.58.217.46   SA   \n",
      "18 216.58.217.46   SA   \n",
      "19 216.58.217.46   SA   \n",
      "20 216.58.217.46   SA   \n"
     ]
    },
    {
     "data": {
      "text/plain": [
       "(<Traceroute: TCP:12 UDP:0 ICMP:8 Other:0>,\n",
       " <Unanswered: TCP:0 UDP:0 ICMP:0 Other:0>)"
      ]
     },
     "execution_count": 4,
     "metadata": {},
     "output_type": "execute_result"
    }
   ],
   "source": [
    "traceroute('google.com', dport=443, maxttl=20)"
   ]
  },
  {
   "cell_type": "markdown",
   "metadata": {},
   "source": [
    "## script your own"
   ]
  },
  {
   "cell_type": "code",
   "execution_count": 7,
   "metadata": {},
   "outputs": [
    {
     "name": "stdout",
     "output_type": "stream",
     "text": [
      "35328\n"
     ]
    }
   ],
   "source": [
    "print(RandShort())"
   ]
  },
  {
   "cell_type": "markdown",
   "metadata": {},
   "source": [
    "### TCP Flag Key\n",
    "- http://rapid.web.unc.edu/resources/tcp-flag-key/"
   ]
  },
  {
   "cell_type": "code",
   "execution_count": 3,
   "metadata": {},
   "outputs": [
    {
     "name": "stdout",
     "output_type": "stream",
     "text": [
      "Begin emission:\n",
      "Finished to send 22 packets.\n",
      "\n",
      "Received 178 packets, got 1 answers, remaining 21 packets\n"
     ]
    }
   ],
   "source": [
    "ans, unans = sr(IP(dst='www.coloradomesa.com', ttl=(4,25), id=RandShort())/TCP(dport=80, flags=0x02))"
   ]
  },
  {
   "cell_type": "code",
   "execution_count": null,
   "metadata": {
    "collapsed": true
   },
   "outputs": [],
   "source": [
    "ans.show()"
   ]
  },
  {
   "cell_type": "code",
   "execution_count": 4,
   "metadata": {},
   "outputs": [
    {
     "name": "stdout",
     "output_type": "stream",
     "text": [
      "4 50.63.202.11 True\n"
     ]
    }
   ],
   "source": [
    "for snd, rcv in ans:\n",
    "    print(snd.ttl, rcv.src, isinstance(rcv.payload, TCP))"
   ]
  },
  {
   "cell_type": "code",
   "execution_count": 5,
   "metadata": {},
   "outputs": [
    {
     "name": "stdout",
     "output_type": "stream",
     "text": [
      "Begin emission:\n",
      "Finished to send 120 packets.\n",
      "Begin emission:\n",
      "Finished to send 19 packets.\n",
      "Begin emission:\n",
      "Finished to send 19 packets.\n",
      "\n",
      "Received 107 packets, got 101 answers, remaining 19 packets\n",
      "   184.168.221.42:tcp443 184.168.221.42:tcp80 23.213.139.66:tcp443 23.213.139.66:tcp80 23.44.161.156:tcp443 23.44.161.156:tcp80 \n",
      "1  192.168.231.2   11    192.168.231.2   11   192.168.231.2   11   192.168.231.2   11  192.168.231.2   11   192.168.231.2   11  \n",
      "2  -                     184.168.221.42  SA   23.213.139.66   SA   23.213.139.66   SA  23.44.161.156   SA   23.44.161.156   SA  \n",
      "3  -                     184.168.221.42  SA   23.213.139.66   SA   23.213.139.66   SA  23.44.161.156   SA   23.44.161.156   SA  \n",
      "4  -                     184.168.221.42  SA   23.213.139.66   SA   23.213.139.66   SA  23.44.161.156   SA   23.44.161.156   SA  \n",
      "5  -                     184.168.221.42  SA   23.213.139.66   SA   23.213.139.66   SA  23.44.161.156   SA   23.44.161.156   SA  \n",
      "6  -                     184.168.221.42  SA   23.213.139.66   SA   23.213.139.66   SA  23.44.161.156   SA   23.44.161.156   SA  \n",
      "7  -                     184.168.221.42  SA   23.213.139.66   SA   23.213.139.66   SA  23.44.161.156   SA   23.44.161.156   SA  \n",
      "8  -                     184.168.221.42  SA   23.213.139.66   SA   23.213.139.66   SA  23.44.161.156   SA   23.44.161.156   SA  \n",
      "9  -                     184.168.221.42  SA   23.213.139.66   SA   23.213.139.66   SA  23.44.161.156   SA   23.44.161.156   SA  \n",
      "10 -                     184.168.221.42  SA   23.213.139.66   SA   23.213.139.66   SA  23.44.161.156   SA   23.44.161.156   SA  \n",
      "11 -                     184.168.221.42  SA   23.213.139.66   SA   23.213.139.66   SA  23.44.161.156   SA   23.44.161.156   SA  \n",
      "12 -                     184.168.221.42  SA   23.213.139.66   SA   23.213.139.66   SA  23.44.161.156   SA   23.44.161.156   SA  \n",
      "13 -                     184.168.221.42  SA   23.213.139.66   SA   23.213.139.66   SA  23.44.161.156   SA   23.44.161.156   SA  \n",
      "14 -                     184.168.221.42  SA   23.213.139.66   SA   23.213.139.66   SA  23.44.161.156   SA   23.44.161.156   SA  \n",
      "15 -                     184.168.221.42  SA   23.213.139.66   SA   23.213.139.66   SA  23.44.161.156   SA   23.44.161.156   SA  \n",
      "16 -                     184.168.221.42  SA   23.213.139.66   SA   23.213.139.66   SA  23.44.161.156   SA   23.44.161.156   SA  \n",
      "17 -                     184.168.221.42  SA   23.213.139.66   SA   23.213.139.66   SA  23.44.161.156   SA   23.44.161.156   SA  \n",
      "18 -                     184.168.221.42  SA   23.213.139.66   SA   23.213.139.66   SA  23.44.161.156   SA   23.44.161.156   SA  \n",
      "19 -                     184.168.221.42  SA   23.213.139.66   SA   23.213.139.66   SA  23.44.161.156   SA   23.44.161.156   SA  \n",
      "20 -                     184.168.221.42  SA   23.213.139.66   SA   23.213.139.66   SA  23.44.161.156   SA   23.44.161.156   SA  \n"
     ]
    }
   ],
   "source": [
    "res, unans = traceroute([\"www.microsoft.com\",\"www.cisco.com\",\"www.pacsec.com\"],dport=[80,443],maxttl=20,retry=-2)"
   ]
  },
  {
   "cell_type": "code",
   "execution_count": 8,
   "metadata": {},
   "outputs": [],
   "source": [
    "res.graph(target=\"graph.svg\")"
   ]
  },
  {
   "cell_type": "code",
   "execution_count": null,
   "metadata": {
    "collapsed": true
   },
   "outputs": [],
   "source": []
  }
 ],
 "metadata": {
  "kernelspec": {
   "display_name": "Python 3",
   "language": "python",
   "name": "python3"
  },
  "language_info": {
   "codemirror_mode": {
    "name": "ipython",
    "version": 3
   },
   "file_extension": ".py",
   "mimetype": "text/x-python",
   "name": "python",
   "nbconvert_exporter": "python",
   "pygments_lexer": "ipython3",
   "version": "3.6.2"
  }
 },
 "nbformat": 4,
 "nbformat_minor": 2
}
