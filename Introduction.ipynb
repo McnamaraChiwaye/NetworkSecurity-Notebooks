{
 "cells": [
  {
   "cell_type": "markdown",
   "metadata": {},
   "source": [
    "# Networking & Scapy\n",
    "\n",
    "### Table of Contents\n",
    "**1. [Bash Network Utilities](./BashNetworkUtility.ipynb)** <br> \n",
    "**2. [Network Sniffing](./NetworkSniffing.ipynb)** <br>\n",
    "**3. [Scapy Introduction](./ScapyIntro.ipynb)**<br>\n",
    "**4. [Scapy Send Receive Packets](./ScapySendReceivePackets.ipynb)**<br>\n",
    "**5. [Sniffing with Scapy](./SniffingWithScapy.ipynb)**<br>\n",
    "**6. [Traceroute Scapy vs Bash](./Traceroute-BashVsScapy.ipynb)**<br>\n",
    "**7. [Scapy Scripts](./ScapyScripts.ipynb)**<br>"
   ]
  },
  {
   "cell_type": "code",
   "execution_count": null,
   "metadata": {},
   "outputs": [],
   "source": []
  }
 ],
 "metadata": {
  "kernelspec": {
   "display_name": "Python 3",
   "language": "python",
   "name": "python3"
  },
  "language_info": {
   "codemirror_mode": {
    "name": "ipython",
    "version": 3
   },
   "file_extension": ".py",
   "mimetype": "text/x-python",
   "name": "python",
   "nbconvert_exporter": "python",
   "pygments_lexer": "ipython3",
   "version": "3.7.1"
  }
 },
 "nbformat": 4,
 "nbformat_minor": 2
}
