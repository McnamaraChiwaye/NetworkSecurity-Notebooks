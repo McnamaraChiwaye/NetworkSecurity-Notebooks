{
 "cells": [
  {
   "cell_type": "markdown",
   "metadata": {},
   "source": [
    "# Writing a network and port scanner with Scapy\n",
    "- replicate some basic features of Nmap and other network scanning tools"
   ]
  },
  {
   "cell_type": "code",
   "execution_count": null,
   "metadata": {},
   "outputs": [],
   "source": [
    "!nmap"
   ]
  },
  {
   "cell_type": "code",
   "execution_count": null,
   "metadata": {},
   "outputs": [],
   "source": [
    "# ping scan using nmap - ping scan mac host\n",
    "! nmap -sn 192.168.65.1"
   ]
  },
  {
   "cell_type": "markdown",
   "metadata": {},
   "source": [
    "## ping can be blocked\n",
    "- disable ping on host and scan again"
   ]
  },
  {
   "cell_type": "code",
   "execution_count": null,
   "metadata": {},
   "outputs": [],
   "source": [
    "! nmap -sn 192.168.65.1"
   ]
  },
  {
   "cell_type": "code",
   "execution_count": null,
   "metadata": {},
   "outputs": [],
   "source": [
    "# enable os fingerprinting\n",
    "! nmap -sS -A 192.168.65.1"
   ]
  },
  {
   "cell_type": "code",
   "execution_count": 2,
   "metadata": {},
   "outputs": [
    {
     "name": "stdout",
     "output_type": "stream",
     "text": [
      "Collecting netaddr\n",
      "\u001b[?25l  Downloading https://files.pythonhosted.org/packages/ba/97/ce14451a9fd7bdb5a397abf99b24a1a6bb7a1a440b019bebd2e9a0dbec74/netaddr-0.7.19-py2.py3-none-any.whl (1.6MB)\n",
      "\u001b[K    100% |████████████████████████████████| 1.6MB 8.8MB/s eta 0:00:01    78% |█████████████████████████▏      | 1.3MB 6.8MB/s eta 0:00:01\n",
      "\u001b[?25hInstalling collected packages: netaddr\n",
      "Successfully installed netaddr-0.7.19\n"
     ]
    }
   ],
   "source": [
    "! pip install netaddr"
   ]
  },
  {
   "cell_type": "markdown",
   "metadata": {},
   "source": [
    "## scapy ping scan\n",
    "- scan the network with ping/icmp packets and scan for ports on the live hosts"
   ]
  },
  {
   "cell_type": "code",
   "execution_count": 3,
   "metadata": {},
   "outputs": [],
   "source": [
    "#! /usr/bin/python3\n",
    "\n",
    "# Adapted for Python 3 from : https://thepacketgeek.com/scapy-p-10-emulating-nmap-functions/\n",
    "\n",
    "from scapy.all import *\n",
    "import netaddr\n",
    "import random\n",
    "\n",
    "def pingHost(host):\n",
    "    resp = sr1(IP(dst=str(host))/ICMP(), timeout=2, verbose=0)\n",
    "    up = False\n",
    "    #resp.show()\n",
    "    if not resp:\n",
    "        print(str(host) + \" is down or not responding.\")\n",
    "    elif resp.haslayer(ICMP):\n",
    "        if (int(resp.getlayer(ICMP).type)==3 and int(resp.getlayer(ICMP).code) in [1,2,3,9,10,13]):\n",
    "            print(str(host) + \" is blocking ICMP.\")\n",
    "        elif (int(resp.getlayer(ICMP).type) == 0): # icmp-response received \n",
    "            up = True\n",
    "        else:\n",
    "            print(\"icmp type = {}\".format(int(resp.getlayer(ICMP).type)))\n",
    "            print(str(addr) + \" is acting weird.\")\n",
    "    return up\n",
    "\n",
    "# Send ICMP ping request, wait for answer\n",
    "def pingScanNetwork(addresses):\n",
    "    liveHosts = []\n",
    "    for addr in addresses:\n",
    "        if (addr == addresses.network or addr == addresses.broadcast):\n",
    "            continue\n",
    "\n",
    "        print(\"Trying on {}\".format(addr))\n",
    "        if pingHost(str(addr)):\n",
    "            liveHosts.append(str(addr))\n",
    "                \n",
    "    return liveHosts"
   ]
  },
  {
   "cell_type": "markdown",
   "metadata": {},
   "source": [
    "## scan a host"
   ]
  },
  {
   "cell_type": "code",
   "execution_count": 4,
   "metadata": {},
   "outputs": [
    {
     "name": "stdout",
     "output_type": "stream",
     "text": [
      "www.facebook.com host is up!\n"
     ]
    }
   ],
   "source": [
    "host = 'www.facebook.com'\n",
    "live = pingHost(host)\n",
    "if live:\n",
    "    print('{} host is up!'.format(host))"
   ]
  },
  {
   "cell_type": "markdown",
   "metadata": {},
   "source": [
    "## scan a whole subnet"
   ]
  },
  {
   "cell_type": "code",
   "execution_count": null,
   "metadata": {},
   "outputs": [
    {
     "name": "stdout",
     "output_type": "stream",
     "text": [
      "Trying on 192.168.47.1\n",
      "192.168.47.1 is down or not responding.\n",
      "Trying on 192.168.47.2\n",
      "192.168.47.2 is down or not responding.\n",
      "Trying on 192.168.47.3\n",
      "192.168.47.3 is down or not responding.\n",
      "Trying on 192.168.47.4\n",
      "192.168.47.4 is down or not responding.\n",
      "Trying on 192.168.47.5\n",
      "192.168.47.5 is down or not responding.\n",
      "Trying on 192.168.47.6\n",
      "192.168.47.6 is down or not responding.\n",
      "Trying on 192.168.47.7\n",
      "192.168.47.7 is down or not responding.\n",
      "Trying on 192.168.47.8\n",
      "192.168.47.8 is down or not responding.\n",
      "Trying on 192.168.47.9\n",
      "192.168.47.9 is down or not responding.\n",
      "Trying on 192.168.47.10\n",
      "192.168.47.10 is down or not responding.\n",
      "Trying on 192.168.47.11\n",
      "192.168.47.11 is down or not responding.\n",
      "Trying on 192.168.47.12\n",
      "192.168.47.12 is down or not responding.\n",
      "Trying on 192.168.47.13\n",
      "192.168.47.13 is down or not responding.\n",
      "Trying on 192.168.47.14\n",
      "192.168.47.14 is down or not responding.\n",
      "Trying on 192.168.47.15\n",
      "192.168.47.15 is down or not responding.\n",
      "Trying on 192.168.47.16\n",
      "192.168.47.16 is down or not responding.\n",
      "Trying on 192.168.47.17\n",
      "192.168.47.17 is down or not responding.\n",
      "Trying on 192.168.47.18\n",
      "192.168.47.18 is down or not responding.\n",
      "Trying on 192.168.47.19\n",
      "192.168.47.19 is down or not responding.\n",
      "Trying on 192.168.47.20\n",
      "192.168.47.20 is down or not responding.\n",
      "Trying on 192.168.47.21\n",
      "192.168.47.21 is down or not responding.\n",
      "Trying on 192.168.47.22\n",
      "192.168.47.22 is down or not responding.\n",
      "Trying on 192.168.47.23\n",
      "192.168.47.23 is down or not responding.\n",
      "Trying on 192.168.47.24\n",
      "192.168.47.24 is down or not responding.\n",
      "Trying on 192.168.47.25\n",
      "192.168.47.25 is down or not responding.\n",
      "Trying on 192.168.47.26\n",
      "192.168.47.26 is down or not responding.\n",
      "Trying on 192.168.47.27\n",
      "192.168.47.27 is down or not responding.\n",
      "Trying on 192.168.47.28\n",
      "192.168.47.28 is down or not responding.\n",
      "Trying on 192.168.47.29\n",
      "192.168.47.29 is down or not responding.\n",
      "Trying on 192.168.47.30\n",
      "192.168.47.30 is down or not responding.\n",
      "Trying on 192.168.47.31\n",
      "192.168.47.31 is down or not responding.\n",
      "Trying on 192.168.47.32\n",
      "192.168.47.32 is down or not responding.\n",
      "Trying on 192.168.47.33\n",
      "192.168.47.33 is down or not responding.\n",
      "Trying on 192.168.47.34\n",
      "192.168.47.34 is down or not responding.\n",
      "Trying on 192.168.47.35\n",
      "192.168.47.35 is down or not responding.\n",
      "Trying on 192.168.47.36\n",
      "192.168.47.36 is down or not responding.\n",
      "Trying on 192.168.47.37\n",
      "192.168.47.37 is down or not responding.\n",
      "Trying on 192.168.47.38\n",
      "192.168.47.38 is down or not responding.\n",
      "Trying on 192.168.47.39\n",
      "192.168.47.39 is down or not responding.\n",
      "Trying on 192.168.47.40\n",
      "192.168.47.40 is down or not responding.\n",
      "Trying on 192.168.47.41\n",
      "192.168.47.41 is down or not responding.\n",
      "Trying on 192.168.47.42\n",
      "192.168.47.42 is down or not responding.\n",
      "Trying on 192.168.47.43\n",
      "192.168.47.43 is down or not responding.\n",
      "Trying on 192.168.47.44\n",
      "192.168.47.44 is down or not responding.\n",
      "Trying on 192.168.47.45\n",
      "192.168.47.45 is down or not responding.\n",
      "Trying on 192.168.47.46\n",
      "192.168.47.46 is down or not responding.\n",
      "Trying on 192.168.47.47\n",
      "192.168.47.47 is down or not responding.\n",
      "Trying on 192.168.47.48\n",
      "192.168.47.48 is down or not responding.\n",
      "Trying on 192.168.47.49\n",
      "192.168.47.49 is down or not responding.\n",
      "Trying on 192.168.47.50\n",
      "192.168.47.50 is down or not responding.\n",
      "Trying on 192.168.47.51\n",
      "192.168.47.51 is down or not responding.\n",
      "Trying on 192.168.47.52\n",
      "192.168.47.52 is down or not responding.\n",
      "Trying on 192.168.47.53\n",
      "192.168.47.53 is down or not responding.\n",
      "Trying on 192.168.47.54\n",
      "192.168.47.54 is down or not responding.\n",
      "Trying on 192.168.47.55\n",
      "192.168.47.55 is down or not responding.\n",
      "Trying on 192.168.47.56\n",
      "192.168.47.56 is down or not responding.\n",
      "Trying on 192.168.47.57\n",
      "192.168.47.57 is down or not responding.\n",
      "Trying on 192.168.47.58\n",
      "192.168.47.58 is down or not responding.\n",
      "Trying on 192.168.47.59\n",
      "192.168.47.59 is down or not responding.\n",
      "Trying on 192.168.47.60\n",
      "192.168.47.60 is down or not responding.\n",
      "Trying on 192.168.47.61\n",
      "192.168.47.61 is down or not responding.\n",
      "Trying on 192.168.47.62\n",
      "192.168.47.62 is down or not responding.\n",
      "Trying on 192.168.47.63\n",
      "192.168.47.63 is down or not responding.\n",
      "Trying on 192.168.47.64\n",
      "192.168.47.64 is down or not responding.\n",
      "Trying on 192.168.47.65\n",
      "192.168.47.65 is down or not responding.\n",
      "Trying on 192.168.47.66\n",
      "192.168.47.66 is down or not responding.\n",
      "Trying on 192.168.47.67\n",
      "192.168.47.67 is down or not responding.\n",
      "Trying on 192.168.47.68\n",
      "192.168.47.68 is down or not responding.\n",
      "Trying on 192.168.47.69\n",
      "192.168.47.69 is down or not responding.\n",
      "Trying on 192.168.47.70\n",
      "192.168.47.70 is down or not responding.\n",
      "Trying on 192.168.47.71\n",
      "192.168.47.71 is down or not responding.\n",
      "Trying on 192.168.47.72\n",
      "192.168.47.72 is down or not responding.\n",
      "Trying on 192.168.47.73\n",
      "192.168.47.73 is down or not responding.\n",
      "Trying on 192.168.47.74\n",
      "192.168.47.74 is down or not responding.\n",
      "Trying on 192.168.47.75\n",
      "192.168.47.75 is down or not responding.\n",
      "Trying on 192.168.47.76\n",
      "192.168.47.76 is down or not responding.\n",
      "Trying on 192.168.47.77\n",
      "192.168.47.77 is down or not responding.\n",
      "Trying on 192.168.47.78\n",
      "192.168.47.78 is down or not responding.\n",
      "Trying on 192.168.47.79\n",
      "192.168.47.79 is down or not responding.\n",
      "Trying on 192.168.47.80\n",
      "192.168.47.80 is down or not responding.\n",
      "Trying on 192.168.47.81\n",
      "192.168.47.81 is down or not responding.\n",
      "Trying on 192.168.47.82\n",
      "192.168.47.82 is down or not responding.\n",
      "Trying on 192.168.47.83\n",
      "192.168.47.83 is down or not responding.\n",
      "Trying on 192.168.47.84\n",
      "192.168.47.84 is down or not responding.\n",
      "Trying on 192.168.47.85\n",
      "192.168.47.85 is down or not responding.\n",
      "Trying on 192.168.47.86\n",
      "192.168.47.86 is down or not responding.\n",
      "Trying on 192.168.47.87\n",
      "192.168.47.87 is down or not responding.\n",
      "Trying on 192.168.47.88\n",
      "192.168.47.88 is down or not responding.\n",
      "Trying on 192.168.47.89\n",
      "192.168.47.89 is down or not responding.\n",
      "Trying on 192.168.47.90\n",
      "192.168.47.90 is down or not responding.\n",
      "Trying on 192.168.47.91\n",
      "192.168.47.91 is down or not responding.\n",
      "Trying on 192.168.47.92\n",
      "192.168.47.92 is down or not responding.\n",
      "Trying on 192.168.47.93\n",
      "192.168.47.93 is down or not responding.\n",
      "Trying on 192.168.47.94\n",
      "192.168.47.94 is down or not responding.\n",
      "Trying on 192.168.47.95\n",
      "192.168.47.95 is down or not responding.\n",
      "Trying on 192.168.47.96\n",
      "192.168.47.96 is down or not responding.\n",
      "Trying on 192.168.47.97\n",
      "192.168.47.97 is down or not responding.\n",
      "Trying on 192.168.47.98\n",
      "192.168.47.98 is down or not responding.\n",
      "Trying on 192.168.47.99\n",
      "192.168.47.99 is down or not responding.\n",
      "Trying on 192.168.47.100\n",
      "192.168.47.100 is down or not responding.\n",
      "Trying on 192.168.47.101\n",
      "192.168.47.101 is down or not responding.\n",
      "Trying on 192.168.47.102\n",
      "192.168.47.102 is down or not responding.\n",
      "Trying on 192.168.47.103\n",
      "192.168.47.103 is down or not responding.\n",
      "Trying on 192.168.47.104\n",
      "192.168.47.104 is down or not responding.\n",
      "Trying on 192.168.47.105\n",
      "192.168.47.105 is down or not responding.\n",
      "Trying on 192.168.47.106\n",
      "192.168.47.106 is down or not responding.\n",
      "Trying on 192.168.47.107\n"
     ]
    }
   ],
   "source": [
    "# Define IP range to scan\n",
    "network = \"192.168.47.1/24\"\n",
    "# Define TCP port range\n",
    "portRange = [22,23,80,443,449]\n",
    "# make list of addresses out of network, set live host counter\n",
    "addresses = netaddr.IPNetwork(network)\n",
    "liveHosts = pingScanNetwork(addresses)"
   ]
  },
  {
   "cell_type": "markdown",
   "metadata": {},
   "source": [
    "## scapy port scanner\n",
    "- tcp syn scan to map open ports"
   ]
  },
  {
   "cell_type": "code",
   "execution_count": 1,
   "metadata": {},
   "outputs": [],
   "source": [
    "#! /usr/bin/python3\n",
    "# Adapted from: https://thepacketgeek.com/scapy-p-10-emulating-nmap-functions/\n",
    "# Fixed some bugs and ported for Python3\n",
    "\n",
    "from scapy.all import *\n",
    "import random\n",
    "# Define end host and TCP port range\n",
    "\n",
    "# Send SYN with random Src Port for each Dst port\n",
    "def scanPorts(host, portRange):\n",
    "    for dstPort in portRange:\n",
    "        print(\"Trying port {:6}\".format(dstPort))\n",
    "        srcPort = random.randint(1025,65534)\n",
    "        resp = sr1(IP(dst=host)/TCP(sport=srcPort,dport=dstPort,flags=\"S\"),timeout=1,verbose=0)\n",
    "        if resp:\n",
    "            if (str(type(resp)) == \"<type 'NoneType'>\"):\n",
    "                print(host + \":\" + str(dstPort) + \" is filtered (silently dropped).\")\n",
    "            elif(resp.haslayer(TCP)):\n",
    "                if(resp.getlayer(TCP).flags == 0x12):\n",
    "                    send_rst = sr(IP(dst=host)/TCP(sport=srcPort,dport=dstPort,flags=\"R\"),timeout=1,verbose=0)\n",
    "                    print (host + \":\" + str(dstPort) + \" is open.\")\n",
    "            elif (resp.getlayer(TCP).flags == 0x14):\n",
    "                print (host + \":\" + str(dstPort) + \" is closed.\")\n",
    "            elif(resp.haslayer(ICMP)):\n",
    "                if(int(resp.getlayer(ICMP).type)==3 and int(resp.getlayer(ICMP).code) in [1,2,3,9,10,13]):\n",
    "                    print (host + \":\" + str(dstPort) + \" is filtered (silently dropped).\")\n",
    "        else:\n",
    "            print(\"No response received.\")\n",
    "            "
   ]
  },
  {
   "cell_type": "code",
   "execution_count": 2,
   "metadata": {},
   "outputs": [
    {
     "name": "stdout",
     "output_type": "stream",
     "text": [
      "Trying port     22\n",
      "No response received.\n",
      "Trying port     23\n",
      "No response received.\n",
      "Trying port     80\n",
      "www.facebook.com:80 is open.\n",
      "Trying port    443\n",
      "www.facebook.com:443 is open.\n",
      "Trying port   3389\n",
      "No response received.\n"
     ]
    }
   ],
   "source": [
    "host = \"www.facebook.com\"\n",
    "portRange = [22,23,80,443,3389]\n",
    "scanPorts(host, portRange)"
   ]
  },
  {
   "cell_type": "code",
   "execution_count": null,
   "metadata": {},
   "outputs": [],
   "source": []
  }
 ],
 "metadata": {
  "kernelspec": {
   "display_name": "Python 3",
   "language": "python",
   "name": "python3"
  },
  "language_info": {
   "codemirror_mode": {
    "name": "ipython",
    "version": 3
   },
   "file_extension": ".py",
   "mimetype": "text/x-python",
   "name": "python",
   "nbconvert_exporter": "python",
   "pygments_lexer": "ipython3",
   "version": "3.7.1"
  }
 },
 "nbformat": 4,
 "nbformat_minor": 2
}
