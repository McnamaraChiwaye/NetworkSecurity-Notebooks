{
 "cells": [
  {
   "cell_type": "markdown",
   "metadata": {},
   "source": [
    "# Writing a network and port scanner with Scapy\n",
    "- replicate some basic features of Nmap and other network scanning tools"
   ]
  },
  {
   "cell_type": "code",
   "execution_count": null,
   "metadata": {},
   "outputs": [],
   "source": [
    "!nmap"
   ]
  },
  {
   "cell_type": "code",
   "execution_count": null,
   "metadata": {},
   "outputs": [],
   "source": [
    "# ping scan using nmap - ping scan mac host\n",
    "! nmap -sn 192.168.65.1"
   ]
  },
  {
   "cell_type": "markdown",
   "metadata": {},
   "source": [
    "## ping can be blocked\n",
    "- disable ping on host and scan again"
   ]
  },
  {
   "cell_type": "code",
   "execution_count": null,
   "metadata": {},
   "outputs": [],
   "source": [
    "! nmap -sn 192.168.65.1"
   ]
  },
  {
   "cell_type": "code",
   "execution_count": null,
   "metadata": {},
   "outputs": [],
   "source": [
    "# enable os fingerprinting\n",
    "! nmap -sS -A 192.168.65.1"
   ]
  },
  {
   "cell_type": "markdown",
   "metadata": {},
   "source": [
    "## scapy ping scan\n",
    "- scan the network with ping/icmp packets and scan for ports on the live hosts"
   ]
  },
  {
   "cell_type": "code",
   "execution_count": null,
   "metadata": {},
   "outputs": [],
   "source": [
    "#! /usr/bin/python3\n",
    "\n",
    "# Adapted for Python 3 from : https://thepacketgeek.com/scapy-p-10-emulating-nmap-functions/\n",
    "\n",
    "from scapy.all import *\n",
    "import netaddr\n",
    "import random\n",
    "\n",
    "def pingHost(host):\n",
    "    resp = sr1(IP(dst=str(host))/ICMP(), timeout=2, verbose=0)\n",
    "    up = False\n",
    "    #resp.show()\n",
    "    if not resp:\n",
    "        print(str(host) + \" is down or not responding.\")\n",
    "    elif resp.haslayer(ICMP):\n",
    "        if (int(resp.getlayer(ICMP).type)==3 and int(resp.getlayer(ICMP).code) in [1,2,3,9,10,13]):\n",
    "            print(str(host) + \" is blocking ICMP.\")\n",
    "        elif (int(resp.getlayer(ICMP).type) == 0): # icmp-response received \n",
    "            up = True\n",
    "        else:\n",
    "            print(\"icmp type = {}\".format(int(resp.getlayer(ICMP).type)))\n",
    "            print(str(addr) + \" is acting weird.\")\n",
    "    return up\n",
    "\n",
    "# Send ICMP ping request, wait for answer\n",
    "def pingScanNetwork(addresses):\n",
    "    liveHosts = []\n",
    "    for addr in addresses:\n",
    "        if (addr == addresses.network or addr == addresses.broadcast):\n",
    "            continue\n",
    "\n",
    "        print(\"Trying on {}\".format(addr))\n",
    "        if pingHost(str(addr)):\n",
    "            liveHosts.append(str(addr))\n",
    "                \n",
    "    return liveHosts"
   ]
  },
  {
   "cell_type": "markdown",
   "metadata": {},
   "source": [
    "## scan a host"
   ]
  },
  {
   "cell_type": "code",
   "execution_count": null,
   "metadata": {},
   "outputs": [],
   "source": [
    "host = 'www.facebook.com'\n",
    "live = pingHost(host)\n",
    "if live:\n",
    "    print('{} host is up!'.format(host))"
   ]
  },
  {
   "cell_type": "markdown",
   "metadata": {},
   "source": [
    "## scan a whole subnet"
   ]
  },
  {
   "cell_type": "code",
   "execution_count": null,
   "metadata": {},
   "outputs": [],
   "source": [
    "# Define IP range to scan\n",
    "network = \"192.168.47.1/24\"\n",
    "# Define TCP port range\n",
    "portRange = [22,23,80,443,449]\n",
    "# make list of addresses out of network, set live host counter\n",
    "addresses = netaddr.IPNetwork(network)\n",
    "liveHosts = pingScanNetwork(addresses)"
   ]
  },
  {
   "cell_type": "markdown",
   "metadata": {},
   "source": [
    "## scapy port scanner\n",
    "- tcp syn scan to map open ports"
   ]
  },
  {
   "cell_type": "code",
   "execution_count": null,
   "metadata": {},
   "outputs": [],
   "source": [
    "#! /usr/bin/python3\n",
    "# Adapted from: https://thepacketgeek.com/scapy-p-10-emulating-nmap-functions/\n",
    "# Fixed some bugs and ported for Python3\n",
    "\n",
    "from scapy.all import *\n",
    "import random\n",
    "# Define end host and TCP port range\n",
    "\n",
    "# Send SYN with random Src Port for each Dst port\n",
    "def scanPorts(host, portRange):\n",
    "    for dstPort in portRange:\n",
    "        print(\"Trying port {:6}\".format(dstPort))\n",
    "        srcPort = random.randint(1025,65534)\n",
    "        resp = sr1(IP(dst=host)/TCP(sport=srcPort,dport=dstPort,flags=\"S\"),timeout=1,verbose=0)\n",
    "        if resp:\n",
    "            if (str(type(resp)) == \"<type 'NoneType'>\"):\n",
    "                print(host + \":\" + str(dstPort) + \" is filtered (silently dropped).\")\n",
    "            elif(resp.haslayer(TCP)):\n",
    "                if(resp.getlayer(TCP).flags == 0x12):\n",
    "                    send_rst = sr(IP(dst=host)/TCP(sport=srcPort,dport=dstPort,flags=\"R\"),timeout=1,verbose=0)\n",
    "                    print (host + \":\" + str(dstPort) + \" is open.\")\n",
    "            elif (resp.getlayer(TCP).flags == 0x14):\n",
    "                print (host + \":\" + str(dstPort) + \" is closed.\")\n",
    "            elif(resp.haslayer(ICMP)):\n",
    "                if(int(resp.getlayer(ICMP).type)==3 and int(resp.getlayer(ICMP).code) in [1,2,3,9,10,13]):\n",
    "                    print (host + \":\" + str(dstPort) + \" is filtered (silently dropped).\")\n",
    "        else:\n",
    "            print(\"No response received.\")\n",
    "            "
   ]
  },
  {
   "cell_type": "code",
   "execution_count": null,
   "metadata": {},
   "outputs": [],
   "source": [
    "host = \"www.facebook.com\"\n",
    "portRange = [22,23,80,443,3389]\n",
    "scanPorts(host, portRange)"
   ]
  }
 ],
 "metadata": {
  "kernelspec": {
   "display_name": "Python 3",
   "language": "python",
   "name": "python3"
  },
  "language_info": {
   "codemirror_mode": {
    "name": "ipython",
    "version": 3
   },
   "file_extension": ".py",
   "mimetype": "text/x-python",
   "name": "python",
   "nbconvert_exporter": "python",
   "pygments_lexer": "ipython3",
   "version": "3.7.1"
  }
 },
 "nbformat": 4,
 "nbformat_minor": 2
}
