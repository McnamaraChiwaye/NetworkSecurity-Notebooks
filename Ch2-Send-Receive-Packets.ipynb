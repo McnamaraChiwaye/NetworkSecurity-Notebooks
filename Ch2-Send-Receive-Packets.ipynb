{
 "cells": [
  {
   "cell_type": "markdown",
   "metadata": {},
   "source": [
    "# Sniff() function; Sending and Receiving Packets\n",
    "- equivalent to tcpdump and wireshark\n"
   ]
  },
  {
   "cell_type": "code",
   "execution_count": 1,
   "metadata": {},
   "outputs": [
    {
     "name": "stderr",
     "output_type": "stream",
     "text": [
      "WARNING: No route found for IPv6 destination :: (no default route?). This affects only IPv6\n"
     ]
    },
    {
     "name": "stdout",
     "output_type": "stream",
     "text": [
      "Help on function sniff in module scapy.sendrecv:\n",
      "\n",
      "sniff(count=0, store=1, offline=None, prn=None, lfilter=None, L2socket=None, timeout=None, opened_socket=None, stop_filter=None, exceptions=False, *arg, **karg)\n",
      "    Sniff packets\n",
      "    sniff([count=0,] [prn=None,] [store=1,] [offline=None,] [lfilter=None,] + L2ListenSocket args) -> list of packets\n",
      "    \n",
      "      count: number of packets to capture. 0 means infinity\n",
      "      store: wether to store sniffed packets or discard them\n",
      "        prn: function to apply to each packet. If something is returned,\n",
      "             it is displayed. Ex:\n",
      "             ex: prn = lambda x: x.summary()\n",
      "    lfilter: python function applied to each packet to determine\n",
      "             if further action may be done\n",
      "             ex: lfilter = lambda x: x.haslayer(Padding)\n",
      "    offline: pcap file to read packets from, instead of sniffing them\n",
      "    timeout: stop sniffing after a given time (default: None)\n",
      "    L2socket: use the provided L2socket\n",
      "    opened_socket: provide an object ready to use .recv() on\n",
      "    stop_filter: python function applied to each packet to determine\n",
      "                 if we have to stop the capture after this packet\n",
      "                 ex: stop_filter = lambda x: x.haslayer(TCP)\n",
      "    exceptions: reraise caught exceptions such as KeyboardInterrupt\n",
      "                when a user interrupts sniffing\n",
      "\n"
     ]
    }
   ],
   "source": [
    "from scapy.all import *\n",
    "help(sniff)"
   ]
  },
  {
   "cell_type": "code",
   "execution_count": 2,
   "metadata": {
    "collapsed": true
   },
   "outputs": [],
   "source": [
    "# note: run ping google.com ob=n a terminal to generate icmp packets\n",
    "pkts = sniff(count=2, filter=\"icmp\")"
   ]
  },
  {
   "cell_type": "code",
   "execution_count": 3,
   "metadata": {},
   "outputs": [
    {
     "data": {
      "text/plain": [
       "<Sniffed: TCP:0 UDP:0 ICMP:2 Other:0>"
      ]
     },
     "execution_count": 3,
     "metadata": {},
     "output_type": "execute_result"
    }
   ],
   "source": [
    "pkts"
   ]
  },
  {
   "cell_type": "code",
   "execution_count": 4,
   "metadata": {},
   "outputs": [
    {
     "name": "stdout",
     "output_type": "stream",
     "text": [
      "Ether / IP / ICMP 192.168.231.131 > 216.58.217.46 echo-request 0 / Raw\n",
      "Ether / IP / ICMP 216.58.217.46 > 192.168.231.131 echo-reply 0 / Raw\n"
     ]
    }
   ],
   "source": [
    "pkts.summary()"
   ]
  },
  {
   "cell_type": "code",
   "execution_count": 5,
   "metadata": {},
   "outputs": [
    {
     "name": "stdout",
     "output_type": "stream",
     "text": [
      "0000 Ether / IP / ICMP 192.168.231.131 > 216.58.217.46 echo-request 0 / Raw\n",
      "0001 Ether / IP / ICMP 216.58.217.46 > 192.168.231.131 echo-reply 0 / Raw\n"
     ]
    }
   ],
   "source": [
    "pkts.show()"
   ]
  },
  {
   "cell_type": "code",
   "execution_count": 6,
   "metadata": {},
   "outputs": [
    {
     "name": "stdout",
     "output_type": "stream",
     "text": [
      "###[ Ethernet ]###\n",
      "  dst       = 00:50:56:f9:21:6d\n",
      "  src       = 00:0c:29:ac:ad:53\n",
      "  type      = 0x800\n",
      "###[ IP ]###\n",
      "     version   = 4\n",
      "     ihl       = 5\n",
      "     tos       = 0x0\n",
      "     len       = 84\n",
      "     id        = 54735\n",
      "     flags     = DF\n",
      "     frag      = 0\n",
      "     ttl       = 64\n",
      "     proto     = icmp\n",
      "     chksum    = 0xb44\n",
      "     src       = 192.168.231.131\n",
      "     dst       = 216.58.217.46\n",
      "     \\options   \\\n",
      "###[ ICMP ]###\n",
      "        type      = echo-request\n",
      "        code      = 0\n",
      "        chksum    = 0x7a87\n",
      "        id        = 0x1034\n",
      "        seq       = 0x6\n",
      "###[ Raw ]###\n",
      "           load      = b'\\xc3\\x01\\xb7Y\\x00\\x00\\x00\\x00\\'\\x10\\r\\x00\\x00\\x00\\x00\\x00\\x10\\x11\\x12\\x13\\x14\\x15\\x16\\x17\\x18\\x19\\x1a\\x1b\\x1c\\x1d\\x1e\\x1f !\"#$%&\\'()*+,-./01234567'\n"
     ]
    }
   ],
   "source": [
    "pkts[0].show()"
   ]
  },
  {
   "cell_type": "code",
   "execution_count": 7,
   "metadata": {},
   "outputs": [
    {
     "name": "stdout",
     "output_type": "stream",
     "text": [
      "0000   00 50 56 F9 21 6D 00 0C  29 AC AD 53 08 00 45 00   .PV.!m..)..S..E.\n",
      "0010   00 54 D5 CF 40 00 40 01  0B 44 C0 A8 E7 83 D8 3A   .T..@.@..D.....:\n",
      "0020   D9 2E 08 00 7A 87 10 34  00 06 C3 01 B7 59 00 00   ....z..4.....Y..\n",
      "0030   00 00 27 10 0D 00 00 00  00 00 10 11 12 13 14 15   ..'.............\n",
      "0040   16 17 18 19 1A 1B 1C 1D  1E 1F 20 21 22 23 24 25   .......... !\"#$%\n",
      "0050   26 27 28 29 2A 2B 2C 2D  2E 2F 30 31 32 33 34 35   &'()*+,-./012345\n",
      "0060   36 37                                              67\n"
     ]
    }
   ],
   "source": [
    "hexdump(pkts[0])"
   ]
  },
  {
   "cell_type": "code",
   "execution_count": 8,
   "metadata": {},
   "outputs": [
    {
     "data": {
      "text/plain": [
       "'Ether(dst=\\'00:50:56:f9:21:6d\\', src=\\'00:0c:29:ac:ad:53\\', type=2048)/IP(version=4, ihl=5, tos=0, len=84, id=54735, flags=2, frag=0, ttl=64, proto=1, chksum=2884, src=\\'192.168.231.131\\', dst=\\'216.58.217.46\\', options=[])/ICMP(type=8, code=0, chksum=31367, id=4148, seq=6, ts_ori=None, ts_rx=None, ts_tx=None, gw=None, ptr=None, reserved=None, addr_mask=None, unused=None)/Raw(load=b\\'\\\\xc3\\\\x01\\\\xb7Y\\\\x00\\\\x00\\\\x00\\\\x00\\\\\\'\\\\x10\\\\r\\\\x00\\\\x00\\\\x00\\\\x00\\\\x00\\\\x10\\\\x11\\\\x12\\\\x13\\\\x14\\\\x15\\\\x16\\\\x17\\\\x18\\\\x19\\\\x1a\\\\x1b\\\\x1c\\\\x1d\\\\x1e\\\\x1f !\"#$%&\\\\\\'()*+,-./01234567\\')'"
      ]
     },
     "execution_count": 8,
     "metadata": {},
     "output_type": "execute_result"
    }
   ],
   "source": [
    "pkts[0].command()"
   ]
  },
  {
   "cell_type": "code",
   "execution_count": 9,
   "metadata": {},
   "outputs": [
    {
     "data": {
      "text/plain": [
       "<Sniffed: TCP:0 UDP:0 ICMP:0 Other:5>"
      ]
     },
     "execution_count": 9,
     "metadata": {},
     "output_type": "execute_result"
    }
   ],
   "source": [
    "pkts = sniff(count=5, filter=\"arp\")\n",
    "pkts"
   ]
  },
  {
   "cell_type": "markdown",
   "metadata": {},
   "source": [
    "## Generate ARP packets using arping\n",
    "1. open a terminal and run $ arping [ip of another vm/gateway]\n",
    "2. sniff the packets using scapy"
   ]
  },
  {
   "cell_type": "code",
   "execution_count": 10,
   "metadata": {},
   "outputs": [
    {
     "name": "stdout",
     "output_type": "stream",
     "text": [
      "Ether / ARP who has 192.168.231.2 says 192.168.231.131\n",
      "Ether / ARP is at 00:50:56:f9:21:6d says 192.168.231.2 / Padding\n",
      "Ether / ARP who has 192.168.231.2 says 192.168.231.131\n",
      "Ether / ARP is at 00:50:56:f9:21:6d says 192.168.231.2 / Padding\n",
      "Ether / ARP who has 192.168.231.2 says 192.168.231.131\n"
     ]
    }
   ],
   "source": [
    "pkts.summary()"
   ]
  },
  {
   "cell_type": "code",
   "execution_count": 11,
   "metadata": {},
   "outputs": [
    {
     "name": "stdout",
     "output_type": "stream",
     "text": [
      "###[ Ethernet ]###\n",
      "  dst       = 00:50:56:f9:21:6d\n",
      "  src       = 00:0c:29:ac:ad:53\n",
      "  type      = 0x806\n",
      "###[ ARP ]###\n",
      "     hwtype    = 0x1\n",
      "     ptype     = 0x800\n",
      "     hwlen     = 6\n",
      "     plen      = 4\n",
      "     op        = who-has\n",
      "     hwsrc     = 00:0c:29:ac:ad:53\n",
      "     psrc      = 192.168.231.131\n",
      "     hwdst     = 00:50:56:f9:21:6d\n",
      "     pdst      = 192.168.231.2\n"
     ]
    }
   ],
   "source": [
    "pkts[0].show()"
   ]
  },
  {
   "cell_type": "code",
   "execution_count": null,
   "metadata": {
    "collapsed": true
   },
   "outputs": [],
   "source": [
    "pkts[0].command()"
   ]
  },
  {
   "cell_type": "markdown",
   "metadata": {},
   "source": [
    "## Building a Packet\n",
    "- build ARP packet which has two layers - Ether and ARP"
   ]
  },
  {
   "cell_type": "code",
   "execution_count": 12,
   "metadata": {},
   "outputs": [
    {
     "name": "stdout",
     "output_type": "stream",
     "text": [
      "dst        : DestMACField         = (None)\n",
      "src        : SourceMACField       = (None)\n",
      "type       : XShortEnumField      = (36864)\n"
     ]
    }
   ],
   "source": [
    "ls(Ether)"
   ]
  },
  {
   "cell_type": "code",
   "execution_count": 13,
   "metadata": {},
   "outputs": [
    {
     "name": "stdout",
     "output_type": "stream",
     "text": [
      "hwtype     : XShortField          = (1)\n",
      "ptype      : XShortEnumField      = (2048)\n",
      "hwlen      : ByteField            = (6)\n",
      "plen       : ByteField            = (4)\n",
      "op         : ShortEnumField       = (1)\n",
      "hwsrc      : ARPSourceMACField    = (None)\n",
      "psrc       : SourceIPField        = (None)\n",
      "hwdst      : MACField             = ('00:00:00:00:00:00')\n",
      "pdst       : IPField              = ('0.0.0.0')\n"
     ]
    }
   ],
   "source": [
    "ls(ARP)"
   ]
  },
  {
   "cell_type": "markdown",
   "metadata": {},
   "source": [
    "## Stacking Layers to build packets"
   ]
  },
  {
   "cell_type": "code",
   "execution_count": 14,
   "metadata": {
    "collapsed": true
   },
   "outputs": [],
   "source": [
    "arpPkt = Ether()/ARP()"
   ]
  },
  {
   "cell_type": "code",
   "execution_count": 15,
   "metadata": {},
   "outputs": [
    {
     "name": "stdout",
     "output_type": "stream",
     "text": [
      "###[ Ethernet ]###\n",
      "  dst       = 00:50:56:f9:21:6d\n",
      "  src       = 00:0c:29:ac:ad:53\n",
      "  type      = 0x806\n",
      "###[ ARP ]###\n",
      "     hwtype    = 0x1\n",
      "     ptype     = 0x800\n",
      "     hwlen     = 6\n",
      "     plen      = 4\n",
      "     op        = who-has\n",
      "     hwsrc     = 00:0c:29:ac:ad:53\n",
      "     psrc      = 192.168.231.131\n",
      "     hwdst     = 00:00:00:00:00:00\n",
      "     pdst      = 0.0.0.0\n"
     ]
    }
   ],
   "source": [
    "arpPkt.show()"
   ]
  },
  {
   "cell_type": "code",
   "execution_count": 16,
   "metadata": {},
   "outputs": [],
   "source": [
    "# Change Ethernet protocol's destination field to broadcase MAC address\n",
    "arpPkt['Ethernet'].dst= 'FF:FF:FF:FF:FF:FF'"
   ]
  },
  {
   "cell_type": "code",
   "execution_count": 17,
   "metadata": {},
   "outputs": [
    {
     "name": "stdout",
     "output_type": "stream",
     "text": [
      "###[ Ethernet ]###\n",
      "  dst       = FF:FF:FF:FF:FF:FF\n",
      "  src       = 00:0c:29:ac:ad:53\n",
      "  type      = 0x806\n",
      "###[ ARP ]###\n",
      "     hwtype    = 0x1\n",
      "     ptype     = 0x800\n",
      "     hwlen     = 6\n",
      "     plen      = 4\n",
      "     op        = who-has\n",
      "     hwsrc     = 00:0c:29:ac:ad:53\n",
      "     psrc      = 192.168.231.131\n",
      "     hwdst     = 00:00:00:00:00:00\n",
      "     pdst      = 0.0.0.0\n"
     ]
    }
   ],
   "source": [
    "arpPkt.show()"
   ]
  },
  {
   "cell_type": "code",
   "execution_count": 18,
   "metadata": {},
   "outputs": [],
   "source": [
    "# change ARP protocol's hwdst to broadcast MAC address\n",
    "#arpPkt['Ethernet']['ARP'].hwdst = 'FF:FF:FF:FF:FF:FF'\n",
    "arpPkt['ARP'].hwdst = 'FF:FF:FF:FF:FF:FF'"
   ]
  },
  {
   "cell_type": "code",
   "execution_count": 19,
   "metadata": {},
   "outputs": [
    {
     "name": "stdout",
     "output_type": "stream",
     "text": [
      "###[ Ethernet ]###\n",
      "  dst       = FF:FF:FF:FF:FF:FF\n",
      "  src       = 00:0c:29:ac:ad:53\n",
      "  type      = 0x806\n",
      "###[ ARP ]###\n",
      "     hwtype    = 0x1\n",
      "     ptype     = 0x800\n",
      "     hwlen     = 6\n",
      "     plen      = 4\n",
      "     op        = who-has\n",
      "     hwsrc     = 00:0c:29:ac:ad:53\n",
      "     psrc      = 192.168.231.131\n",
      "     hwdst     = FF:FF:FF:FF:FF:FF\n",
      "     pdst      = 0.0.0.0\n"
     ]
    }
   ],
   "source": [
    "arpPkt.show()"
   ]
  },
  {
   "cell_type": "markdown",
   "metadata": {},
   "source": [
    "## Capture packet using wireshark\n",
    "- ARP packet is ready to be sent\n",
    "- Open Wireshark and start capturing traffic"
   ]
  },
  {
   "cell_type": "markdown",
   "metadata": {},
   "source": [
    "## Send Packets\n",
    "- two functions to send packets: sendp() and send()\n",
    "- **sendp()** for sending L2 packets\n",
    "- **send()** for sending L3 packets (IPv4 or IPv6)"
   ]
  },
  {
   "cell_type": "code",
   "execution_count": null,
   "metadata": {
    "collapsed": true
   },
   "outputs": [],
   "source": [
    "help(send)"
   ]
  },
  {
   "cell_type": "code",
   "execution_count": null,
   "metadata": {
    "collapsed": true
   },
   "outputs": [],
   "source": [
    "help(sendp)"
   ]
  },
  {
   "cell_type": "code",
   "execution_count": 22,
   "metadata": {},
   "outputs": [
    {
     "name": "stdout",
     "output_type": "stream",
     "text": [
      "\n",
      "Sent 1 packets.\n"
     ]
    }
   ],
   "source": [
    "# send the arpPkt - use send or sendp function()\n",
    "sendp(arpPkt)"
   ]
  },
  {
   "cell_type": "code",
   "execution_count": null,
   "metadata": {},
   "outputs": [],
   "source": [
    "# one liner\n",
    "sendp(Ether(dst=\"ff:ff:ff:ff:ff:ff\",src=\"00:11:22:aa:bb:cc\")/ARP(hwsrc=\"00:11:22:aa:bb:cc\",pdst=\"192.168.231.2\"))"
   ]
  },
  {
   "cell_type": "markdown",
   "metadata": {},
   "source": [
    "## Sending HTTP request"
   ]
  },
  {
   "cell_type": "code",
   "execution_count": null,
   "metadata": {},
   "outputs": [],
   "source": [
    "httpPkt = Ether()/IP(dst=\"www.coloradomesa.edu\")/TCP()/\"GET /index.html HTTP/1.0\\n\\n\""
   ]
  },
  {
   "cell_type": "code",
   "execution_count": null,
   "metadata": {},
   "outputs": [],
   "source": [
    "bytes(httpPkt)"
   ]
  },
  {
   "cell_type": "code",
   "execution_count": null,
   "metadata": {},
   "outputs": [],
   "source": [
    "hexdump(httpPkt)"
   ]
  },
  {
   "cell_type": "code",
   "execution_count": null,
   "metadata": {},
   "outputs": [],
   "source": [
    "httpPkt.show()"
   ]
  },
  {
   "cell_type": "code",
   "execution_count": null,
   "metadata": {
    "scrolled": true
   },
   "outputs": [],
   "source": [
    "# response = sr(httpPkt) # doesn't work\n",
    "# send(httpPkt)"
   ]
  },
  {
   "cell_type": "markdown",
   "metadata": {},
   "source": [
    "## Send and Receive Packets\n",
    "- Send and receive functions are the heart of Scapy\n",
    "- ** sr() ** send L3 packets and receive answers; returns answered and unanswered packets\n",
    "- ** sr1() ** returns only one packet that answered the sent packet\n",
    "- sr() and sr1() functions can only send layer 3 L3 packets (IP, HTTP, etc.)\n",
    "- ** srp() ** send and receive L2 packets (ARP, Ehternet, 802.3, etc)\n",
    "- ** srp1() ** send and receive one layer 2 packet"
   ]
  },
  {
   "cell_type": "markdown",
   "metadata": {},
   "source": [
    "## Three-way handshake\n"
   ]
  },
  {
   "cell_type": "code",
   "execution_count": null,
   "metadata": {
    "collapsed": true
   },
   "outputs": [],
   "source": [
    "# Create syn packet\n",
    "syn = IP(dst='www.google.com')/TCP(dport=80, flags='S')"
   ]
  },
  {
   "cell_type": "code",
   "execution_count": null,
   "metadata": {},
   "outputs": [],
   "source": [
    "syn"
   ]
  },
  {
   "cell_type": "code",
   "execution_count": null,
   "metadata": {},
   "outputs": [],
   "source": [
    "# Receive SYN-ACK packet from google.com\n",
    "syn_ack = sr1(syn)"
   ]
  },
  {
   "cell_type": "code",
   "execution_count": null,
   "metadata": {},
   "outputs": [],
   "source": [
    "syn_ack"
   ]
  },
  {
   "cell_type": "code",
   "execution_count": null,
   "metadata": {},
   "outputs": [],
   "source": [
    "# Send Get request\n",
    "getStr = 'GET / HTTP1.1\\r\\nHost:www.google.com\\r\\n\\r\\n'\n",
    "request = IP(dst='www.google.com') / TCP(dport=80, sport=syn_ack[TCP].dport, \n",
    "                                        seq=syn_ack[TCP].ack, ack=syn_ack[TCP].seq+1, \n",
    "                                        flags='A') / getStr\n",
    "reply = sr1(request)"
   ]
  },
  {
   "cell_type": "code",
   "execution_count": null,
   "metadata": {
    "scrolled": true
   },
   "outputs": [],
   "source": [
    "reply"
   ]
  },
  {
   "cell_type": "code",
   "execution_count": null,
   "metadata": {},
   "outputs": [],
   "source": [
    "reply.summary()"
   ]
  },
  {
   "cell_type": "code",
   "execution_count": null,
   "metadata": {},
   "outputs": [],
   "source": [
    "reply.show()"
   ]
  },
  {
   "cell_type": "markdown",
   "metadata": {},
   "source": [
    "## Stacking Layers\n",
    "The / operator has been used as a composition operator between two layers. When doing so, the lower layer can have one or more of its defaults fields overloaded according to the upper layer. (You still can give the value you want). A string can be used as a raw layer.\n",
    "<img src=\"http://scapy.readthedocs.io/en/latest/_images/fieldsmanagement.png\" />"
   ]
  },
  {
   "cell_type": "code",
   "execution_count": 23,
   "metadata": {},
   "outputs": [
    {
     "data": {
      "text/plain": [
       "<IP  |>"
      ]
     },
     "execution_count": 23,
     "metadata": {},
     "output_type": "execute_result"
    }
   ],
   "source": [
    "IP()"
   ]
  },
  {
   "cell_type": "code",
   "execution_count": null,
   "metadata": {
    "collapsed": true
   },
   "outputs": [],
   "source": [
    "IP()/TCP()"
   ]
  },
  {
   "cell_type": "code",
   "execution_count": null,
   "metadata": {
    "collapsed": true
   },
   "outputs": [],
   "source": [
    "Ether()/IP()/TCP()"
   ]
  },
  {
   "cell_type": "code",
   "execution_count": null,
   "metadata": {
    "collapsed": true
   },
   "outputs": [],
   "source": [
    "IP()/TCP()/\"GET / HTTP/1.0\\r\\n\\r\\n\""
   ]
  },
  {
   "cell_type": "code",
   "execution_count": null,
   "metadata": {
    "collapsed": true
   },
   "outputs": [],
   "source": [
    "Ehter()/IP()/IP()/UDP()"
   ]
  },
  {
   "cell_type": "code",
   "execution_count": 24,
   "metadata": {},
   "outputs": [
    {
     "data": {
      "text/plain": [
       "<IP  frag=0 proto=55 |<TCP  dport=ssh |>>"
      ]
     },
     "execution_count": 24,
     "metadata": {},
     "output_type": "execute_result"
    }
   ],
   "source": [
    "IP(proto=55)/TCP(dport=22)"
   ]
  },
  {
   "cell_type": "code",
   "execution_count": null,
   "metadata": {
    "collapsed": true
   },
   "outputs": [],
   "source": [
    "tcpip = IP(dst=\"dstIP\") / TCP(dport=22) # tcp packet needs dest port\n",
    "reply = sr(tcpip)\n",
    "reply"
   ]
  },
  {
   "cell_type": "code",
   "execution_count": null,
   "metadata": {
    "collapsed": true
   },
   "outputs": [],
   "source": [
    "ans, unans = _ \n",
    "ans.summary()"
   ]
  },
  {
   "cell_type": "markdown",
   "metadata": {},
   "source": [
    "## Create ping request\n",
    "- IP packet with ICMP echo request and \"Hello World\" payload\n",
    "- send the packet and capture it with wireshark"
   ]
  },
  {
   "cell_type": "code",
   "execution_count": null,
   "metadata": {
    "collapsed": true
   },
   "outputs": [],
   "source": [
    "ping = IP(dst=\"dstIP\") / ICMP() / \"Hello World!\""
   ]
  },
  {
   "cell_type": "code",
   "execution_count": null,
   "metadata": {
    "collapsed": true
   },
   "outputs": [],
   "source": [
    "ping.show()"
   ]
  },
  {
   "cell_type": "code",
   "execution_count": null,
   "metadata": {
    "collapsed": true
   },
   "outputs": [],
   "source": [
    "send(ping)"
   ]
  },
  {
   "cell_type": "code",
   "execution_count": null,
   "metadata": {
    "collapsed": true
   },
   "outputs": [],
   "source": [
    "reply = sr1(ping)\n",
    "reply.show()"
   ]
  },
  {
   "cell_type": "markdown",
   "metadata": {},
   "source": [
    "## Exercise\n",
    "- Spoof src IP and ping some IP in ACM or CSC network\n",
    "- "
   ]
  }
 ],
 "metadata": {
  "kernelspec": {
   "display_name": "Python 3",
   "language": "python",
   "name": "python3"
  },
  "language_info": {
   "codemirror_mode": {
    "name": "ipython",
    "version": 3
   },
   "file_extension": ".py",
   "mimetype": "text/x-python",
   "name": "python",
   "nbconvert_exporter": "python",
   "pygments_lexer": "ipython3",
   "version": "3.6.1"
  }
 },
 "nbformat": 4,
 "nbformat_minor": 2
}
