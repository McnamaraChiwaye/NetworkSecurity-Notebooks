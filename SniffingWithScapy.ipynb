{
 "cells": [
  {
   "cell_type": "markdown",
   "metadata": {},
   "source": [
    "# Sniffing packets\n",
    "- sniff() function allows us to capture filtered packets of interest\n",
    "- equivalent to tcpdump and wireshark\n",
    "- also has built-in wireshark function to parse big and complex packet captures"
   ]
  },
  {
   "cell_type": "code",
   "execution_count": 1,
   "metadata": {},
   "outputs": [],
   "source": [
    "from scapy.all import *\n",
    "conf.verb=1\n",
    "conf.color_theme = RastaTheme()"
   ]
  },
  {
   "cell_type": "code",
   "execution_count": 2,
   "metadata": {},
   "outputs": [
    {
     "name": "stdout",
     "output_type": "stream",
     "text": [
      "Help on function sniff in module scapy.sendrecv:\n",
      "\n",
      "sniff(*args, **kwargs)\n",
      "    Sniff packets and return a list of packets.\n",
      "    \n",
      "    Args:\n",
      "        count: number of packets to capture. 0 means infinity.\n",
      "        store: whether to store sniffed packets or discard them\n",
      "        prn: function to apply to each packet. If something is returned, it\n",
      "             is displayed.\n",
      "             --Ex: prn = lambda x: x.summary()\n",
      "        session: a session = a flow decoder used to handle stream of packets.\n",
      "                 e.g: IPSession (to defragment on-the-flow) or NetflowSession\n",
      "        filter: BPF filter to apply.\n",
      "        lfilter: Python function applied to each packet to determine if\n",
      "                 further action may be done.\n",
      "                 --Ex: lfilter = lambda x: x.haslayer(Padding)\n",
      "        offline: PCAP file (or list of PCAP files) to read packets from,\n",
      "                 instead of sniffing them\n",
      "        timeout: stop sniffing after a given time (default: None).\n",
      "        L2socket: use the provided L2socket (default: use conf.L2listen).\n",
      "        opened_socket: provide an object (or a list of objects) ready to use\n",
      "                      .recv() on.\n",
      "        stop_filter: Python function applied to each packet to determine if\n",
      "                     we have to stop the capture after this packet.\n",
      "                     --Ex: stop_filter = lambda x: x.haslayer(TCP)\n",
      "        iface: interface or list of interfaces (default: None for sniffing\n",
      "               on all interfaces).\n",
      "        monitor: use monitor mode. May not be available on all OS\n",
      "        started_callback: called as soon as the sniffer starts sniffing\n",
      "                          (default: None).\n",
      "    \n",
      "    The iface, offline and opened_socket parameters can be either an\n",
      "    element, a list of elements, or a dict object mapping an element to a\n",
      "    label (see examples below).\n",
      "    \n",
      "    Examples: synchronous\n",
      "      >>> sniff(filter=\"arp\")\n",
      "      >>> sniff(filter=\"tcp\",\n",
      "      ...       session=IPSession,  # defragment on-the-flow\n",
      "      ...       prn=lambda x: x.summary())\n",
      "      >>> sniff(lfilter=lambda pkt: ARP in pkt)\n",
      "      >>> sniff(iface=\"eth0\", prn=Packet.summary)\n",
      "      >>> sniff(iface=[\"eth0\", \"mon0\"],\n",
      "      ...       prn=lambda pkt: \"%s: %s\" % (pkt.sniffed_on,\n",
      "      ...                                   pkt.summary()))\n",
      "      >>> sniff(iface={\"eth0\": \"Ethernet\", \"mon0\": \"Wifi\"},\n",
      "      ...       prn=lambda pkt: \"%s: %s\" % (pkt.sniffed_on,\n",
      "      ...                                   pkt.summary()))\n",
      "    \n",
      "    Examples: asynchronous\n",
      "      >>> t = AsyncSniffer(iface=\"enp0s3\")\n",
      "      >>> t.start()\n",
      "      >>> time.sleep(1)\n",
      "      >>> print(\"nice weather today\")\n",
      "      >>> t.stop()\n",
      "\n"
     ]
    }
   ],
   "source": [
    "help(sniff)"
   ]
  },
  {
   "cell_type": "code",
   "execution_count": 3,
   "metadata": {},
   "outputs": [],
   "source": [
    "# count argument value will sniff that many packets\n",
    "pkts = sniff(count=2)"
   ]
  },
  {
   "cell_type": "code",
   "execution_count": 4,
   "metadata": {},
   "outputs": [
    {
     "data": {
      "text/plain": [
       "\u001b[31m<\u001b[0m\u001b[32m\u001b[1m\u001b[31m\u001b[1mSniffed\u001b[0m\u001b[32m\u001b[1m\u001b[31m:\u001b[0m\u001b[32m\u001b[1m \u001b[33m\u001b[1mTCP\u001b[0m\u001b[32m\u001b[1m\u001b[31m:\u001b[0m\u001b[32m\u001b[1m\u001b[32m\u001b[1m2\u001b[0m\u001b[32m\u001b[1m \u001b[33m\u001b[1mUDP\u001b[0m\u001b[32m\u001b[1m\u001b[31m:\u001b[0m\u001b[32m\u001b[1m\u001b[32m\u001b[1m0\u001b[0m\u001b[32m\u001b[1m \u001b[33m\u001b[1mICMP\u001b[0m\u001b[32m\u001b[1m\u001b[31m:\u001b[0m\u001b[32m\u001b[1m\u001b[32m\u001b[1m0\u001b[0m\u001b[32m\u001b[1m \u001b[33m\u001b[1mOther\u001b[0m\u001b[32m\u001b[1m\u001b[31m:\u001b[0m\u001b[32m\u001b[1m\u001b[32m\u001b[1m0\u001b[0m\u001b[32m\u001b[1m\u001b[31m>\u001b[0m\u001b[32m\u001b[1m"
      ]
     },
     "execution_count": 4,
     "metadata": {},
     "output_type": "execute_result"
    }
   ],
   "source": [
    "pkts"
   ]
  },
  {
   "cell_type": "code",
   "execution_count": 5,
   "metadata": {},
   "outputs": [
    {
     "name": "stdout",
     "output_type": "stream",
     "text": [
      "Ether / IP / TCP 104.81.94.116:https > 192.168.100.4:42646 PA / Raw\n",
      "Ether / IP / TCP 192.168.100.4:42646 > 104.81.94.116:https A\n"
     ]
    }
   ],
   "source": [
    "pkts.summary()"
   ]
  },
  {
   "cell_type": "markdown",
   "metadata": {},
   "source": [
    "## Sniffing ping/icmp packets \n",
    "### Generate icmp packets using ping\n",
    "1. open a terminal and run $ arping [ip of another vm/gateway]\n",
    "2. sniff the packets using scapy"
   ]
  },
  {
   "cell_type": "code",
   "execution_count": 6,
   "metadata": {},
   "outputs": [],
   "source": [
    "# note: run ping google.com on a terminal to generate icmp packets\n",
    "pkts = sniff(count=2, filter=\"icmp\")"
   ]
  },
  {
   "cell_type": "code",
   "execution_count": 7,
   "metadata": {},
   "outputs": [
    {
     "data": {
      "text/plain": [
       "\u001b[31m<\u001b[0m\u001b[32m\u001b[1m\u001b[31m\u001b[1mSniffed\u001b[0m\u001b[32m\u001b[1m\u001b[31m:\u001b[0m\u001b[32m\u001b[1m \u001b[33m\u001b[1mTCP\u001b[0m\u001b[32m\u001b[1m\u001b[31m:\u001b[0m\u001b[32m\u001b[1m\u001b[32m\u001b[1m0\u001b[0m\u001b[32m\u001b[1m \u001b[33m\u001b[1mUDP\u001b[0m\u001b[32m\u001b[1m\u001b[31m:\u001b[0m\u001b[32m\u001b[1m\u001b[32m\u001b[1m0\u001b[0m\u001b[32m\u001b[1m \u001b[33m\u001b[1mICMP\u001b[0m\u001b[32m\u001b[1m\u001b[31m:\u001b[0m\u001b[32m\u001b[1m\u001b[32m\u001b[1m2\u001b[0m\u001b[32m\u001b[1m \u001b[33m\u001b[1mOther\u001b[0m\u001b[32m\u001b[1m\u001b[31m:\u001b[0m\u001b[32m\u001b[1m\u001b[32m\u001b[1m0\u001b[0m\u001b[32m\u001b[1m\u001b[31m>\u001b[0m\u001b[32m\u001b[1m"
      ]
     },
     "execution_count": 7,
     "metadata": {},
     "output_type": "execute_result"
    }
   ],
   "source": [
    "pkts"
   ]
  },
  {
   "cell_type": "code",
   "execution_count": 8,
   "metadata": {},
   "outputs": [
    {
     "name": "stdout",
     "output_type": "stream",
     "text": [
      "Ether / IP / ICMP 192.168.100.4 > 216.58.217.46 echo-request 0 / Raw\n",
      "Ether / IP / ICMP 216.58.217.46 > 192.168.100.4 echo-reply 0 / Raw\n"
     ]
    }
   ],
   "source": [
    "pkts.summary()"
   ]
  },
  {
   "cell_type": "code",
   "execution_count": 9,
   "metadata": {},
   "outputs": [
    {
     "name": "stdout",
     "output_type": "stream",
     "text": [
      "\u001b[32m\u001b[1m0000\u001b[0m\u001b[32m\u001b[1m Ether / IP / ICMP 192.168.100.4 > 216.58.217.46 echo-request 0 / Raw\n",
      "\u001b[32m\u001b[1m0001\u001b[0m\u001b[32m\u001b[1m Ether / IP / ICMP 216.58.217.46 > 192.168.100.4 echo-reply 0 / Raw\n"
     ]
    }
   ],
   "source": [
    "pkts.show()"
   ]
  },
  {
   "cell_type": "code",
   "execution_count": 10,
   "metadata": {},
   "outputs": [
    {
     "name": "stdout",
     "output_type": "stream",
     "text": [
      "\u001b[31m###[\u001b[0m\u001b[32m\u001b[1m \u001b[31m\u001b[1mEthernet\u001b[0m\u001b[32m\u001b[1m \u001b[31m]###\u001b[0m\u001b[32m\u001b[1m \n",
      "  \u001b[33m\u001b[1mdst\u001b[0m\u001b[32m\u001b[1m\u001b[31m=\u001b[0m\u001b[32m\u001b[1m \u001b[32m\u001b[1m52:54:00:12:35:00\u001b[0m\u001b[32m\u001b[1m\n",
      "  \u001b[33m\u001b[1msrc\u001b[0m\u001b[32m\u001b[1m\u001b[31m=\u001b[0m\u001b[32m\u001b[1m \u001b[32m\u001b[1m08:00:27:f7:e8:f7\u001b[0m\u001b[32m\u001b[1m\n",
      "  \u001b[33m\u001b[1mtype\u001b[0m\u001b[32m\u001b[1m\u001b[31m=\u001b[0m\u001b[32m\u001b[1m \u001b[32m\u001b[1mIPv4\u001b[0m\u001b[32m\u001b[1m\n",
      "\u001b[31m###[\u001b[0m\u001b[32m\u001b[1m \u001b[31m\u001b[1mIP\u001b[0m\u001b[32m\u001b[1m \u001b[31m]###\u001b[0m\u001b[32m\u001b[1m \n",
      "     \u001b[33m\u001b[1mversion\u001b[0m\u001b[32m\u001b[1m\u001b[31m=\u001b[0m\u001b[32m\u001b[1m \u001b[32m\u001b[1m4\u001b[0m\u001b[32m\u001b[1m\n",
      "     \u001b[33m\u001b[1mihl\u001b[0m\u001b[32m\u001b[1m\u001b[31m=\u001b[0m\u001b[32m\u001b[1m \u001b[32m\u001b[1m5\u001b[0m\u001b[32m\u001b[1m\n",
      "     \u001b[33m\u001b[1mtos\u001b[0m\u001b[32m\u001b[1m\u001b[31m=\u001b[0m\u001b[32m\u001b[1m \u001b[32m\u001b[1m0x0\u001b[0m\u001b[32m\u001b[1m\n",
      "     \u001b[33m\u001b[1mlen\u001b[0m\u001b[32m\u001b[1m\u001b[31m=\u001b[0m\u001b[32m\u001b[1m \u001b[32m\u001b[1m84\u001b[0m\u001b[32m\u001b[1m\n",
      "     \u001b[33m\u001b[1mid\u001b[0m\u001b[32m\u001b[1m\u001b[31m=\u001b[0m\u001b[32m\u001b[1m \u001b[32m\u001b[1m9732\u001b[0m\u001b[32m\u001b[1m\n",
      "     \u001b[33m\u001b[1mflags\u001b[0m\u001b[32m\u001b[1m\u001b[31m=\u001b[0m\u001b[32m\u001b[1m \u001b[32m\u001b[1mDF\u001b[0m\u001b[32m\u001b[1m\n",
      "     \u001b[33m\u001b[1mfrag\u001b[0m\u001b[32m\u001b[1m\u001b[31m=\u001b[0m\u001b[32m\u001b[1m \u001b[32m\u001b[1m0\u001b[0m\u001b[32m\u001b[1m\n",
      "     \u001b[33m\u001b[1mttl\u001b[0m\u001b[32m\u001b[1m\u001b[31m=\u001b[0m\u001b[32m\u001b[1m \u001b[32m\u001b[1m64\u001b[0m\u001b[32m\u001b[1m\n",
      "     \u001b[33m\u001b[1mproto\u001b[0m\u001b[32m\u001b[1m\u001b[31m=\u001b[0m\u001b[32m\u001b[1m \u001b[32m\u001b[1micmp\u001b[0m\u001b[32m\u001b[1m\n",
      "     \u001b[33m\u001b[1mchksum\u001b[0m\u001b[32m\u001b[1m\u001b[31m=\u001b[0m\u001b[32m\u001b[1m \u001b[32m\u001b[1m0x3e8f\u001b[0m\u001b[32m\u001b[1m\n",
      "     \u001b[32msrc\u001b[0m\u001b[32m\u001b[1m\u001b[31m=\u001b[0m\u001b[32m\u001b[1m \u001b[32m192.168.100.4\u001b[0m\u001b[32m\u001b[1m\n",
      "     \u001b[32mdst\u001b[0m\u001b[32m\u001b[1m\u001b[31m=\u001b[0m\u001b[32m\u001b[1m \u001b[32m216.58.217.46\u001b[0m\u001b[32m\u001b[1m\n",
      "     \\\u001b[33m\u001b[1moptions\u001b[0m\u001b[32m\u001b[1m\\\n",
      "\u001b[31m###[\u001b[0m\u001b[32m\u001b[1m \u001b[31m\u001b[1mICMP\u001b[0m\u001b[32m\u001b[1m \u001b[31m]###\u001b[0m\u001b[32m\u001b[1m \n",
      "        \u001b[33m\u001b[1mtype\u001b[0m\u001b[32m\u001b[1m\u001b[31m=\u001b[0m\u001b[32m\u001b[1m \u001b[32m\u001b[1mecho-request\u001b[0m\u001b[32m\u001b[1m\n",
      "        \u001b[33m\u001b[1mcode\u001b[0m\u001b[32m\u001b[1m\u001b[31m=\u001b[0m\u001b[32m\u001b[1m \u001b[32m\u001b[1m0\u001b[0m\u001b[32m\u001b[1m\n",
      "        \u001b[33m\u001b[1mchksum\u001b[0m\u001b[32m\u001b[1m\u001b[31m=\u001b[0m\u001b[32m\u001b[1m \u001b[32m\u001b[1m0x6dc0\u001b[0m\u001b[32m\u001b[1m\n",
      "        \u001b[33m\u001b[1mid\u001b[0m\u001b[32m\u001b[1m\u001b[31m=\u001b[0m\u001b[32m\u001b[1m \u001b[32m\u001b[1m0x6b8d\u001b[0m\u001b[32m\u001b[1m\n",
      "        \u001b[33m\u001b[1mseq\u001b[0m\u001b[32m\u001b[1m\u001b[31m=\u001b[0m\u001b[32m\u001b[1m \u001b[32m\u001b[1m0x1\u001b[0m\u001b[32m\u001b[1m\n",
      "\u001b[31m###[\u001b[0m\u001b[32m\u001b[1m \u001b[31m\u001b[1mRaw\u001b[0m\u001b[32m\u001b[1m \u001b[31m]###\u001b[0m\u001b[32m\u001b[1m \n",
      "           \u001b[33m\u001b[1mload\u001b[0m\u001b[32m\u001b[1m\u001b[31m=\u001b[0m\u001b[32m\u001b[1m \u001b[32m\u001b[1m'\\x1f\\xc4\\x8f]|\\x8c\\x08\\x00\\x08\\t\\n\\x0b\\x0c\\r\\x0e\\x0f\\x10\\x11\\x12\\x13\\x14\\x15\\x16\\x17\\x18\\x19\\x1a\\x1b\\x1c\\x1d\\x1e\\x1f !\"#$%&\\'()*+,-./01234567'\u001b[0m\u001b[32m\u001b[1m\n",
      "\n"
     ]
    }
   ],
   "source": [
    "pkts[0].show()"
   ]
  },
  {
   "cell_type": "code",
   "execution_count": 11,
   "metadata": {},
   "outputs": [
    {
     "name": "stdout",
     "output_type": "stream",
     "text": [
      "0000  52 54 00 12 35 00 08 00 27 F7 E8 F7 08 00 45 00  RT\u001b[32m.\u001b[0m\u001b[32m\u001b[1m\u001b[32m.\u001b[0m\u001b[32m\u001b[1m5\u001b[32m.\u001b[0m\u001b[32m\u001b[1m\u001b[32m.\u001b[0m\u001b[32m\u001b[1m\u001b[32m.\u001b[0m\u001b[32m\u001b[1m'\u001b[32m.\u001b[0m\u001b[32m\u001b[1m\u001b[32m.\u001b[0m\u001b[32m\u001b[1m\u001b[32m.\u001b[0m\u001b[32m\u001b[1m\u001b[32m.\u001b[0m\u001b[32m\u001b[1m\u001b[32m.\u001b[0m\u001b[32m\u001b[1mE\u001b[32m.\u001b[0m\u001b[32m\u001b[1m\n",
      "0010  00 54 26 04 40 00 40 01 3E 8F C0 A8 64 04 D8 3A  \u001b[32m.\u001b[0m\u001b[32m\u001b[1mT&\u001b[32m.\u001b[0m\u001b[32m\u001b[1m@\u001b[32m.\u001b[0m\u001b[32m\u001b[1m@\u001b[32m.\u001b[0m\u001b[32m\u001b[1m>\u001b[32m.\u001b[0m\u001b[32m\u001b[1m\u001b[32m.\u001b[0m\u001b[32m\u001b[1m\u001b[32m.\u001b[0m\u001b[32m\u001b[1md\u001b[32m.\u001b[0m\u001b[32m\u001b[1m\u001b[32m.\u001b[0m\u001b[32m\u001b[1m:\n",
      "0020  D9 2E 08 00 6D C0 6B 8D 00 01 1F C4 8F 5D 7C 8C  \u001b[32m.\u001b[0m\u001b[32m\u001b[1m.\u001b[32m.\u001b[0m\u001b[32m\u001b[1m\u001b[32m.\u001b[0m\u001b[32m\u001b[1mm\u001b[32m.\u001b[0m\u001b[32m\u001b[1mk\u001b[32m.\u001b[0m\u001b[32m\u001b[1m\u001b[32m.\u001b[0m\u001b[32m\u001b[1m\u001b[32m.\u001b[0m\u001b[32m\u001b[1m\u001b[32m.\u001b[0m\u001b[32m\u001b[1m\u001b[32m.\u001b[0m\u001b[32m\u001b[1m\u001b[32m.\u001b[0m\u001b[32m\u001b[1m]|\u001b[32m.\u001b[0m\u001b[32m\u001b[1m\n",
      "0030  08 00 08 09 0A 0B 0C 0D 0E 0F 10 11 12 13 14 15  \u001b[32m.\u001b[0m\u001b[32m\u001b[1m\u001b[32m.\u001b[0m\u001b[32m\u001b[1m\u001b[32m.\u001b[0m\u001b[32m\u001b[1m\u001b[32m.\u001b[0m\u001b[32m\u001b[1m\u001b[32m.\u001b[0m\u001b[32m\u001b[1m\u001b[32m.\u001b[0m\u001b[32m\u001b[1m\u001b[32m.\u001b[0m\u001b[32m\u001b[1m\u001b[32m.\u001b[0m\u001b[32m\u001b[1m\u001b[32m.\u001b[0m\u001b[32m\u001b[1m\u001b[32m.\u001b[0m\u001b[32m\u001b[1m\u001b[32m.\u001b[0m\u001b[32m\u001b[1m\u001b[32m.\u001b[0m\u001b[32m\u001b[1m\u001b[32m.\u001b[0m\u001b[32m\u001b[1m\u001b[32m.\u001b[0m\u001b[32m\u001b[1m\u001b[32m.\u001b[0m\u001b[32m\u001b[1m\u001b[32m.\u001b[0m\u001b[32m\u001b[1m\n",
      "0040  16 17 18 19 1A 1B 1C 1D 1E 1F 20 21 22 23 24 25  \u001b[32m.\u001b[0m\u001b[32m\u001b[1m\u001b[32m.\u001b[0m\u001b[32m\u001b[1m\u001b[32m.\u001b[0m\u001b[32m\u001b[1m\u001b[32m.\u001b[0m\u001b[32m\u001b[1m\u001b[32m.\u001b[0m\u001b[32m\u001b[1m\u001b[32m.\u001b[0m\u001b[32m\u001b[1m\u001b[32m.\u001b[0m\u001b[32m\u001b[1m\u001b[32m.\u001b[0m\u001b[32m\u001b[1m\u001b[32m.\u001b[0m\u001b[32m\u001b[1m\u001b[32m.\u001b[0m\u001b[32m\u001b[1m !\"#$%\n",
      "0050  26 27 28 29 2A 2B 2C 2D 2E 2F 30 31 32 33 34 35  &'()*+,-./012345\n",
      "0060  36 37                                            67\n"
     ]
    }
   ],
   "source": [
    "hexdump(pkts[0])"
   ]
  },
  {
   "cell_type": "markdown",
   "metadata": {},
   "source": [
    "## Sniffing arp packets \n",
    "### Generate arp packets using arping command\n",
    "1. open a terminal and run $ arping [ip of another vm/gateway]\n",
    "2. sniff the packets using scapy"
   ]
  },
  {
   "cell_type": "code",
   "execution_count": 12,
   "metadata": {},
   "outputs": [],
   "source": [
    "# ping a non-existant private ip or gateway or use arping\n",
    "pkts = sniff(count=5, filter=\"arp\")"
   ]
  },
  {
   "cell_type": "code",
   "execution_count": 13,
   "metadata": {},
   "outputs": [
    {
     "name": "stdout",
     "output_type": "stream",
     "text": [
      "Ether / ARP who has 192.168.100.1 says 192.168.100.4 / Padding\n",
      "Ether / ARP is at 52:54:00:12:35:00 says 192.168.100.1 / Padding\n",
      "Ether / ARP who has 192.168.100.1 says 192.168.100.4 / Padding\n",
      "Ether / ARP is at 52:54:00:12:35:00 says 192.168.100.1 / Padding\n",
      "Ether / ARP who has 192.168.100.1 says 192.168.100.4 / Padding\n"
     ]
    }
   ],
   "source": [
    "pkts.summary()"
   ]
  },
  {
   "cell_type": "code",
   "execution_count": 14,
   "metadata": {},
   "outputs": [
    {
     "name": "stdout",
     "output_type": "stream",
     "text": [
      "\u001b[31m###[\u001b[0m\u001b[32m\u001b[1m \u001b[31m\u001b[1mEthernet\u001b[0m\u001b[32m\u001b[1m \u001b[31m]###\u001b[0m\u001b[32m\u001b[1m \n",
      "  \u001b[33m\u001b[1mdst\u001b[0m\u001b[32m\u001b[1m\u001b[31m=\u001b[0m\u001b[32m\u001b[1m \u001b[32m\u001b[1mff:ff:ff:ff:ff:ff\u001b[0m\u001b[32m\u001b[1m\n",
      "  \u001b[33m\u001b[1msrc\u001b[0m\u001b[32m\u001b[1m\u001b[31m=\u001b[0m\u001b[32m\u001b[1m \u001b[32m\u001b[1m08:00:27:f7:e8:f7\u001b[0m\u001b[32m\u001b[1m\n",
      "  \u001b[33m\u001b[1mtype\u001b[0m\u001b[32m\u001b[1m\u001b[31m=\u001b[0m\u001b[32m\u001b[1m \u001b[32m\u001b[1mARP\u001b[0m\u001b[32m\u001b[1m\n",
      "\u001b[31m###[\u001b[0m\u001b[32m\u001b[1m \u001b[31m\u001b[1mARP\u001b[0m\u001b[32m\u001b[1m \u001b[31m]###\u001b[0m\u001b[32m\u001b[1m \n",
      "     \u001b[33m\u001b[1mhwtype\u001b[0m\u001b[32m\u001b[1m\u001b[31m=\u001b[0m\u001b[32m\u001b[1m \u001b[32m\u001b[1m0x1\u001b[0m\u001b[32m\u001b[1m\n",
      "     \u001b[33m\u001b[1mptype\u001b[0m\u001b[32m\u001b[1m\u001b[31m=\u001b[0m\u001b[32m\u001b[1m \u001b[32m\u001b[1mIPv4\u001b[0m\u001b[32m\u001b[1m\n",
      "     \u001b[33m\u001b[1mhwlen\u001b[0m\u001b[32m\u001b[1m\u001b[31m=\u001b[0m\u001b[32m\u001b[1m \u001b[32m\u001b[1m6\u001b[0m\u001b[32m\u001b[1m\n",
      "     \u001b[33m\u001b[1mplen\u001b[0m\u001b[32m\u001b[1m\u001b[31m=\u001b[0m\u001b[32m\u001b[1m \u001b[32m\u001b[1m4\u001b[0m\u001b[32m\u001b[1m\n",
      "     \u001b[33m\u001b[1mop\u001b[0m\u001b[32m\u001b[1m\u001b[31m=\u001b[0m\u001b[32m\u001b[1m \u001b[32m\u001b[1mwho-has\u001b[0m\u001b[32m\u001b[1m\n",
      "     \u001b[33m\u001b[1mhwsrc\u001b[0m\u001b[32m\u001b[1m\u001b[31m=\u001b[0m\u001b[32m\u001b[1m \u001b[32m\u001b[1m08:00:27:f7:e8:f7\u001b[0m\u001b[32m\u001b[1m\n",
      "     \u001b[33m\u001b[1mpsrc\u001b[0m\u001b[32m\u001b[1m\u001b[31m=\u001b[0m\u001b[32m\u001b[1m \u001b[32m\u001b[1m192.168.100.4\u001b[0m\u001b[32m\u001b[1m\n",
      "     \u001b[33m\u001b[1mhwdst\u001b[0m\u001b[32m\u001b[1m\u001b[31m=\u001b[0m\u001b[32m\u001b[1m \u001b[32m\u001b[1m00:00:00:00:00:00\u001b[0m\u001b[32m\u001b[1m\n",
      "     \u001b[33m\u001b[1mpdst\u001b[0m\u001b[32m\u001b[1m\u001b[31m=\u001b[0m\u001b[32m\u001b[1m \u001b[32m\u001b[1m192.168.100.1\u001b[0m\u001b[32m\u001b[1m\n",
      "\u001b[31m###[\u001b[0m\u001b[32m\u001b[1m \u001b[31m\u001b[1mPadding\u001b[0m\u001b[32m\u001b[1m \u001b[31m]###\u001b[0m\u001b[32m\u001b[1m \n",
      "        \u001b[33m\u001b[1mload\u001b[0m\u001b[32m\u001b[1m\u001b[31m=\u001b[0m\u001b[32m\u001b[1m \u001b[32m\u001b[1m'\\x00\\x00\\x00\\x00\\x00\\x00\\x00\\x00\\x00\\x00\\x00\\x00\\x00\\x00\\x00\\x00'\u001b[0m\u001b[32m\u001b[1m\n",
      "\n"
     ]
    }
   ],
   "source": [
    "pkts[0].show()"
   ]
  },
  {
   "cell_type": "code",
   "execution_count": 15,
   "metadata": {},
   "outputs": [
    {
     "name": "stdout",
     "output_type": "stream",
     "text": [
      "\u001b[31m###[\u001b[0m\u001b[32m\u001b[1m \u001b[31m\u001b[1mEthernet\u001b[0m\u001b[32m\u001b[1m \u001b[31m]###\u001b[0m\u001b[32m\u001b[1m \n",
      "  \u001b[33m\u001b[1mdst\u001b[0m\u001b[32m\u001b[1m\u001b[31m=\u001b[0m\u001b[32m\u001b[1m \u001b[32m\u001b[1m08:00:27:f7:e8:f7\u001b[0m\u001b[32m\u001b[1m\n",
      "  \u001b[33m\u001b[1msrc\u001b[0m\u001b[32m\u001b[1m\u001b[31m=\u001b[0m\u001b[32m\u001b[1m \u001b[32m\u001b[1m52:54:00:12:35:00\u001b[0m\u001b[32m\u001b[1m\n",
      "  \u001b[33m\u001b[1mtype\u001b[0m\u001b[32m\u001b[1m\u001b[31m=\u001b[0m\u001b[32m\u001b[1m \u001b[32m\u001b[1mARP\u001b[0m\u001b[32m\u001b[1m\n",
      "\u001b[31m###[\u001b[0m\u001b[32m\u001b[1m \u001b[31m\u001b[1mARP\u001b[0m\u001b[32m\u001b[1m \u001b[31m]###\u001b[0m\u001b[32m\u001b[1m \n",
      "     \u001b[33m\u001b[1mhwtype\u001b[0m\u001b[32m\u001b[1m\u001b[31m=\u001b[0m\u001b[32m\u001b[1m \u001b[32m\u001b[1m0x1\u001b[0m\u001b[32m\u001b[1m\n",
      "     \u001b[33m\u001b[1mptype\u001b[0m\u001b[32m\u001b[1m\u001b[31m=\u001b[0m\u001b[32m\u001b[1m \u001b[32m\u001b[1mIPv4\u001b[0m\u001b[32m\u001b[1m\n",
      "     \u001b[33m\u001b[1mhwlen\u001b[0m\u001b[32m\u001b[1m\u001b[31m=\u001b[0m\u001b[32m\u001b[1m \u001b[32m\u001b[1m6\u001b[0m\u001b[32m\u001b[1m\n",
      "     \u001b[33m\u001b[1mplen\u001b[0m\u001b[32m\u001b[1m\u001b[31m=\u001b[0m\u001b[32m\u001b[1m \u001b[32m\u001b[1m4\u001b[0m\u001b[32m\u001b[1m\n",
      "     \u001b[33m\u001b[1mop\u001b[0m\u001b[32m\u001b[1m\u001b[31m=\u001b[0m\u001b[32m\u001b[1m \u001b[32m\u001b[1mis-at\u001b[0m\u001b[32m\u001b[1m\n",
      "     \u001b[33m\u001b[1mhwsrc\u001b[0m\u001b[32m\u001b[1m\u001b[31m=\u001b[0m\u001b[32m\u001b[1m \u001b[32m\u001b[1m52:54:00:12:35:00\u001b[0m\u001b[32m\u001b[1m\n",
      "     \u001b[33m\u001b[1mpsrc\u001b[0m\u001b[32m\u001b[1m\u001b[31m=\u001b[0m\u001b[32m\u001b[1m \u001b[32m\u001b[1m192.168.100.1\u001b[0m\u001b[32m\u001b[1m\n",
      "     \u001b[33m\u001b[1mhwdst\u001b[0m\u001b[32m\u001b[1m\u001b[31m=\u001b[0m\u001b[32m\u001b[1m \u001b[32m\u001b[1m08:00:27:f7:e8:f7\u001b[0m\u001b[32m\u001b[1m\n",
      "     \u001b[33m\u001b[1mpdst\u001b[0m\u001b[32m\u001b[1m\u001b[31m=\u001b[0m\u001b[32m\u001b[1m \u001b[32m\u001b[1m192.168.100.4\u001b[0m\u001b[32m\u001b[1m\n",
      "\u001b[31m###[\u001b[0m\u001b[32m\u001b[1m \u001b[31m\u001b[1mPadding\u001b[0m\u001b[32m\u001b[1m \u001b[31m]###\u001b[0m\u001b[32m\u001b[1m \n",
      "        \u001b[33m\u001b[1mload\u001b[0m\u001b[32m\u001b[1m\u001b[31m=\u001b[0m\u001b[32m\u001b[1m \u001b[32m\u001b[1m'\\x00\\x00\\x00\\x00\\x00\\x00\\x00\\x00\\x00\\x00\\x00\\x00\\x00\\x00\\x00\\x00\\x00\\x00'\u001b[0m\u001b[32m\u001b[1m\n",
      "\n"
     ]
    }
   ],
   "source": [
    "pkts[1].show()"
   ]
  },
  {
   "cell_type": "code",
   "execution_count": 16,
   "metadata": {},
   "outputs": [
    {
     "data": {
      "text/plain": [
       "\"Ether(dst='ff:ff:ff:ff:ff:ff', src='08:00:27:f7:e8:f7', type=2054)/ARP(hwtype=1, ptype=2048, hwlen=6, plen=4, op=1, hwsrc='08:00:27:f7:e8:f7', psrc='192.168.100.4', hwdst='00:00:00:00:00:00', pdst='192.168.100.1')/Padding(load=b'\\\\x00\\\\x00\\\\x00\\\\x00\\\\x00\\\\x00\\\\x00\\\\x00\\\\x00\\\\x00\\\\x00\\\\x00\\\\x00\\\\x00\\\\x00\\\\x00')\""
      ]
     },
     "execution_count": 16,
     "metadata": {},
     "output_type": "execute_result"
    }
   ],
   "source": [
    "pkts[0].command() # show command to generate the first packet"
   ]
  },
  {
   "cell_type": "markdown",
   "metadata": {},
   "source": [
    "## Custom formatted ARP Monitor\n",
    "- https://thepacketgeek.com/scapy-sniffing-with-custom-actions-part-1/\n",
    "- run the following code and ping a valid local ip from a terminal to generate "
   ]
  },
  {
   "cell_type": "code",
   "execution_count": 17,
   "metadata": {},
   "outputs": [
    {
     "name": "stdout",
     "output_type": "stream",
     "text": [
      "Address                  HWtype  HWaddress           Flags Mask            Iface\r\n",
      "192.168.100.3            ether   08:00:27:0f:41:2e   C                     eth0\r\n",
      "192.168.100.1            ether   52:54:00:12:35:00   C                     eth0\r\n"
     ]
    }
   ],
   "source": [
    "# check ARP table\n",
    "! arp -n"
   ]
  },
  {
   "cell_type": "code",
   "execution_count": 18,
   "metadata": {},
   "outputs": [
    {
     "name": "stdout",
     "output_type": "stream",
     "text": [
      "192.168.100.3 dev eth0 lladdr 08:00:27:0f:41:2e used 477/477/442 probes 4 STALE\r\n",
      "192.168.100.1 dev eth0 lladdr 52:54:00:12:35:00 used 150/106/75 probes 1 STALE\r\n",
      "fe80::5054:ff:fe12:3500 dev eth0 lladdr 52:54:00:12:35:00 router used 1009/1069/1009 probes 0 STALE\r\n",
      "\r\n",
      "*** Round 1, deleting 3 entries ***\r\n",
      "*** Flush is complete after 1 round ***\r\n"
     ]
    }
   ],
   "source": [
    "# clear arp cache and validate\n",
    "! ip -s -s neigh flush all"
   ]
  },
  {
   "cell_type": "code",
   "execution_count": 20,
   "metadata": {},
   "outputs": [
    {
     "name": "stdout",
     "output_type": "stream",
     "text": [
      "Address                  HWtype  HWaddress           Flags Mask            Iface\r\n",
      "192.168.100.1            ether   52:54:00:12:35:00   C                     eth0\r\n"
     ]
    }
   ],
   "source": [
    "# validate\n",
    "! arp -n"
   ]
  },
  {
   "cell_type": "code",
   "execution_count": 6,
   "metadata": {},
   "outputs": [
    {
     "name": "stdout",
     "output_type": "stream",
     "text": [
      "Request: 192.168.231.152 is asking about 192.168.231.2\n",
      "*Response: 00:50:56:f9:21:6d has address 192.168.231.2\n",
      "Request: 192.168.231.152 is asking about 192.168.231.2\n",
      "*Response: 00:50:56:f9:21:6d has address 192.168.231.2\n",
      "Request: 192.168.231.152 is asking about 192.168.231.2\n",
      "*Response: 00:50:56:f9:21:6d has address 192.168.231.2\n"
     ]
    },
    {
     "data": {
      "text/plain": [
       "<Sniffed: TCP:0 UDP:0 ICMP:0 Other:0>"
      ]
     },
     "execution_count": 6,
     "metadata": {},
     "output_type": "execute_result"
    }
   ],
   "source": [
    "from collections import Counter\n",
    "from scapy.all import ARP, sniff\n",
    "\n",
    "def arp_display(pkt):\n",
    "    if pkt[ARP].op == 1: #who-has (request)\n",
    "        return f\"Request: {pkt[ARP].psrc} is asking about {pkt[ARP].pdst}\"\n",
    "    if pkt[ARP].op == 2: #is-at (response)\n",
    "        return f\"*Response: {pkt[ARP].hwsrc} has address {pkt[ARP].psrc}\"\n",
    "\n",
    "sniff(prn=arp_display, filter=\"arp\", store=0, count=4)"
   ]
  },
  {
   "cell_type": "code",
   "execution_count": null,
   "metadata": {},
   "outputs": [],
   "source": [
    "help(sniff)"
   ]
  },
  {
   "cell_type": "markdown",
   "metadata": {},
   "source": [
    "## Keeping track of number of packets sniffed"
   ]
  },
  {
   "cell_type": "code",
   "execution_count": 1,
   "metadata": {},
   "outputs": [
    {
     "name": "stdout",
     "output_type": "stream",
     "text": [
      "Packet #1: 192.168.231.152 ==> 185.199.110.153\n",
      "Packet #2: 185.199.110.153 ==> 192.168.231.152\n",
      "Packet #3: 192.168.231.152 ==> 72.5.72.15\n",
      "Packet #4: 72.5.72.15 ==> 192.168.231.152\n",
      "Packet #5: 192.168.231.152 ==> 192.229.163.25\n",
      "Packet #6: 192.229.163.25 ==> 192.168.231.152\n",
      "Packet #7: 192.168.231.152 ==> 72.21.91.29\n",
      "Packet #8: 72.21.91.29 ==> 192.168.231.152\n",
      "Packet #9: 192.168.231.152 ==> 172.64.103.24\n",
      "Packet #10: 172.64.103.24 ==> 192.168.231.152\n",
      "185.199.110.153 <--> 192.168.231.152: 2\n",
      "192.168.231.152 <--> 72.5.72.15: 2\n",
      "192.168.231.152 <--> 192.229.163.25: 2\n",
      "192.168.231.152 <--> 72.21.91.29: 2\n",
      "172.64.103.24 <--> 192.168.231.152: 2\n"
     ]
    }
   ],
   "source": [
    "from collections import Counter\n",
    "from scapy.all import sniff\n",
    "\n",
    "## Create a Packet Counter\n",
    "packet_counts = Counter()\n",
    "\n",
    "## Define our Custom Action function\n",
    "def custom_action(packet):\n",
    "    # Create tuple of Src/Dst in sorted order\n",
    "    key = tuple(sorted([packet[0][1].src, packet[0][1].dst]))\n",
    "    packet_counts.update([key])\n",
    "    return f\"Packet #{sum(packet_counts.values())}: {packet[0][1].src} ==> {packet[0][1].dst}\"\n",
    "\n",
    "## Setup sniff, filtering for IP traffic\n",
    "sniff(filter=\"ip\", prn=custom_action, count=10)\n",
    "\n",
    "## Print out packet count per A <--> Z address pair\n",
    "print(\"\\n\".join(f\"{f'{key[0]} <--> {key[1]}'}: {count}\" for key, count in packet_counts.items()))"
   ]
  },
  {
   "cell_type": "markdown",
   "metadata": {},
   "source": [
    "## Importing and Exporting Packets\n",
    "## PCAP format\n",
    "- save capture packets to pcap file for use at later time or with different applications"
   ]
  },
  {
   "cell_type": "code",
   "execution_count": 7,
   "metadata": {},
   "outputs": [],
   "source": [
    "# note: run ping google.com on a terminal to generate icmp packets\n",
    "pkts = sniff(count=5, filter=\"icmp\")"
   ]
  },
  {
   "cell_type": "code",
   "execution_count": 11,
   "metadata": {},
   "outputs": [],
   "source": [
    "from scapy.all import wrpcap\n",
    "wrpcap('icmp.pcap', pkts)"
   ]
  },
  {
   "cell_type": "code",
   "execution_count": 20,
   "metadata": {},
   "outputs": [
    {
     "name": "stdout",
     "output_type": "stream",
     "text": [
      "0000  00 50 56 F9 21 6D 00 0C 29 D7 4D 09 08 00 45 00  .PV.!m..).M...E.\n",
      "0010  00 54 26 55 40 00 40 01 C4 67 C0 A8 E7 98 C0 A8  .T&U@.@..g......\n",
      "0020  E7 02 08 00 5A 58 0C 47 00 01 2B 4A 81 5D F0 B4  ....ZX.G..+J.]..\n",
      "0030  09 00 08 09 0A 0B 0C 0D 0E 0F 10 11 12 13 14 15  ................\n",
      "0040  16 17 18 19 1A 1B 1C 1D 1E 1F 20 21 22 23 24 25  .......... !\"#$%\n",
      "0050  26 27 28 29 2A 2B 2C 2D 2E 2F 30 31 32 33 34 35  &'()*+,-./012345\n",
      "0060  36 37                                            67\n"
     ]
    }
   ],
   "source": [
    "# use scapy's hexdump to see pkts\n",
    "from scapy.all import hexdump\n",
    "hexdump(pkts[0])"
   ]
  },
  {
   "cell_type": "code",
   "execution_count": 21,
   "metadata": {},
   "outputs": [
    {
     "name": "stdout",
     "output_type": "stream",
     "text": [
      "00000000  d4 c3 b2 a1 02 00 04 00  00 00 00 00 00 00 00 00  |................|\r\n",
      "00000010  ff ff 00 00 01 00 00 00  2b 4a 81 5d b0 b6 09 00  |........+J.]....|\r\n",
      "00000020  62 00 00 00 62 00 00 00  00 50 56 f9 21 6d 00 0c  |b...b....PV.!m..|\r\n",
      "00000030  29 d7 4d 09 08 00 45 00  00 54 26 55 40 00 40 01  |).M...E..T&U@.@.|\r\n",
      "00000040  c4 67 c0 a8 e7 98 c0 a8  e7 02 08 00 5a 58 0c 47  |.g..........ZX.G|\r\n",
      "00000050  00 01 2b 4a 81 5d f0 b4  09 00 08 09 0a 0b 0c 0d  |..+J.]..........|\r\n",
      "00000060  0e 0f 10 11 12 13 14 15  16 17 18 19 1a 1b 1c 1d  |................|\r\n",
      "00000070  1e 1f 20 21 22 23 24 25  26 27 28 29 2a 2b 2c 2d  |.. !\"#$%&'()*+,-|\r\n",
      "00000080  2e 2f 30 31 32 33 34 35  36 37 2b 4a 81 5d c7 b5  |./01234567+J.]..|\r\n",
      "00000090  09 00 62 00 00 00 62 00  00 00 00 0c 29 d7 4d 09  |..b...b.....).M.|\r\n",
      "000000a0  00 50 56 f9 21 6d 08 00  45 00 00 54 97 24 00 00  |.PV.!m..E..T.$..|\r\n",
      "000000b0  80 01 53 98 c0 a8 e7 02  c0 a8 e7 98 00 00 62 58  |..S...........bX|\r\n",
      "000000c0  0c 47 00 01 2b 4a 81 5d  f0 b4 09 00 08 09 0a 0b  |.G..+J.]........|\r\n",
      "000000d0  0c 0d 0e 0f 10 11 12 13  14 15 16 17 18 19 1a 1b  |................|\r\n",
      "000000e0  1c 1d 1e 1f 20 21 22 23  24 25 26 27 28 29 2a 2b  |.... !\"#$%&'()*+|\r\n",
      "000000f0  2c 2d 2e 2f 30 31 32 33  34 35 36 37 2c 4a 81 5d  |,-./01234567,J.]|\r\n",
      "00000100  77 b9 09 00 62 00 00 00  62 00 00 00 00 50 56 f9  |w...b...b....PV.|\r\n",
      "00000110  21 6d 00 0c 29 d7 4d 09  08 00 45 00 00 54 27 44  |!m..).M...E..T'D|\r\n",
      "00000120  40 00 40 01 c3 78 c0 a8  e7 98 c0 a8 e7 02 08 00  |@.@..x..........|\r\n",
      "00000130  ed 52 0c 47 00 02 2c 4a  81 5d 5c b9 09 00 08 09  |.R.G..,J.]\\.....|\r\n",
      "00000140  0a 0b 0c 0d 0e 0f 10 11  12 13 14 15 16 17 18 19  |................|\r\n",
      "00000150  1a 1b 1c 1d 1e 1f 20 21  22 23 24 25 26 27 28 29  |...... !\"#$%&'()|\r\n",
      "00000160  2a 2b 2c 2d 2e 2f 30 31  32 33 34 35 36 37 2c 4a  |*+,-./01234567,J|\r\n",
      "00000170  81 5d 67 ba 09 00 62 00  00 00 62 00 00 00 00 0c  |.]g...b...b.....|\r\n",
      "00000180  29 d7 4d 09 00 50 56 f9  21 6d 08 00 45 00 00 54  |).M..PV.!m..E..T|\r\n",
      "00000190  97 25 00 00 80 01 53 97  c0 a8 e7 02 c0 a8 e7 98  |.%....S.........|\r\n",
      "000001a0  00 00 f5 52 0c 47 00 02  2c 4a 81 5d 5c b9 09 00  |...R.G..,J.]\\...|\r\n",
      "000001b0  08 09 0a 0b 0c 0d 0e 0f  10 11 12 13 14 15 16 17  |................|\r\n",
      "000001c0  18 19 1a 1b 1c 1d 1e 1f  20 21 22 23 24 25 26 27  |........ !\"#$%&'|\r\n",
      "000001d0  28 29 2a 2b 2c 2d 2e 2f  30 31 32 33 34 35 36 37  |()*+,-./01234567|\r\n",
      "000001e0  2d 4a 81 5d 4a 24 0a 00  62 00 00 00 62 00 00 00  |-J.]J$..b...b...|\r\n",
      "000001f0  00 50 56 f9 21 6d 00 0c  29 d7 4d 09 08 00 45 00  |.PV.!m..).M...E.|\r\n",
      "00000200  00 54 27 f8 40 00 40 01  c2 c4 c0 a8 e7 98 c0 a8  |.T'.@.@.........|\r\n",
      "00000210  e7 02 08 00 1f e7 0c 47  00 03 2d 4a 81 5d 28 24  |.......G..-J.]($|\r\n",
      "00000220  0a 00 08 09 0a 0b 0c 0d  0e 0f 10 11 12 13 14 15  |................|\r\n",
      "00000230  16 17 18 19 1a 1b 1c 1d  1e 1f 20 21 22 23 24 25  |.......... !\"#$%|\r\n",
      "00000240  26 27 28 29 2a 2b 2c 2d  2e 2f 30 31 32 33 34 35  |&'()*+,-./012345|\r\n",
      "00000250  36 37                                             |67|\r\n",
      "00000252\r\n"
     ]
    }
   ],
   "source": [
    "# use bash hexdump\n",
    "! hexdump -C icmp.pcap"
   ]
  },
  {
   "cell_type": "code",
   "execution_count": 17,
   "metadata": {},
   "outputs": [],
   "source": [
    "# restore previously saved pcap file\n",
    "from scapy.all import rdpcap\n",
    "pkts1 = rdpcap('icmp.pcap')"
   ]
  },
  {
   "cell_type": "code",
   "execution_count": 18,
   "metadata": {},
   "outputs": [
    {
     "name": "stdout",
     "output_type": "stream",
     "text": [
      "Ether / IP / ICMP 192.168.231.152 > 192.168.231.2 echo-request 0 / Raw\n",
      "Ether / IP / ICMP 192.168.231.2 > 192.168.231.152 echo-reply 0 / Raw\n",
      "Ether / IP / ICMP 192.168.231.152 > 192.168.231.2 echo-request 0 / Raw\n",
      "Ether / IP / ICMP 192.168.231.2 > 192.168.231.152 echo-reply 0 / Raw\n",
      "Ether / IP / ICMP 192.168.231.152 > 192.168.231.2 echo-request 0 / Raw\n"
     ]
    }
   ],
   "source": [
    "pkts1.summary()"
   ]
  },
  {
   "cell_type": "code",
   "execution_count": 26,
   "metadata": {},
   "outputs": [
    {
     "name": "stdout",
     "output_type": "stream",
     "text": [
      "0000 Ether / IP / ICMP 192.168.231.152 > 192.168.231.2 echo-request 0 / Raw\n",
      "0001 Ether / IP / ICMP 192.168.231.2 > 192.168.231.152 echo-reply 0 / Raw\n",
      "0002 Ether / IP / ICMP 192.168.231.152 > 192.168.231.2 echo-request 0 / Raw\n",
      "0003 Ether / IP / ICMP 192.168.231.2 > 192.168.231.152 echo-reply 0 / Raw\n",
      "0004 Ether / IP / ICMP 192.168.231.152 > 192.168.231.2 echo-request 0 / Raw\n"
     ]
    }
   ],
   "source": [
    "pkts1.show()"
   ]
  },
  {
   "cell_type": "code",
   "execution_count": 24,
   "metadata": {},
   "outputs": [],
   "source": [
    "new_pkt = pkts[0]"
   ]
  },
  {
   "cell_type": "code",
   "execution_count": 25,
   "metadata": {},
   "outputs": [
    {
     "data": {
      "text/plain": [
       "<Ether  dst=00:50:56:f9:21:6d src=00:0c:29:d7:4d:09 type=IPv4 |<IP  version=4 ihl=5 tos=0x0 len=84 id=9813 flags=DF frag=0 ttl=64 proto=icmp chksum=0xc467 src=192.168.231.152 dst=192.168.231.2 |<ICMP  type=echo-request code=0 chksum=0x5a58 id=0xc47 seq=0x1 |<Raw  load='+J\\x81]\\xf0\\xb4\\t\\x00\\x08\\t\\n\\x0b\\x0c\\r\\x0e\\x0f\\x10\\x11\\x12\\x13\\x14\\x15\\x16\\x17\\x18\\x19\\x1a\\x1b\\x1c\\x1d\\x1e\\x1f !\"#$%&\\'()*+,-./01234567' |>>>>"
      ]
     },
     "execution_count": 25,
     "metadata": {},
     "output_type": "execute_result"
    }
   ],
   "source": [
    "new_pkt"
   ]
  },
  {
   "cell_type": "markdown",
   "metadata": {},
   "source": [
    "## open icmp.pcap file in wireshark to analyze"
   ]
  },
  {
   "cell_type": "code",
   "execution_count": null,
   "metadata": {},
   "outputs": [],
   "source": []
  }
 ],
 "metadata": {
  "kernelspec": {
   "display_name": "Python 3",
   "language": "python",
   "name": "python3"
  },
  "language_info": {
   "codemirror_mode": {
    "name": "ipython",
    "version": 3
   },
   "file_extension": ".py",
   "mimetype": "text/x-python",
   "name": "python",
   "nbconvert_exporter": "python",
   "pygments_lexer": "ipython3",
   "version": "3.7.1"
  }
 },
 "nbformat": 4,
 "nbformat_minor": 2
}
