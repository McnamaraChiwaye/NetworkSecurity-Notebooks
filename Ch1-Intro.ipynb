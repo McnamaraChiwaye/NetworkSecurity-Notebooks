{
 "cells": [
  {
   "cell_type": "markdown",
   "metadata": {},
   "source": [
    "# Scapy\n",
    "- https://thepacketgeek.com/\n",
    "- http://scapy.readthedocs.io/en/latest/usage.html\n",
    "Scapy can be run in two different modes, interactively as in these notbook demos or from a terminal window and programmatically from a Python script."
   ]
  },
  {
   "cell_type": "code",
   "execution_count": null,
   "metadata": {},
   "outputs": [],
   "source": [
    "from scapy.all import *"
   ]
  },
  {
   "cell_type": "code",
   "execution_count": null,
   "metadata": {},
   "outputs": [],
   "source": [
    "lsc()"
   ]
  },
  {
   "cell_type": "code",
   "execution_count": null,
   "metadata": {},
   "outputs": [],
   "source": [
    "ls()"
   ]
  },
  {
   "cell_type": "markdown",
   "metadata": {},
   "source": [
    "### Most common commands\n",
    "- lsc() - list all the scapy commands\n",
    "- ls() - list all the supported protocols\n",
    "- send(), - sniff(), - sr*() "
   ]
  },
  {
   "cell_type": "code",
   "execution_count": null,
   "metadata": {
    "collapsed": true
   },
   "outputs": [],
   "source": [
    "# count argument value will sniff that many packets\n",
    "pkt = sniff(count=2)"
   ]
  },
  {
   "cell_type": "code",
   "execution_count": null,
   "metadata": {},
   "outputs": [],
   "source": [
    "type(pkt)"
   ]
  },
  {
   "cell_type": "code",
   "execution_count": null,
   "metadata": {},
   "outputs": [],
   "source": [
    "pkt"
   ]
  },
  {
   "cell_type": "code",
   "execution_count": null,
   "metadata": {},
   "outputs": [],
   "source": [
    "pkt[0].summary()"
   ]
  },
  {
   "cell_type": "code",
   "execution_count": null,
   "metadata": {},
   "outputs": [],
   "source": [
    "ls(Ether)"
   ]
  },
  {
   "cell_type": "code",
   "execution_count": null,
   "metadata": {},
   "outputs": [],
   "source": [
    "ls()"
   ]
  },
  {
   "cell_type": "code",
   "execution_count": null,
   "metadata": {},
   "outputs": [],
   "source": [
    "ls(IP)"
   ]
  },
  {
   "cell_type": "code",
   "execution_count": null,
   "metadata": {},
   "outputs": [],
   "source": [
    "ls(UDP)"
   ]
  },
  {
   "cell_type": "code",
   "execution_count": 31,
   "metadata": {},
   "outputs": [
    {
     "name": "stdout",
     "output_type": "stream",
     "text": [
      "sport      : ShortEnumField       = (20)\n",
      "dport      : ShortEnumField       = (80)\n",
      "seq        : IntField             = (0)\n",
      "ack        : IntField             = (0)\n",
      "dataofs    : BitField             = (None)\n",
      "reserved   : BitField             = (0)\n",
      "flags      : FlagsField           = (2)\n",
      "window     : ShortField           = (8192)\n",
      "chksum     : XShortField          = (None)\n",
      "urgptr     : ShortField           = (0)\n",
      "options    : TCPOptionsField      = ({})\n"
     ]
    }
   ],
   "source": [
    "ls(TCP)"
   ]
  },
  {
   "cell_type": "markdown",
   "metadata": {},
   "source": [
    "## Under the Hood\n",
    "Scapy uses Python dictionaries as the data structures for packets. Each packet is a collection of nested dictionaries with each layer being a child dictionary of the previous layer, built from the lowest layer up. E.g.\n",
    "Ether | IP | ICMP <br><br>\n",
    "Each field (such as the Ethernet ‘dst’ value or ICMP ‘type’ value) is a key:value pair in the appropriate layer. These fields (and nested layers) are all mutable so we can reassign them in place using the assignment operator."
   ]
  },
  {
   "cell_type": "code",
   "execution_count": 32,
   "metadata": {},
   "outputs": [
    {
     "name": "stdout",
     "output_type": "stream",
     "text": [
      "\u001b[31m###[\u001b[0m\u001b[32m\u001b[1m \u001b[31m\u001b[1mIP\u001b[0m\u001b[32m\u001b[1m \u001b[31m]###\u001b[0m\u001b[32m\u001b[1m\n",
      "  \u001b[33m\u001b[1mversion\u001b[0m\u001b[32m\u001b[1m\u001b[31m=\u001b[0m\u001b[32m\u001b[1m \u001b[32m\u001b[1m4\u001b[0m\u001b[32m\u001b[1m\n",
      "  \u001b[33m\u001b[1mihl\u001b[0m\u001b[32m\u001b[1m\u001b[31m=\u001b[0m\u001b[32m\u001b[1m \u001b[32m\u001b[1mNone\u001b[0m\u001b[32m\u001b[1m\n",
      "  \u001b[33m\u001b[1mtos\u001b[0m\u001b[32m\u001b[1m\u001b[31m=\u001b[0m\u001b[32m\u001b[1m \u001b[32m\u001b[1m0x0\u001b[0m\u001b[32m\u001b[1m\n",
      "  \u001b[33m\u001b[1mlen\u001b[0m\u001b[32m\u001b[1m\u001b[31m=\u001b[0m\u001b[32m\u001b[1m \u001b[32m\u001b[1mNone\u001b[0m\u001b[32m\u001b[1m\n",
      "  \u001b[33m\u001b[1mid\u001b[0m\u001b[32m\u001b[1m\u001b[31m=\u001b[0m\u001b[32m\u001b[1m \u001b[32m\u001b[1m1\u001b[0m\u001b[32m\u001b[1m\n",
      "  \u001b[33m\u001b[1mflags\u001b[0m\u001b[32m\u001b[1m\u001b[31m=\u001b[0m\u001b[32m\u001b[1m \u001b[32m\u001b[1m\u001b[0m\u001b[32m\u001b[1m\n",
      "  \u001b[33m\u001b[1mfrag\u001b[0m\u001b[32m\u001b[1m\u001b[31m=\u001b[0m\u001b[32m\u001b[1m \u001b[32m\u001b[1m0\u001b[0m\u001b[32m\u001b[1m\n",
      "  \u001b[33m\u001b[1mttl\u001b[0m\u001b[32m\u001b[1m\u001b[31m=\u001b[0m\u001b[32m\u001b[1m \u001b[32m\u001b[1m64\u001b[0m\u001b[32m\u001b[1m\n",
      "  \u001b[33m\u001b[1mproto\u001b[0m\u001b[32m\u001b[1m\u001b[31m=\u001b[0m\u001b[32m\u001b[1m \u001b[32m\u001b[1mhopopt\u001b[0m\u001b[32m\u001b[1m\n",
      "  \u001b[33m\u001b[1mchksum\u001b[0m\u001b[32m\u001b[1m\u001b[31m=\u001b[0m\u001b[32m\u001b[1m \u001b[32m\u001b[1mNone\u001b[0m\u001b[32m\u001b[1m\n",
      "  \u001b[32msrc\u001b[0m\u001b[32m\u001b[1m\u001b[31m=\u001b[0m\u001b[32m\u001b[1m \u001b[32m127.0.0.1\u001b[0m\u001b[32m\u001b[1m\n",
      "  \u001b[32mdst\u001b[0m\u001b[32m\u001b[1m\u001b[31m=\u001b[0m\u001b[32m\u001b[1m \u001b[32m127.0.0.1\u001b[0m\u001b[32m\u001b[1m\n",
      "  \\\u001b[33m\u001b[1moptions\u001b[0m\u001b[32m\u001b[1m\\\n"
     ]
    }
   ],
   "source": [
    "ip = IP()\n",
    "ip.show()\n"
   ]
  },
  {
   "cell_type": "code",
   "execution_count": null,
   "metadata": {},
   "outputs": [],
   "source": [
    "ip.src = \"192.168.47.100\" # some spoofed IP?\n",
    "ip.ttl = 32 # hop limit that limits the lifespan or lieftime of packet in network\n",
    "ip.show()\n"
   ]
  },
  {
   "cell_type": "markdown",
   "metadata": {},
   "source": [
    "## Packet summary and show method\n",
    "- summary() gives packet summary\n",
    "- show() method shows detail packet contents"
   ]
  },
  {
   "cell_type": "code",
   "execution_count": 33,
   "metadata": {},
   "outputs": [
    {
     "data": {
      "text/plain": [
       "\u001b[31m<\u001b[0m\u001b[32m\u001b[1m\u001b[31m\u001b[1mSniffed\u001b[0m\u001b[32m\u001b[1m\u001b[31m:\u001b[0m\u001b[32m\u001b[1m \u001b[33m\u001b[1mTCP\u001b[0m\u001b[32m\u001b[1m\u001b[31m:\u001b[0m\u001b[32m\u001b[1m\u001b[32m\u001b[1m28\u001b[0m\u001b[32m\u001b[1m \u001b[33m\u001b[1mUDP\u001b[0m\u001b[32m\u001b[1m\u001b[31m:\u001b[0m\u001b[32m\u001b[1m\u001b[32m\u001b[1m0\u001b[0m\u001b[32m\u001b[1m \u001b[33m\u001b[1mICMP\u001b[0m\u001b[32m\u001b[1m\u001b[31m:\u001b[0m\u001b[32m\u001b[1m\u001b[32m\u001b[1m20\u001b[0m\u001b[32m\u001b[1m \u001b[33m\u001b[1mOther\u001b[0m\u001b[32m\u001b[1m\u001b[31m:\u001b[0m\u001b[32m\u001b[1m\u001b[32m\u001b[1m2\u001b[0m\u001b[32m\u001b[1m\u001b[31m>\u001b[0m\u001b[32m\u001b[1m"
      ]
     },
     "execution_count": 33,
     "metadata": {},
     "output_type": "execute_result"
    }
   ],
   "source": [
    "pkts = sniff(count=50)\n",
    "pkts"
   ]
  },
  {
   "cell_type": "code",
   "execution_count": 34,
   "metadata": {},
   "outputs": [
    {
     "data": {
      "text/plain": [
       "'Ether / IP / TCP 127.0.0.1:46361 > 127.0.0.1:48226 A'"
      ]
     },
     "execution_count": 34,
     "metadata": {},
     "output_type": "execute_result"
    }
   ],
   "source": [
    "pkts[0].summary()"
   ]
  },
  {
   "cell_type": "code",
   "execution_count": 35,
   "metadata": {},
   "outputs": [
    {
     "name": "stdout",
     "output_type": "stream",
     "text": [
      "\u001b[31m###[\u001b[0m\u001b[32m\u001b[1m \u001b[31m\u001b[1mEthernet\u001b[0m\u001b[32m\u001b[1m \u001b[31m]###\u001b[0m\u001b[32m\u001b[1m\n",
      "  \u001b[33m\u001b[1mdst\u001b[0m\u001b[32m\u001b[1m\u001b[31m=\u001b[0m\u001b[32m\u001b[1m \u001b[32m\u001b[1m00:00:00:00:00:00\u001b[0m\u001b[32m\u001b[1m\n",
      "  \u001b[33m\u001b[1msrc\u001b[0m\u001b[32m\u001b[1m\u001b[31m=\u001b[0m\u001b[32m\u001b[1m \u001b[32m\u001b[1m00:00:00:00:00:00\u001b[0m\u001b[32m\u001b[1m\n",
      "  \u001b[33m\u001b[1mtype\u001b[0m\u001b[32m\u001b[1m\u001b[31m=\u001b[0m\u001b[32m\u001b[1m \u001b[32m\u001b[1m0x800\u001b[0m\u001b[32m\u001b[1m\n",
      "\u001b[31m###[\u001b[0m\u001b[32m\u001b[1m \u001b[31m\u001b[1mIP\u001b[0m\u001b[32m\u001b[1m \u001b[31m]###\u001b[0m\u001b[32m\u001b[1m\n",
      "     \u001b[33m\u001b[1mversion\u001b[0m\u001b[32m\u001b[1m\u001b[31m=\u001b[0m\u001b[32m\u001b[1m \u001b[32m\u001b[1m4\u001b[0m\u001b[32m\u001b[1m\n",
      "     \u001b[33m\u001b[1mihl\u001b[0m\u001b[32m\u001b[1m\u001b[31m=\u001b[0m\u001b[32m\u001b[1m \u001b[32m\u001b[1m5\u001b[0m\u001b[32m\u001b[1m\n",
      "     \u001b[33m\u001b[1mtos\u001b[0m\u001b[32m\u001b[1m\u001b[31m=\u001b[0m\u001b[32m\u001b[1m \u001b[32m\u001b[1m0x0\u001b[0m\u001b[32m\u001b[1m\n",
      "     \u001b[33m\u001b[1mlen\u001b[0m\u001b[32m\u001b[1m\u001b[31m=\u001b[0m\u001b[32m\u001b[1m \u001b[32m\u001b[1m52\u001b[0m\u001b[32m\u001b[1m\n",
      "     \u001b[33m\u001b[1mid\u001b[0m\u001b[32m\u001b[1m\u001b[31m=\u001b[0m\u001b[32m\u001b[1m \u001b[32m\u001b[1m33257\u001b[0m\u001b[32m\u001b[1m\n",
      "     \u001b[33m\u001b[1mflags\u001b[0m\u001b[32m\u001b[1m\u001b[31m=\u001b[0m\u001b[32m\u001b[1m \u001b[32m\u001b[1mDF\u001b[0m\u001b[32m\u001b[1m\n",
      "     \u001b[33m\u001b[1mfrag\u001b[0m\u001b[32m\u001b[1m\u001b[31m=\u001b[0m\u001b[32m\u001b[1m \u001b[32m\u001b[1m0\u001b[0m\u001b[32m\u001b[1m\n",
      "     \u001b[33m\u001b[1mttl\u001b[0m\u001b[32m\u001b[1m\u001b[31m=\u001b[0m\u001b[32m\u001b[1m \u001b[32m\u001b[1m64\u001b[0m\u001b[32m\u001b[1m\n",
      "     \u001b[33m\u001b[1mproto\u001b[0m\u001b[32m\u001b[1m\u001b[31m=\u001b[0m\u001b[32m\u001b[1m \u001b[32m\u001b[1mtcp\u001b[0m\u001b[32m\u001b[1m\n",
      "     \u001b[33m\u001b[1mchksum\u001b[0m\u001b[32m\u001b[1m\u001b[31m=\u001b[0m\u001b[32m\u001b[1m \u001b[32m\u001b[1m0xbad8\u001b[0m\u001b[32m\u001b[1m\n",
      "     \u001b[32msrc\u001b[0m\u001b[32m\u001b[1m\u001b[31m=\u001b[0m\u001b[32m\u001b[1m \u001b[32m127.0.0.1\u001b[0m\u001b[32m\u001b[1m\n",
      "     \u001b[32mdst\u001b[0m\u001b[32m\u001b[1m\u001b[31m=\u001b[0m\u001b[32m\u001b[1m \u001b[32m127.0.0.1\u001b[0m\u001b[32m\u001b[1m\n",
      "     \\\u001b[33m\u001b[1moptions\u001b[0m\u001b[32m\u001b[1m\\\n",
      "\u001b[31m###[\u001b[0m\u001b[32m\u001b[1m \u001b[31m\u001b[1mTCP\u001b[0m\u001b[32m\u001b[1m \u001b[31m]###\u001b[0m\u001b[32m\u001b[1m\n",
      "        \u001b[33m\u001b[1msport\u001b[0m\u001b[32m\u001b[1m\u001b[31m=\u001b[0m\u001b[32m\u001b[1m \u001b[32m\u001b[1m46361\u001b[0m\u001b[32m\u001b[1m\n",
      "        \u001b[33m\u001b[1mdport\u001b[0m\u001b[32m\u001b[1m\u001b[31m=\u001b[0m\u001b[32m\u001b[1m \u001b[32m\u001b[1m48226\u001b[0m\u001b[32m\u001b[1m\n",
      "        \u001b[33m\u001b[1mseq\u001b[0m\u001b[32m\u001b[1m\u001b[31m=\u001b[0m\u001b[32m\u001b[1m \u001b[32m\u001b[1m2069513005\u001b[0m\u001b[32m\u001b[1m\n",
      "        \u001b[33m\u001b[1mack\u001b[0m\u001b[32m\u001b[1m\u001b[31m=\u001b[0m\u001b[32m\u001b[1m \u001b[32m\u001b[1m1805720462\u001b[0m\u001b[32m\u001b[1m\n",
      "        \u001b[33m\u001b[1mdataofs\u001b[0m\u001b[32m\u001b[1m\u001b[31m=\u001b[0m\u001b[32m\u001b[1m \u001b[32m\u001b[1m8\u001b[0m\u001b[32m\u001b[1m\n",
      "        \u001b[33m\u001b[1mreserved\u001b[0m\u001b[32m\u001b[1m\u001b[31m=\u001b[0m\u001b[32m\u001b[1m \u001b[32m\u001b[1m0\u001b[0m\u001b[32m\u001b[1m\n",
      "        \u001b[33m\u001b[1mflags\u001b[0m\u001b[32m\u001b[1m\u001b[31m=\u001b[0m\u001b[32m\u001b[1m \u001b[32m\u001b[1mA\u001b[0m\u001b[32m\u001b[1m\n",
      "        \u001b[33m\u001b[1mwindow\u001b[0m\u001b[32m\u001b[1m\u001b[31m=\u001b[0m\u001b[32m\u001b[1m \u001b[32m\u001b[1m643\u001b[0m\u001b[32m\u001b[1m\n",
      "        \u001b[33m\u001b[1mchksum\u001b[0m\u001b[32m\u001b[1m\u001b[31m=\u001b[0m\u001b[32m\u001b[1m \u001b[32m\u001b[1m0xfe28\u001b[0m\u001b[32m\u001b[1m\n",
      "        \u001b[33m\u001b[1murgptr\u001b[0m\u001b[32m\u001b[1m\u001b[31m=\u001b[0m\u001b[32m\u001b[1m \u001b[32m\u001b[1m0\u001b[0m\u001b[32m\u001b[1m\n",
      "        \u001b[33m\u001b[1moptions\u001b[0m\u001b[32m\u001b[1m\u001b[31m=\u001b[0m\u001b[32m\u001b[1m \u001b[32m\u001b[1m[('NOP', None), ('NOP', None), ('Timestamp', (5414646, 5414635))]\u001b[0m\u001b[32m\u001b[1m\n"
     ]
    }
   ],
   "source": [
    "pkts[0].show()"
   ]
  },
  {
   "cell_type": "markdown",
   "metadata": {},
   "source": [
    "## Digging into Pakets by Layer"
   ]
  },
  {
   "cell_type": "code",
   "execution_count": 36,
   "metadata": {},
   "outputs": [
    {
     "name": "stdout",
     "output_type": "stream",
     "text": [
      "\u001b[31m###[\u001b[0m\u001b[32m\u001b[1m \u001b[31m\u001b[1mEthernet\u001b[0m\u001b[32m\u001b[1m \u001b[31m]###\u001b[0m\u001b[32m\u001b[1m\n",
      "  \u001b[33m\u001b[1mdst\u001b[0m\u001b[32m\u001b[1m\u001b[31m=\u001b[0m\u001b[32m\u001b[1m \u001b[32m\u001b[1m00:00:00:00:00:00\u001b[0m\u001b[32m\u001b[1m\n",
      "  \u001b[33m\u001b[1msrc\u001b[0m\u001b[32m\u001b[1m\u001b[31m=\u001b[0m\u001b[32m\u001b[1m \u001b[32m\u001b[1m00:00:00:00:00:00\u001b[0m\u001b[32m\u001b[1m\n",
      "  \u001b[33m\u001b[1mtype\u001b[0m\u001b[32m\u001b[1m\u001b[31m=\u001b[0m\u001b[32m\u001b[1m \u001b[32m\u001b[1m0x800\u001b[0m\u001b[32m\u001b[1m\n",
      "\u001b[31m###[\u001b[0m\u001b[32m\u001b[1m \u001b[31m\u001b[1mIP\u001b[0m\u001b[32m\u001b[1m \u001b[31m]###\u001b[0m\u001b[32m\u001b[1m\n",
      "     \u001b[33m\u001b[1mversion\u001b[0m\u001b[32m\u001b[1m\u001b[31m=\u001b[0m\u001b[32m\u001b[1m \u001b[32m\u001b[1m4\u001b[0m\u001b[32m\u001b[1m\n",
      "     \u001b[33m\u001b[1mihl\u001b[0m\u001b[32m\u001b[1m\u001b[31m=\u001b[0m\u001b[32m\u001b[1m \u001b[32m\u001b[1m5\u001b[0m\u001b[32m\u001b[1m\n",
      "     \u001b[33m\u001b[1mtos\u001b[0m\u001b[32m\u001b[1m\u001b[31m=\u001b[0m\u001b[32m\u001b[1m \u001b[32m\u001b[1m0x0\u001b[0m\u001b[32m\u001b[1m\n",
      "     \u001b[33m\u001b[1mlen\u001b[0m\u001b[32m\u001b[1m\u001b[31m=\u001b[0m\u001b[32m\u001b[1m \u001b[32m\u001b[1m52\u001b[0m\u001b[32m\u001b[1m\n",
      "     \u001b[33m\u001b[1mid\u001b[0m\u001b[32m\u001b[1m\u001b[31m=\u001b[0m\u001b[32m\u001b[1m \u001b[32m\u001b[1m33257\u001b[0m\u001b[32m\u001b[1m\n",
      "     \u001b[33m\u001b[1mflags\u001b[0m\u001b[32m\u001b[1m\u001b[31m=\u001b[0m\u001b[32m\u001b[1m \u001b[32m\u001b[1mDF\u001b[0m\u001b[32m\u001b[1m\n",
      "     \u001b[33m\u001b[1mfrag\u001b[0m\u001b[32m\u001b[1m\u001b[31m=\u001b[0m\u001b[32m\u001b[1m \u001b[32m\u001b[1m0\u001b[0m\u001b[32m\u001b[1m\n",
      "     \u001b[33m\u001b[1mttl\u001b[0m\u001b[32m\u001b[1m\u001b[31m=\u001b[0m\u001b[32m\u001b[1m \u001b[32m\u001b[1m64\u001b[0m\u001b[32m\u001b[1m\n",
      "     \u001b[33m\u001b[1mproto\u001b[0m\u001b[32m\u001b[1m\u001b[31m=\u001b[0m\u001b[32m\u001b[1m \u001b[32m\u001b[1mtcp\u001b[0m\u001b[32m\u001b[1m\n",
      "     \u001b[33m\u001b[1mchksum\u001b[0m\u001b[32m\u001b[1m\u001b[31m=\u001b[0m\u001b[32m\u001b[1m \u001b[32m\u001b[1m0xbad8\u001b[0m\u001b[32m\u001b[1m\n",
      "     \u001b[32msrc\u001b[0m\u001b[32m\u001b[1m\u001b[31m=\u001b[0m\u001b[32m\u001b[1m \u001b[32m127.0.0.1\u001b[0m\u001b[32m\u001b[1m\n",
      "     \u001b[32mdst\u001b[0m\u001b[32m\u001b[1m\u001b[31m=\u001b[0m\u001b[32m\u001b[1m \u001b[32m127.0.0.1\u001b[0m\u001b[32m\u001b[1m\n",
      "     \\\u001b[33m\u001b[1moptions\u001b[0m\u001b[32m\u001b[1m\\\n",
      "\u001b[31m###[\u001b[0m\u001b[32m\u001b[1m \u001b[31m\u001b[1mTCP\u001b[0m\u001b[32m\u001b[1m \u001b[31m]###\u001b[0m\u001b[32m\u001b[1m\n",
      "        \u001b[33m\u001b[1msport\u001b[0m\u001b[32m\u001b[1m\u001b[31m=\u001b[0m\u001b[32m\u001b[1m \u001b[32m\u001b[1m46361\u001b[0m\u001b[32m\u001b[1m\n",
      "        \u001b[33m\u001b[1mdport\u001b[0m\u001b[32m\u001b[1m\u001b[31m=\u001b[0m\u001b[32m\u001b[1m \u001b[32m\u001b[1m48226\u001b[0m\u001b[32m\u001b[1m\n",
      "        \u001b[33m\u001b[1mseq\u001b[0m\u001b[32m\u001b[1m\u001b[31m=\u001b[0m\u001b[32m\u001b[1m \u001b[32m\u001b[1m2069513005\u001b[0m\u001b[32m\u001b[1m\n",
      "        \u001b[33m\u001b[1mack\u001b[0m\u001b[32m\u001b[1m\u001b[31m=\u001b[0m\u001b[32m\u001b[1m \u001b[32m\u001b[1m1805720462\u001b[0m\u001b[32m\u001b[1m\n",
      "        \u001b[33m\u001b[1mdataofs\u001b[0m\u001b[32m\u001b[1m\u001b[31m=\u001b[0m\u001b[32m\u001b[1m \u001b[32m\u001b[1m8\u001b[0m\u001b[32m\u001b[1m\n",
      "        \u001b[33m\u001b[1mreserved\u001b[0m\u001b[32m\u001b[1m\u001b[31m=\u001b[0m\u001b[32m\u001b[1m \u001b[32m\u001b[1m0\u001b[0m\u001b[32m\u001b[1m\n",
      "        \u001b[33m\u001b[1mflags\u001b[0m\u001b[32m\u001b[1m\u001b[31m=\u001b[0m\u001b[32m\u001b[1m \u001b[32m\u001b[1mA\u001b[0m\u001b[32m\u001b[1m\n",
      "        \u001b[33m\u001b[1mwindow\u001b[0m\u001b[32m\u001b[1m\u001b[31m=\u001b[0m\u001b[32m\u001b[1m \u001b[32m\u001b[1m643\u001b[0m\u001b[32m\u001b[1m\n",
      "        \u001b[33m\u001b[1mchksum\u001b[0m\u001b[32m\u001b[1m\u001b[31m=\u001b[0m\u001b[32m\u001b[1m \u001b[32m\u001b[1m0xfe28\u001b[0m\u001b[32m\u001b[1m\n",
      "        \u001b[33m\u001b[1murgptr\u001b[0m\u001b[32m\u001b[1m\u001b[31m=\u001b[0m\u001b[32m\u001b[1m \u001b[32m\u001b[1m0\u001b[0m\u001b[32m\u001b[1m\n",
      "        \u001b[33m\u001b[1moptions\u001b[0m\u001b[32m\u001b[1m\u001b[31m=\u001b[0m\u001b[32m\u001b[1m \u001b[32m\u001b[1m[('NOP', None), ('NOP', None), ('Timestamp', (5414646, 5414635))]\u001b[0m\u001b[32m\u001b[1m\n"
     ]
    }
   ],
   "source": [
    "pkts[0]['Ethernet'].show()"
   ]
  },
  {
   "cell_type": "code",
   "execution_count": 38,
   "metadata": {},
   "outputs": [
    {
     "name": "stdout",
     "output_type": "stream",
     "text": [
      "\u001b[31m###[\u001b[0m\u001b[32m\u001b[1m \u001b[31m\u001b[1mIP\u001b[0m\u001b[32m\u001b[1m \u001b[31m]###\u001b[0m\u001b[32m\u001b[1m\n",
      "  \u001b[33m\u001b[1mversion\u001b[0m\u001b[32m\u001b[1m\u001b[31m=\u001b[0m\u001b[32m\u001b[1m \u001b[32m\u001b[1m4\u001b[0m\u001b[32m\u001b[1m\n",
      "  \u001b[33m\u001b[1mihl\u001b[0m\u001b[32m\u001b[1m\u001b[31m=\u001b[0m\u001b[32m\u001b[1m \u001b[32m\u001b[1m5\u001b[0m\u001b[32m\u001b[1m\n",
      "  \u001b[33m\u001b[1mtos\u001b[0m\u001b[32m\u001b[1m\u001b[31m=\u001b[0m\u001b[32m\u001b[1m \u001b[32m\u001b[1m0x0\u001b[0m\u001b[32m\u001b[1m\n",
      "  \u001b[33m\u001b[1mlen\u001b[0m\u001b[32m\u001b[1m\u001b[31m=\u001b[0m\u001b[32m\u001b[1m \u001b[32m\u001b[1m52\u001b[0m\u001b[32m\u001b[1m\n",
      "  \u001b[33m\u001b[1mid\u001b[0m\u001b[32m\u001b[1m\u001b[31m=\u001b[0m\u001b[32m\u001b[1m \u001b[32m\u001b[1m33257\u001b[0m\u001b[32m\u001b[1m\n",
      "  \u001b[33m\u001b[1mflags\u001b[0m\u001b[32m\u001b[1m\u001b[31m=\u001b[0m\u001b[32m\u001b[1m \u001b[32m\u001b[1mDF\u001b[0m\u001b[32m\u001b[1m\n",
      "  \u001b[33m\u001b[1mfrag\u001b[0m\u001b[32m\u001b[1m\u001b[31m=\u001b[0m\u001b[32m\u001b[1m \u001b[32m\u001b[1m0\u001b[0m\u001b[32m\u001b[1m\n",
      "  \u001b[33m\u001b[1mttl\u001b[0m\u001b[32m\u001b[1m\u001b[31m=\u001b[0m\u001b[32m\u001b[1m \u001b[32m\u001b[1m64\u001b[0m\u001b[32m\u001b[1m\n",
      "  \u001b[33m\u001b[1mproto\u001b[0m\u001b[32m\u001b[1m\u001b[31m=\u001b[0m\u001b[32m\u001b[1m \u001b[32m\u001b[1mtcp\u001b[0m\u001b[32m\u001b[1m\n",
      "  \u001b[33m\u001b[1mchksum\u001b[0m\u001b[32m\u001b[1m\u001b[31m=\u001b[0m\u001b[32m\u001b[1m \u001b[32m\u001b[1m0xbad8\u001b[0m\u001b[32m\u001b[1m\n",
      "  \u001b[32msrc\u001b[0m\u001b[32m\u001b[1m\u001b[31m=\u001b[0m\u001b[32m\u001b[1m \u001b[32m127.0.0.1\u001b[0m\u001b[32m\u001b[1m\n",
      "  \u001b[32mdst\u001b[0m\u001b[32m\u001b[1m\u001b[31m=\u001b[0m\u001b[32m\u001b[1m \u001b[32m127.0.0.1\u001b[0m\u001b[32m\u001b[1m\n",
      "  \\\u001b[33m\u001b[1moptions\u001b[0m\u001b[32m\u001b[1m\\\n",
      "\u001b[31m###[\u001b[0m\u001b[32m\u001b[1m \u001b[31m\u001b[1mTCP\u001b[0m\u001b[32m\u001b[1m \u001b[31m]###\u001b[0m\u001b[32m\u001b[1m\n",
      "     \u001b[33m\u001b[1msport\u001b[0m\u001b[32m\u001b[1m\u001b[31m=\u001b[0m\u001b[32m\u001b[1m \u001b[32m\u001b[1m46361\u001b[0m\u001b[32m\u001b[1m\n",
      "     \u001b[33m\u001b[1mdport\u001b[0m\u001b[32m\u001b[1m\u001b[31m=\u001b[0m\u001b[32m\u001b[1m \u001b[32m\u001b[1m48226\u001b[0m\u001b[32m\u001b[1m\n",
      "     \u001b[33m\u001b[1mseq\u001b[0m\u001b[32m\u001b[1m\u001b[31m=\u001b[0m\u001b[32m\u001b[1m \u001b[32m\u001b[1m2069513005\u001b[0m\u001b[32m\u001b[1m\n",
      "     \u001b[33m\u001b[1mack\u001b[0m\u001b[32m\u001b[1m\u001b[31m=\u001b[0m\u001b[32m\u001b[1m \u001b[32m\u001b[1m1805720462\u001b[0m\u001b[32m\u001b[1m\n",
      "     \u001b[33m\u001b[1mdataofs\u001b[0m\u001b[32m\u001b[1m\u001b[31m=\u001b[0m\u001b[32m\u001b[1m \u001b[32m\u001b[1m8\u001b[0m\u001b[32m\u001b[1m\n",
      "     \u001b[33m\u001b[1mreserved\u001b[0m\u001b[32m\u001b[1m\u001b[31m=\u001b[0m\u001b[32m\u001b[1m \u001b[32m\u001b[1m0\u001b[0m\u001b[32m\u001b[1m\n",
      "     \u001b[33m\u001b[1mflags\u001b[0m\u001b[32m\u001b[1m\u001b[31m=\u001b[0m\u001b[32m\u001b[1m \u001b[32m\u001b[1mA\u001b[0m\u001b[32m\u001b[1m\n",
      "     \u001b[33m\u001b[1mwindow\u001b[0m\u001b[32m\u001b[1m\u001b[31m=\u001b[0m\u001b[32m\u001b[1m \u001b[32m\u001b[1m643\u001b[0m\u001b[32m\u001b[1m\n",
      "     \u001b[33m\u001b[1mchksum\u001b[0m\u001b[32m\u001b[1m\u001b[31m=\u001b[0m\u001b[32m\u001b[1m \u001b[32m\u001b[1m0xfe28\u001b[0m\u001b[32m\u001b[1m\n",
      "     \u001b[33m\u001b[1murgptr\u001b[0m\u001b[32m\u001b[1m\u001b[31m=\u001b[0m\u001b[32m\u001b[1m \u001b[32m\u001b[1m0\u001b[0m\u001b[32m\u001b[1m\n",
      "     \u001b[33m\u001b[1moptions\u001b[0m\u001b[32m\u001b[1m\u001b[31m=\u001b[0m\u001b[32m\u001b[1m \u001b[32m\u001b[1m[('NOP', None), ('NOP', None), ('Timestamp', (5414646, 5414635))]\u001b[0m\u001b[32m\u001b[1m\n"
     ]
    }
   ],
   "source": [
    "pkts[0]['Ethernet']['IP'].show()"
   ]
  },
  {
   "cell_type": "code",
   "execution_count": 39,
   "metadata": {},
   "outputs": [
    {
     "data": {
      "text/plain": [
       "\u001b[31m<\u001b[0m\u001b[32m\u001b[1m\u001b[31m\u001b[1mTCP\u001b[0m\u001b[32m\u001b[1m  \u001b[33m\u001b[1msport\u001b[0m\u001b[32m\u001b[1m\u001b[31m=\u001b[0m\u001b[32m\u001b[1m\u001b[32m\u001b[1m46361\u001b[0m\u001b[32m\u001b[1m \u001b[33m\u001b[1mdport\u001b[0m\u001b[32m\u001b[1m\u001b[31m=\u001b[0m\u001b[32m\u001b[1m\u001b[32m\u001b[1m48226\u001b[0m\u001b[32m\u001b[1m \u001b[33m\u001b[1mseq\u001b[0m\u001b[32m\u001b[1m\u001b[31m=\u001b[0m\u001b[32m\u001b[1m\u001b[32m\u001b[1m2069513005\u001b[0m\u001b[32m\u001b[1m \u001b[33m\u001b[1mack\u001b[0m\u001b[32m\u001b[1m\u001b[31m=\u001b[0m\u001b[32m\u001b[1m\u001b[32m\u001b[1m1805720462\u001b[0m\u001b[32m\u001b[1m \u001b[33m\u001b[1mdataofs\u001b[0m\u001b[32m\u001b[1m\u001b[31m=\u001b[0m\u001b[32m\u001b[1m\u001b[32m\u001b[1m8\u001b[0m\u001b[32m\u001b[1m \u001b[33m\u001b[1mreserved\u001b[0m\u001b[32m\u001b[1m\u001b[31m=\u001b[0m\u001b[32m\u001b[1m\u001b[32m\u001b[1m0\u001b[0m\u001b[32m\u001b[1m \u001b[33m\u001b[1mflags\u001b[0m\u001b[32m\u001b[1m\u001b[31m=\u001b[0m\u001b[32m\u001b[1m\u001b[32m\u001b[1mA\u001b[0m\u001b[32m\u001b[1m \u001b[33m\u001b[1mwindow\u001b[0m\u001b[32m\u001b[1m\u001b[31m=\u001b[0m\u001b[32m\u001b[1m\u001b[32m\u001b[1m643\u001b[0m\u001b[32m\u001b[1m \u001b[33m\u001b[1mchksum\u001b[0m\u001b[32m\u001b[1m\u001b[31m=\u001b[0m\u001b[32m\u001b[1m\u001b[32m\u001b[1m0xfe28\u001b[0m\u001b[32m\u001b[1m \u001b[33m\u001b[1murgptr\u001b[0m\u001b[32m\u001b[1m\u001b[31m=\u001b[0m\u001b[32m\u001b[1m\u001b[32m\u001b[1m0\u001b[0m\u001b[32m\u001b[1m \u001b[33m\u001b[1moptions\u001b[0m\u001b[32m\u001b[1m\u001b[31m=\u001b[0m\u001b[32m\u001b[1m\u001b[32m\u001b[1m[('NOP', None), ('NOP', None), ('Timestamp', (5414646, 5414635))]\u001b[0m\u001b[32m\u001b[1m \u001b[31m|\u001b[0m\u001b[32m\u001b[1m\u001b[31m>\u001b[0m\u001b[32m\u001b[1m"
      ]
     },
     "execution_count": 39,
     "metadata": {},
     "output_type": "execute_result"
    }
   ],
   "source": [
    "pkts[0]['Ethernet']['IP']['TCP']"
   ]
  },
  {
   "cell_type": "code",
   "execution_count": 40,
   "metadata": {},
   "outputs": [
    {
     "data": {
      "text/plain": [
       "64"
      ]
     },
     "execution_count": 40,
     "metadata": {},
     "output_type": "execute_result"
    }
   ],
   "source": [
    "pkts[0]['IP'].ttl"
   ]
  },
  {
   "cell_type": "code",
   "execution_count": 42,
   "metadata": {},
   "outputs": [
    {
     "data": {
      "text/plain": [
       "8"
      ]
     },
     "execution_count": 42,
     "metadata": {},
     "output_type": "execute_result"
    }
   ],
   "source": [
    "pkts[30]['ICMP'].type"
   ]
  },
  {
   "cell_type": "markdown",
   "metadata": {
    "collapsed": true
   },
   "source": [
    "## Packet .command() Method\n",
    "- .command() method retuns a string of the command necessary to recreate that packet"
   ]
  },
  {
   "cell_type": "code",
   "execution_count": 43,
   "metadata": {},
   "outputs": [
    {
     "data": {
      "text/plain": [
       "\"Ether(dst='00:00:00:00:00:00', src='00:00:00:00:00:00', type=34525)/IPv6(version=6, tc=0, fl=705509, plen=32, nh=6, hlim=64, src='::1', dst='::1')/TCP(sport=58804, dport=8888, seq=950798151, ack=1654315182, dataofs=8, reserved=0, flags=16, window=3636, chksum=40, urgptr=0, options=[('NOP', None), ('NOP', None), ('Timestamp', (5414648, 5414637))])\""
      ]
     },
     "execution_count": 43,
     "metadata": {},
     "output_type": "execute_result"
    }
   ],
   "source": [
    "pkts[2].command()"
   ]
  },
  {
   "cell_type": "code",
   "execution_count": 44,
   "metadata": {
    "collapsed": true
   },
   "outputs": [],
   "source": [
    "newPkt = pkts[2]\n",
    "# or \n",
    "# newPkt = eval(pkts[2].command())"
   ]
  },
  {
   "cell_type": "code",
   "execution_count": 45,
   "metadata": {},
   "outputs": [
    {
     "data": {
      "text/plain": [
       "\u001b[31m<\u001b[0m\u001b[32m\u001b[1m\u001b[31m\u001b[1mEther\u001b[0m\u001b[32m\u001b[1m  \u001b[33m\u001b[1mdst\u001b[0m\u001b[32m\u001b[1m\u001b[31m=\u001b[0m\u001b[32m\u001b[1m\u001b[32m\u001b[1m00:00:00:00:00:00\u001b[0m\u001b[32m\u001b[1m \u001b[33m\u001b[1msrc\u001b[0m\u001b[32m\u001b[1m\u001b[31m=\u001b[0m\u001b[32m\u001b[1m\u001b[32m\u001b[1m00:00:00:00:00:00\u001b[0m\u001b[32m\u001b[1m \u001b[33m\u001b[1mtype\u001b[0m\u001b[32m\u001b[1m\u001b[31m=\u001b[0m\u001b[32m\u001b[1m\u001b[32m\u001b[1m0x86dd\u001b[0m\u001b[32m\u001b[1m \u001b[31m|\u001b[0m\u001b[32m\u001b[1m\u001b[31m<\u001b[0m\u001b[32m\u001b[1m\u001b[31m\u001b[1mIPv6\u001b[0m\u001b[32m\u001b[1m  \u001b[33m\u001b[1mversion\u001b[0m\u001b[32m\u001b[1m\u001b[31m=\u001b[0m\u001b[32m\u001b[1m\u001b[32m\u001b[1m6\u001b[0m\u001b[32m\u001b[1m \u001b[33m\u001b[1mtc\u001b[0m\u001b[32m\u001b[1m\u001b[31m=\u001b[0m\u001b[32m\u001b[1m\u001b[32m\u001b[1m0\u001b[0m\u001b[32m\u001b[1m \u001b[33m\u001b[1mfl\u001b[0m\u001b[32m\u001b[1m\u001b[31m=\u001b[0m\u001b[32m\u001b[1m\u001b[32m\u001b[1m705509\u001b[0m\u001b[32m\u001b[1m \u001b[33m\u001b[1mplen\u001b[0m\u001b[32m\u001b[1m\u001b[31m=\u001b[0m\u001b[32m\u001b[1m\u001b[32m\u001b[1m32\u001b[0m\u001b[32m\u001b[1m \u001b[33m\u001b[1mnh\u001b[0m\u001b[32m\u001b[1m\u001b[31m=\u001b[0m\u001b[32m\u001b[1m\u001b[32m\u001b[1mTCP\u001b[0m\u001b[32m\u001b[1m \u001b[33m\u001b[1mhlim\u001b[0m\u001b[32m\u001b[1m\u001b[31m=\u001b[0m\u001b[32m\u001b[1m\u001b[32m\u001b[1m64\u001b[0m\u001b[32m\u001b[1m \u001b[33m\u001b[1msrc\u001b[0m\u001b[32m\u001b[1m\u001b[31m=\u001b[0m\u001b[32m\u001b[1m\u001b[32m\u001b[1m::1\u001b[0m\u001b[32m\u001b[1m \u001b[33m\u001b[1mdst\u001b[0m\u001b[32m\u001b[1m\u001b[31m=\u001b[0m\u001b[32m\u001b[1m\u001b[32m\u001b[1m::1\u001b[0m\u001b[32m\u001b[1m \u001b[31m|\u001b[0m\u001b[32m\u001b[1m\u001b[31m<\u001b[0m\u001b[32m\u001b[1m\u001b[31m\u001b[1mTCP\u001b[0m\u001b[32m\u001b[1m  \u001b[33m\u001b[1msport\u001b[0m\u001b[32m\u001b[1m\u001b[31m=\u001b[0m\u001b[32m\u001b[1m\u001b[32m\u001b[1m58804\u001b[0m\u001b[32m\u001b[1m \u001b[33m\u001b[1mdport\u001b[0m\u001b[32m\u001b[1m\u001b[31m=\u001b[0m\u001b[32m\u001b[1m\u001b[32m\u001b[1m8888\u001b[0m\u001b[32m\u001b[1m \u001b[33m\u001b[1mseq\u001b[0m\u001b[32m\u001b[1m\u001b[31m=\u001b[0m\u001b[32m\u001b[1m\u001b[32m\u001b[1m950798151\u001b[0m\u001b[32m\u001b[1m \u001b[33m\u001b[1mack\u001b[0m\u001b[32m\u001b[1m\u001b[31m=\u001b[0m\u001b[32m\u001b[1m\u001b[32m\u001b[1m1654315182\u001b[0m\u001b[32m\u001b[1m \u001b[33m\u001b[1mdataofs\u001b[0m\u001b[32m\u001b[1m\u001b[31m=\u001b[0m\u001b[32m\u001b[1m\u001b[32m\u001b[1m8\u001b[0m\u001b[32m\u001b[1m \u001b[33m\u001b[1mreserved\u001b[0m\u001b[32m\u001b[1m\u001b[31m=\u001b[0m\u001b[32m\u001b[1m\u001b[32m\u001b[1m0\u001b[0m\u001b[32m\u001b[1m \u001b[33m\u001b[1mflags\u001b[0m\u001b[32m\u001b[1m\u001b[31m=\u001b[0m\u001b[32m\u001b[1m\u001b[32m\u001b[1mA\u001b[0m\u001b[32m\u001b[1m \u001b[33m\u001b[1mwindow\u001b[0m\u001b[32m\u001b[1m\u001b[31m=\u001b[0m\u001b[32m\u001b[1m\u001b[32m\u001b[1m3636\u001b[0m\u001b[32m\u001b[1m \u001b[33m\u001b[1mchksum\u001b[0m\u001b[32m\u001b[1m\u001b[31m=\u001b[0m\u001b[32m\u001b[1m\u001b[32m\u001b[1m0x28\u001b[0m\u001b[32m\u001b[1m \u001b[33m\u001b[1murgptr\u001b[0m\u001b[32m\u001b[1m\u001b[31m=\u001b[0m\u001b[32m\u001b[1m\u001b[32m\u001b[1m0\u001b[0m\u001b[32m\u001b[1m \u001b[33m\u001b[1moptions\u001b[0m\u001b[32m\u001b[1m\u001b[31m=\u001b[0m\u001b[32m\u001b[1m\u001b[32m\u001b[1m[('NOP', None), ('NOP', None), ('Timestamp', (5414648, 5414637))]\u001b[0m\u001b[32m\u001b[1m \u001b[31m|\u001b[0m\u001b[32m\u001b[1m\u001b[31m>\u001b[0m\u001b[32m\u001b[1m\u001b[31m>\u001b[0m\u001b[32m\u001b[1m\u001b[31m>\u001b[0m\u001b[32m\u001b[1m"
      ]
     },
     "execution_count": 45,
     "metadata": {},
     "output_type": "execute_result"
    }
   ],
   "source": [
    "newPkt"
   ]
  },
  {
   "cell_type": "markdown",
   "metadata": {},
   "source": [
    "## Configuration\n",
    "- conf - global conf object that has all the configuration relevant to scapy"
   ]
  },
  {
   "cell_type": "code",
   "execution_count": 46,
   "metadata": {},
   "outputs": [
    {
     "data": {
      "text/plain": [
       "ASN1_default_codec = <ASN1Codec BER[1]>\n",
       "AS_resolver = <scapy.as_resolvers.AS_resolver_multi object at 0x7f3ba613e048>\n",
       "BTsocket   = <BluetoothL2CAPSocket: read/write packets on a connected L2CAP ...\n",
       "L2listen   = <L2ListenSocket: read packets at layer 2 using Linux PF_PACKET ...\n",
       "L2socket   = <L2Socket: read/write packets at layer 2 using Linux PF_PACKET ...\n",
       "L3socket   = <L3PacketSocket: read/write packets at layer 3 using Linux PF_P...\n",
       "auto_fragment = 1\n",
       "checkIPID  = 0\n",
       "checkIPaddr = 1\n",
       "checkIPsrc = 1\n",
       "check_TCPerror_seqack = 0\n",
       "color_theme = <RastaTheme>\n",
       "commands   = arpcachepoison : Poison target's cache with (your MAC,victim's ...\n",
       "debug_dissector = 0\n",
       "debug_match = 0\n",
       "default_l2 = <class 'scapy.packet.Raw'>\n",
       "emph       = <Emphasize []>\n",
       "ethertypes = </etc/ethertypes/ >\n",
       "except_filter = ''\n",
       "extensions_paths = '.'\n",
       "histfile   = '/root/.scapy_history'\n",
       "iface      = 'eth0'\n",
       "iface6     = 'lo'\n",
       "interactive = False\n",
       "interactive_shell = 'ipython'\n",
       "ipv6_enabled = True\n",
       "ipython_embedded = True\n",
       "l2types    = 0x1 <- Dot3 (802.3) 0x1 <-> Ether (Ethernet) 0xc -> IP (IP) 0x1...\n",
       "l3types    = 0x3 -> IP (IP) 0x800 <-> IP (IP) 0x806 <-> ARP (ARP) 0x86dd <->...\n",
       "layers     = Packet : None NoPayload : None Raw : Raw Padding : Padding ASN1...\n",
       "load_layers = ['l2', 'inet', 'dhcp', 'dns', 'dot11', 'gprs', 'hsrp', 'inet6'...\n",
       "logLevel   = 30\n",
       "manufdb    = </usr/share/wireshark/manuf/ 00:00:00 00:00:01 00:00:02 00:00:0...\n",
       "mib        = <MIB/ >\n",
       "neighbor   = Ether -> LLC Dot3 -> LLC Dot3 -> SNAP Ether -> Dot1Q Ether -> A...\n",
       "netcache   = arp_cache: 0 valid items. Timeout=120s in6_neighbor: 0 valid it...\n",
       "noenum     = <Resolve []>\n",
       "padding    = 1\n",
       "padding_layer = <class 'scapy.packet.Padding'>\n",
       "prog       = display = 'display' dot = 'dot' hexedit = 'hexedit' pdfreader =...\n",
       "promisc    = 1\n",
       "prompt     = '>>> '\n",
       "protocols  = </etc/protocols/ ip hopopt icmp igmp ggp ipencap st tcp egp igp...\n",
       "raw_layer  = <class 'scapy.packet.Raw'>\n",
       "raw_summary = False\n",
       "readfunc   = None\n",
       "resolve    = <Resolve []>\n",
       "route      = Network Netmask Gateway Iface Output IP 127.0.0.0 255.0.0.0 0.0...\n",
       "route6     = \n",
       "services_tcp = </etc/services-tcp/ tcpmux echo discard systat daytime netsta...\n",
       "services_udp = </etc/services-udp/ echo discard daytime msp chargen fsp time...\n",
       "session    = ''\n",
       "sniff_promisc = 1\n",
       "stats_classic_protocols = [<class 'scapy.layers.inet.TCP'>, <class 'scapy.la...\n",
       "stats_dot11_protocols = [<class 'scapy.layers.inet.TCP'>, <class 'scapy.laye...\n",
       "stealth    = 'not implemented'\n",
       "temp_files = []\n",
       "teredoPrefix = '2001::'\n",
       "teredoServerPort = 3544\n",
       "use_dnet   = False\n",
       "use_netifaces = False\n",
       "use_winpcapy = False\n",
       "verb       = 1\n",
       "version    = '3.0.0'\n",
       "warning_threshold = 5\n",
       "wepkey     = ''"
      ]
     },
     "execution_count": 46,
     "metadata": {},
     "output_type": "execute_result"
    }
   ],
   "source": [
    "conf"
   ]
  },
  {
   "cell_type": "code",
   "execution_count": 47,
   "metadata": {
    "collapsed": true
   },
   "outputs": [],
   "source": [
    "conf.verb=1\n",
    "conf.color_theme = RastaTheme()"
   ]
  },
  {
   "cell_type": "code",
   "execution_count": 48,
   "metadata": {},
   "outputs": [
    {
     "name": "stdout",
     "output_type": "stream",
     "text": [
      "AH         : AH\n",
      "ARP        : ARP\n",
      "ASN1_Packet : None\n",
      "BOOTP      : BOOTP\n",
      "CookedLinux : cooked linux\n",
      "DHCP       : DHCP options\n",
      "DHCP6      : DHCPv6 Generic Message)\n",
      "DHCP6OptAuth : DHCP6 Option - Authentication\n",
      "DHCP6OptBCMCSDomains : DHCP6 Option - BCMCS Domain Name List\n",
      "DHCP6OptBCMCSServers : DHCP6 Option - BCMCS Addresses List\n",
      "DHCP6OptClientFQDN : DHCP6 Option - Client FQDN\n",
      "DHCP6OptClientId : DHCP6 Client Identifier Option\n",
      "DHCP6OptDNSDomains : DHCP6 Option - Domain Search List option\n",
      "DHCP6OptDNSServers : DHCP6 Option - DNS Recursive Name Server\n",
      "DHCP6OptElapsedTime : DHCP6 Elapsed Time Option\n",
      "DHCP6OptGeoConf : \n",
      "DHCP6OptIAAddress : DHCP6 IA Address Option (IA_TA or IA_NA suboption)\n",
      "DHCP6OptIAPrefix : DHCP6 Option - IA_PD Prefix option\n",
      "DHCP6OptIA_NA : DHCP6 Identity Association for Non-temporary Addresses Option\n",
      "DHCP6OptIA_PD : DHCP6 Option - Identity Association for Prefix Delegation\n",
      "DHCP6OptIA_TA : DHCP6 Identity Association for Temporary Addresses Option\n",
      "DHCP6OptIfaceId : DHCP6 Interface-Id Option\n",
      "DHCP6OptInfoRefreshTime : DHCP6 Option - Information Refresh Time\n",
      "DHCP6OptNISDomain : DHCP6 Option - NIS Domain Name\n",
      "DHCP6OptNISPDomain : DHCP6 Option - NIS+ Domain Name\n",
      "DHCP6OptNISPServers : DHCP6 Option - NIS+ Servers\n",
      "DHCP6OptNISServers : DHCP6 Option - NIS Servers\n",
      "DHCP6OptOptReq : DHCP6 Option Request Option\n",
      "DHCP6OptPref : DHCP6 Preference Option\n",
      "DHCP6OptRapidCommit : DHCP6 Rapid Commit Option\n",
      "DHCP6OptReconfAccept : DHCP6 Reconfigure Accept Option\n",
      "DHCP6OptReconfMsg : DHCP6 Reconfigure Message Option\n",
      "DHCP6OptRelayAgentERO : DHCP6 Option - RelayRequest Option\n",
      "DHCP6OptRelayMsg : DHCP6 Relay Message Option\n",
      "DHCP6OptRemoteID : DHCP6 Option - Relay Agent Remote-ID\n",
      "DHCP6OptSIPDomains : DHCP6 Option - SIP Servers Domain Name List\n",
      "DHCP6OptSIPServers : DHCP6 Option - SIP Servers IPv6 Address List\n",
      "DHCP6OptSNTPServers : DHCP6 option - SNTP Servers\n",
      "DHCP6OptServerId : DHCP6 Server Identifier Option\n",
      "DHCP6OptServerUnicast : DHCP6 Server Unicast Option\n",
      "DHCP6OptStatusCode : DHCP6 Status Code Option\n",
      "DHCP6OptSubscriberID : DHCP6 Option - Subscriber ID\n",
      "DHCP6OptUnknown : Unknown DHCPv6 Option\n",
      "DHCP6OptUserClass : DHCP6 User Class Option\n",
      "DHCP6OptVendorClass : DHCP6 Vendor Class Option\n",
      "DHCP6OptVendorSpecificInfo : DHCP6 Vendor-specific Information Option\n",
      "DHCP6_Advertise : DHCPv6 Advertise Message\n",
      "DHCP6_Confirm : DHCPv6 Confirm Message\n",
      "DHCP6_Decline : DHCPv6 Decline Message\n",
      "DHCP6_InfoRequest : DHCPv6 Information Request Message\n",
      "DHCP6_Rebind : DHCPv6 Rebind Message\n",
      "DHCP6_Reconf : DHCPv6 Reconfigure Message\n",
      "DHCP6_RelayForward : DHCPv6 Relay Forward Message (Relay Agent/Server Message)\n",
      "DHCP6_RelayReply : DHCPv6 Relay Reply Message (Relay Agent/Server Message)\n",
      "DHCP6_Release : DHCPv6 Release Message\n",
      "DHCP6_Renew : DHCPv6 Renew Message\n",
      "DHCP6_Reply : DHCPv6 Reply Message\n",
      "DHCP6_Request : DHCPv6 Request Message\n",
      "DHCP6_Solicit : DHCPv6 Solicit Message\n",
      "DNS        : DNS\n",
      "DNSQR      : DNS Question Record\n",
      "DNSRR      : DNS Resource Record\n",
      "DNSRRDLV   : DNS DLV Resource Record\n",
      "DNSRRDNSKEY : DNS DNSKEY Resource Record\n",
      "DNSRRDS    : DNS DS Resource Record\n",
      "DNSRRNSEC  : DNS NSEC Resource Record\n",
      "DNSRRNSEC3 : DNS NSEC3 Resource Record\n",
      "DNSRRNSEC3PARAM : DNS NSEC3PARAM Resource Record\n",
      "DNSRROPT   : DNS OPT Resource Record\n",
      "DNSRRRSIG  : DNS RRSIG Resource Record\n",
      "DNSRRSOA   : DNS SOA Resource Record\n",
      "DUID_EN    : DUID - Assigned by Vendor Based on Enterprise Number\n",
      "DUID_LL    : DUID - Based on Link-layer Address\n",
      "DUID_LLT   : DUID - Link-layer address plus time\n",
      "Dot11      : 802.11\n",
      "Dot11ACK   : 802.11 ACK\n",
      "Dot11ATIM  : 802.11 ATIM\n",
      "Dot11Action : 802.11 Action\n",
      "Dot11ActionNoACK : 802.11 Action - no ACK\n",
      "Dot11AssoReq : 802.11 Association Request\n",
      "Dot11AssoResp : 802.11 Association Response\n",
      "Dot11Auth  : 802.11 Authentication\n",
      "Dot11BACK  : 802.11 BACK\n",
      "Dot11BAR   : 802.11 BAR\n",
      "Dot11Beacon : 802.11 Beacon\n",
      "Dot11CFEnd : 802.11 CF-end\n",
      "Dot11CFEndACK : 802.11 CF-end+ACK\n",
      "Dot11CTS   : 802.11 CTS\n",
      "Dot11CtrlWrap : 802.11 Control wrapper\n",
      "Dot11Deauth : 802.11 Deauthentication\n",
      "Dot11Disas : 802.11 Disassociation\n",
      "Dot11Elt   : 802.11 Information Element\n",
      "Dot11NULL  : 802.11 NULL data\n",
      "Dot11PSPoll : 802.11 PS-Poll\n",
      "Dot11ProbeReq : 802.11 Probe Request\n",
      "Dot11ProbeResp : 802.11 Probe Response\n",
      "Dot11QoS   : 802.11 QoS\n",
      "Dot11QoSNULL : 802.11 QoS NULL data\n",
      "Dot11RTS   : 802.11 RTS\n",
      "Dot11ReassoReq : 802.11 Reassociation Request\n",
      "Dot11ReassoResp : 802.11 Reassociation Response\n",
      "Dot11WEP   : 802.11 WEP packet\n",
      "Dot1Q      : 802.1Q\n",
      "Dot3       : 802.3\n",
      "EAP        : EAP\n",
      "EAPOL      : EAPOL\n",
      "EDNS0TLV   : DNS EDNS0 TLV\n",
      "ESP        : ESP\n",
      "Ether      : Ethernet\n",
      "GPRS       : GPRSdummy\n",
      "GRE        : GRE\n",
      "GRErouting : GRE routing informations\n",
      "HAO        : Home Address Option\n",
      "HBHOptUnknown : Scapy6 Unknown Option\n",
      "HCI_ACL_Hdr : HCI ACL header\n",
      "HCI_Hdr    : HCI header\n",
      "HDLC       : None\n",
      "HSRP       : HSRP\n",
      "HSRPmd5    : HSRP MD5 Authentication\n",
      "ICMP       : ICMP\n",
      "ICMPerror  : ICMP in ICMP\n",
      "ICMPv6DestUnreach : ICMPv6 Destination Unreachable\n",
      "ICMPv6EchoReply : ICMPv6 Echo Reply\n",
      "ICMPv6EchoRequest : ICMPv6 Echo Request\n",
      "ICMPv6HAADReply : ICMPv6 Home Agent Address Discovery Reply\n",
      "ICMPv6HAADRequest : ICMPv6 Home Agent Address Discovery Request\n",
      "ICMPv6MLDone : MLD - Multicast Listener Done\n",
      "ICMPv6MLQuery : MLD - Multicast Listener Query\n",
      "ICMPv6MLReport : MLD - Multicast Listener Report\n",
      "ICMPv6MPAdv : ICMPv6 Mobile Prefix Advertisement\n",
      "ICMPv6MPSol : ICMPv6 Mobile Prefix Solicitation\n",
      "ICMPv6MRD_Advertisement : ICMPv6 Multicast Router Discovery Advertisement\n",
      "ICMPv6MRD_Solicitation : ICMPv6 Multicast Router Discovery Solicitation\n",
      "ICMPv6MRD_Termination : ICMPv6 Multicast Router Discovery Termination\n",
      "ICMPv6NDOptAdvInterval : ICMPv6 Neighbor Discovery - Interval Advertisement\n",
      "ICMPv6NDOptDstLLAddr : ICMPv6 Neighbor Discovery Option - Destination Link-Layer Address\n",
      "ICMPv6NDOptEFA : ICMPv6 Neighbor Discovery Option - Expanded Flags Option\n",
      "ICMPv6NDOptHAInfo : ICMPv6 Neighbor Discovery - Home Agent Information\n",
      "ICMPv6NDOptIPAddr : ICMPv6 Neighbor Discovery - IP Address Option (FH for MIPv6)\n",
      "ICMPv6NDOptLLA : ICMPv6 Neighbor Discovery - Link-Layer Address (LLA) Option (FH for MIPv6)\n",
      "ICMPv6NDOptMAP : ICMPv6 Neighbor Discovery - MAP Option\n",
      "ICMPv6NDOptMTU : ICMPv6 Neighbor Discovery Option - MTU\n",
      "ICMPv6NDOptNewRtrPrefix : ICMPv6 Neighbor Discovery - New Router Prefix Information Option (FH for MIPv6)\n",
      "ICMPv6NDOptPrefixInfo : ICMPv6 Neighbor Discovery Option - Prefix Information\n",
      "ICMPv6NDOptRDNSS : ICMPv6 Neighbor Discovery Option - Recursive DNS Server Option\n",
      "ICMPv6NDOptRedirectedHdr : ICMPv6 Neighbor Discovery Option - Redirected Header\n",
      "ICMPv6NDOptRouteInfo : ICMPv6 Neighbor Discovery Option - Route Information Option\n",
      "ICMPv6NDOptShortcutLimit : ICMPv6 Neighbor Discovery Option - NBMA Shortcut Limit\n",
      "ICMPv6NDOptSrcAddrList : ICMPv6 Inverse Neighbor Discovery Option - Source Address List\n",
      "ICMPv6NDOptSrcLLAddr : ICMPv6 Neighbor Discovery Option - Source Link-Layer Address\n",
      "ICMPv6NDOptTgtAddrList : ICMPv6 Inverse Neighbor Discovery Option - Target Address List\n",
      "ICMPv6NDOptUnknown : ICMPv6 Neighbor Discovery Option - Scapy Unimplemented\n",
      "ICMPv6ND_INDAdv : ICMPv6 Inverse Neighbor Discovery Advertisement\n",
      "ICMPv6ND_INDSol : ICMPv6 Inverse Neighbor Discovery Solicitation\n",
      "ICMPv6ND_NA : ICMPv6 Neighbor Discovery - Neighbor Advertisement\n",
      "ICMPv6ND_NS : ICMPv6 Neighbor Discovery - Neighbor Solicitation\n",
      "ICMPv6ND_RA : ICMPv6 Neighbor Discovery - Router Advertisement\n",
      "ICMPv6ND_RS : ICMPv6 Neighbor Discovery - Router Solicitation\n",
      "ICMPv6ND_Redirect : ICMPv6 Neighbor Discovery - Redirect\n",
      "ICMPv6NIQueryIPv4 : ICMPv6 Node Information Query - IPv4 Address Query\n",
      "ICMPv6NIQueryIPv6 : ICMPv6 Node Information Query - IPv6 Address Query\n",
      "ICMPv6NIQueryNOOP : ICMPv6 Node Information Query - NOOP Query\n",
      "ICMPv6NIQueryName : ICMPv6 Node Information Query - IPv6 Name Query\n",
      "ICMPv6NIReplyIPv4 : ICMPv6 Node Information Reply - IPv4 addresses\n",
      "ICMPv6NIReplyIPv6 : ICMPv6 Node Information Reply - IPv6 addresses\n",
      "ICMPv6NIReplyNOOP : ICMPv6 Node Information Reply - NOOP Reply\n",
      "ICMPv6NIReplyName : ICMPv6 Node Information Reply - Node Names\n",
      "ICMPv6NIReplyRefuse : ICMPv6 Node Information Reply - Responder refuses to supply answer\n",
      "ICMPv6NIReplyUnknown : ICMPv6 Node Information Reply - Qtype unknown to the responder\n",
      "ICMPv6PacketTooBig : ICMPv6 Packet Too Big\n",
      "ICMPv6ParamProblem : ICMPv6 Parameter Problem\n",
      "ICMPv6TimeExceeded : ICMPv6 Time Exceeded\n",
      "ICMPv6Unknown : Scapy6 ICMPv6 fallback class\n",
      "IP         : IP\n",
      "IPOption   : IP Option\n",
      "IPOption_Address_Extension : IP Option Address Extension\n",
      "IPOption_EOL : IP Option End of Options List\n",
      "IPOption_LSRR : IP Option Loose Source and Record Route\n",
      "IPOption_MTU_Probe : IP Option MTU Probe\n",
      "IPOption_MTU_Reply : IP Option MTU Reply\n",
      "IPOption_NOP : IP Option No Operation\n",
      "IPOption_RR : IP Option Record Route\n",
      "IPOption_Router_Alert : IP Option Router Alert\n",
      "IPOption_SDBM : IP Option Selective Directed Broadcast Mode\n",
      "IPOption_SSRR : IP Option Strict Source and Record Route\n",
      "IPOption_Security : IP Option Security\n",
      "IPOption_Stream_Id : IP Option Stream ID\n",
      "IPOption_Traceroute : IP Option Traceroute\n",
      "IPerror    : IP in ICMP\n",
      "IPerror6   : IPv6 in ICMPv6\n",
      "IPv6       : IPv6\n",
      "IPv6ExtHdrDestOpt : IPv6 Extension Header - Destination Options Header\n",
      "IPv6ExtHdrFragment : IPv6 Extension Header - Fragmentation header\n",
      "IPv6ExtHdrHopByHop : IPv6 Extension Header - Hop-by-Hop Options Header\n",
      "IPv6ExtHdrRouting : IPv6 Option Header Routing\n",
      "ISAKMP     : ISAKMP\n",
      "ISAKMP_class : None\n",
      "ISAKMP_payload : ISAKMP payload\n",
      "ISAKMP_payload_Hash : ISAKMP Hash\n",
      "ISAKMP_payload_ID : ISAKMP Identification\n",
      "ISAKMP_payload_KE : ISAKMP Key Exchange\n",
      "ISAKMP_payload_Nonce : ISAKMP Nonce\n",
      "ISAKMP_payload_Proposal : IKE proposal\n",
      "ISAKMP_payload_SA : ISAKMP SA\n",
      "ISAKMP_payload_Transform : IKE Transform\n",
      "ISAKMP_payload_VendorID : ISAKMP Vendor ID\n",
      "IrLAPCommand : IrDA Link Access Protocol Command\n",
      "IrLAPHead  : IrDA Link Access Protocol Header\n",
      "IrLMP      : IrDA Link Management Protocol\n",
      "Jumbo      : Jumbo Payload\n",
      "L2CAP_CmdHdr : L2CAP command header\n",
      "L2CAP_CmdRej : L2CAP Command Rej\n",
      "L2CAP_ConfReq : L2CAP Conf Req\n",
      "L2CAP_ConfResp : L2CAP Conf Resp\n",
      "L2CAP_ConnReq : L2CAP Conn Req\n",
      "L2CAP_ConnResp : L2CAP Conn Resp\n",
      "L2CAP_DisconnReq : L2CAP Disconn Req\n",
      "L2CAP_DisconnResp : L2CAP Disconn Resp\n",
      "L2CAP_Hdr  : L2CAP header\n",
      "L2CAP_InfoReq : L2CAP Info Req\n",
      "L2CAP_InfoResp : L2CAP Info Resp\n",
      "L2TP       : None\n",
      "LLC        : LLC\n",
      "LLMNRQuery : Link Local Multicast Node Resolution - Query\n",
      "LLMNRResponse : Link Local Multicast Node Resolution - Response\n",
      "MGCP       : MGCP\n",
      "MIP6MH_BA  : IPv6 Mobility Header - Binding ACK\n",
      "MIP6MH_BE  : IPv6 Mobility Header - Binding Error\n",
      "MIP6MH_BRR : IPv6 Mobility Header - Binding Refresh Request\n",
      "MIP6MH_BU  : IPv6 Mobility Header - Binding Update\n",
      "MIP6MH_CoT : IPv6 Mobility Header - Care-of Test\n",
      "MIP6MH_CoTI : IPv6 Mobility Header - Care-of Test Init\n",
      "MIP6MH_Generic : IPv6 Mobility Header - Generic Message\n",
      "MIP6MH_HoT : IPv6 Mobility Header - Home Test\n",
      "MIP6MH_HoTI : IPv6 Mobility Header - Home Test Init\n",
      "MIP6OptAltCoA : MIPv6 Option - Alternate Care-of Address\n",
      "MIP6OptBRAdvice : Mobile IPv6 Option - Binding Refresh Advice\n",
      "MIP6OptBindingAuthData : MIPv6 Option - Binding Authorization Data\n",
      "MIP6OptCGAParams : MIPv6 option - CGA Parameters\n",
      "MIP6OptCGAParamsReq : MIPv6 option - CGA Parameters Request\n",
      "MIP6OptCareOfTest : MIPv6 option - Care-of Test\n",
      "MIP6OptCareOfTestInit : MIPv6 option - Care-of Test Init\n",
      "MIP6OptHomeKeygenToken : MIPv6 option - Home Keygen Token\n",
      "MIP6OptLLAddr : MIPv6 Option - Link-Layer Address (MH-LLA)\n",
      "MIP6OptMNID : MIPv6 Option - Mobile Node Identifier\n",
      "MIP6OptMobNetPrefix : NEMO Option - Mobile Network Prefix\n",
      "MIP6OptMsgAuth : MIPv6 Option - Mobility Message Authentication\n",
      "MIP6OptNonceIndices : MIPv6 Option - Nonce Indices\n",
      "MIP6OptReplayProtection : MIPv6 option - Replay Protection\n",
      "MIP6OptSignature : MIPv6 option - Signature\n",
      "MIP6OptUnknown : Scapy6 - Unknown Mobility Option\n",
      "MobileIP   : Mobile IP (RFC3344)\n",
      "MobileIPRRP : Mobile IP Registration Reply (RFC3344)\n",
      "MobileIPRRQ : Mobile IP Registration Request (RFC3344)\n",
      "MobileIPTunnelData : Mobile IP Tunnel Data Message (RFC3519)\n",
      "NBNSNodeStatusResponse : NBNS Node Status Response\n",
      "NBNSNodeStatusResponseEnd : NBNS Node Status Response\n",
      "NBNSNodeStatusResponseService : NBNS Node Status Response Service\n",
      "NBNSQueryRequest : NBNS query request\n",
      "NBNSQueryResponse : NBNS query response\n",
      "NBNSQueryResponseNegative : NBNS query response (negative)\n",
      "NBNSRequest : NBNS request\n",
      "NBNSWackResponse : NBNS Wait for Acknowledgement Response\n",
      "NBTDatagram : NBT Datagram Packet\n",
      "NBTSession : NBT Session Packet\n",
      "NTP        : NTP\n",
      "NetBIOS_DS : NetBIOS datagram service\n",
      "NetflowHeader : Netflow Header\n",
      "NetflowHeaderV1 : Netflow Header V1\n",
      "NetflowRecordV1 : Netflow Record\n",
      "NoPayload  : None\n",
      "PPI        : Per-Packet Information header (partial)\n",
      "PPP        : PPP Link Layer\n",
      "PPP_ECP    : None\n",
      "PPP_ECP_Option : PPP ECP Option\n",
      "PPP_ECP_Option_OUI : PPP ECP Option\n",
      "PPP_IPCP   : None\n",
      "PPP_IPCP_Option : PPP IPCP Option\n",
      "PPP_IPCP_Option_DNS1 : PPP IPCP Option: DNS1 Address\n",
      "PPP_IPCP_Option_DNS2 : PPP IPCP Option: DNS2 Address\n",
      "PPP_IPCP_Option_IPAddress : PPP IPCP Option: IP Address\n",
      "PPP_IPCP_Option_NBNS1 : PPP IPCP Option: NBNS1 Address\n",
      "PPP_IPCP_Option_NBNS2 : PPP IPCP Option: NBNS2 Address\n",
      "PPP_LCP    : None\n",
      "PPP_LCP_Option : PPP LCP Option\n",
      "PPP_LCP_Option_AUTH : PPP LCP Option: Authentication Protocol\n",
      "PPP_LCP_Option_MAGIC : PPP LCP Option: Magic Number\n",
      "PPP_LCP_Option_MRU : PPP LCP Option: Maximum Receive Unit\n",
      "PPPoE      : PPP over Ethernet\n",
      "PPPoED     : PPP over Ethernet Discovery\n",
      "PPPoE_Tag  : PPPoE Tag\n",
      "Packet     : None\n",
      "Pad1       : Pad1\n",
      "PadN       : PadN\n",
      "Padding    : Padding\n",
      "PrismHeader : Prism header\n",
      "PseudoIPv6 : Pseudo IPv6 Header\n",
      "RIP        : RIP header\n",
      "RIPAuth    : RIP authentication\n",
      "RIPEntry   : RIP entry\n",
      "RTP        : RTP\n",
      "RadioTap   : RadioTap dummy\n",
      "Radius     : Radius\n",
      "Raw        : Raw\n",
      "RouterAlert : Router Alert\n",
      "SCTP       : None\n",
      "SCTPChunkAbort : None\n",
      "SCTPChunkCookieAck : None\n",
      "SCTPChunkCookieEcho : None\n",
      "SCTPChunkData : None\n",
      "SCTPChunkError : None\n",
      "SCTPChunkHeartbeatAck : None\n",
      "SCTPChunkHeartbeatReq : None\n",
      "SCTPChunkInit : None\n",
      "SCTPChunkInitAck : None\n",
      "SCTPChunkParamAdaptationLayer : None\n",
      "SCTPChunkParamCookiePreservative : None\n",
      "SCTPChunkParamECNCapable : None\n",
      "SCTPChunkParamFwdTSN : None\n",
      "SCTPChunkParamHearbeatInfo : None\n",
      "SCTPChunkParamHostname : None\n",
      "SCTPChunkParamIPv4Addr : None\n",
      "SCTPChunkParamIPv6Addr : None\n",
      "SCTPChunkParamStateCookie : None\n",
      "SCTPChunkParamSupportedAddrTypes : None\n",
      "SCTPChunkParamUnrocognizedParam : None\n",
      "SCTPChunkSACK : None\n",
      "SCTPChunkShutdown : None\n",
      "SCTPChunkShutdownAck : None\n",
      "SCTPChunkShutdownComplete : None\n",
      "SMBMailSlot : None\n",
      "SMBNegociate_Protocol_Request_Header : SMBNegociate Protocol Request Header\n",
      "SMBNegociate_Protocol_Request_Tail : SMB Negociate Protocol Request Tail\n",
      "SMBNegociate_Protocol_Response_Advanced_Security : SMBNegociate Protocol Response Advanced Security\n",
      "SMBNegociate_Protocol_Response_No_Security : SMBNegociate Protocol Response No Security\n",
      "SMBNegociate_Protocol_Response_No_Security_No_Key : None\n",
      "SMBNetlogon_Protocol_Response_Header : SMBNetlogon Protocol Response Header\n",
      "SMBNetlogon_Protocol_Response_Tail_LM20 : SMB Netlogon Protocol Response Tail LM20\n",
      "SMBNetlogon_Protocol_Response_Tail_SAM : SMB Netlogon Protocol Response Tail SAM\n",
      "SMBSession_Setup_AndX_Request : Session Setup AndX Request\n",
      "SMBSession_Setup_AndX_Response : Session Setup AndX Response\n",
      "SNAP       : SNAP\n",
      "SNMP       : None\n",
      "SNMPbulk   : None\n",
      "SNMPget    : None\n",
      "SNMPinform : None\n",
      "SNMPnext   : None\n",
      "SNMPresponse : None\n",
      "SNMPset    : None\n",
      "SNMPtrapv1 : None\n",
      "SNMPtrapv2 : None\n",
      "SNMPvarbind : None\n",
      "STP        : Spanning Tree Protocol\n",
      "SebekHead  : Sebek header\n",
      "SebekV1    : Sebek v1\n",
      "SebekV2    : Sebek v3\n",
      "SebekV2Sock : Sebek v2 socket\n",
      "SebekV3    : Sebek v3\n",
      "SebekV3Sock : Sebek v2 socket\n",
      "Skinny     : Skinny\n",
      "TCP        : TCP\n",
      "TCPerror   : TCP in ICMP\n",
      "TFTP       : TFTP opcode\n",
      "TFTP_ACK   : TFTP Ack\n",
      "TFTP_DATA  : TFTP Data\n",
      "TFTP_ERROR : TFTP Error\n",
      "TFTP_OACK  : TFTP Option Ack\n",
      "TFTP_Option : None\n",
      "TFTP_Options : None\n",
      "TFTP_RRQ   : TFTP Read Request\n",
      "TFTP_WRQ   : TFTP Write Request\n",
      "UDP        : UDP\n",
      "UDPerror   : UDP in ICMP\n",
      "USER_CLASS_DATA : user class data\n",
      "VENDOR_CLASS_DATA : vendor class data\n",
      "VENDOR_SPECIFIC_OPTION : vendor specific option data\n",
      "VRRP       : None\n",
      "X509Cert   : None\n",
      "X509RDN    : None\n",
      "X509v3Ext  : None\n",
      "_DHCP6GuessPayload : None\n",
      "_DHCP6OptGuessPayload : None\n",
      "_DNSRRdummy : Dummy class that implements post_build() for Ressource Records\n",
      "_ESPPlain  : ESP\n",
      "_ICMPv6    : ICMPv6 dummy class\n",
      "_ICMPv6Error : ICMPv6 errors dummy class\n",
      "_ICMPv6ML  : ICMPv6 dummy class\n",
      "_IPOption_HDR : None\n",
      "_IPv6ExtHdr : Abstract IPV6 Option Header\n",
      "_MobilityHeader : Dummy IPv6 Mobility Header\n"
     ]
    }
   ],
   "source": [
    "ls()"
   ]
  },
  {
   "cell_type": "code",
   "execution_count": 49,
   "metadata": {},
   "outputs": [
    {
     "data": {
      "text/plain": [
       "\u001b[31m<\u001b[0m\u001b[32m\u001b[1m\u001b[31m\u001b[1mIP\u001b[0m\u001b[32m\u001b[1m  \u001b[31m|\u001b[0m\u001b[32m\u001b[1m\u001b[31m>\u001b[0m\u001b[32m\u001b[1m"
      ]
     },
     "execution_count": 49,
     "metadata": {},
     "output_type": "execute_result"
    }
   ],
   "source": [
    "ip"
   ]
  },
  {
   "cell_type": "markdown",
   "metadata": {},
   "source": [
    "## Using Scapy with Python\n",
    "- more detail examples later"
   ]
  },
  {
   "cell_type": "code",
   "execution_count": 57,
   "metadata": {},
   "outputs": [
    {
     "name": "stdout",
     "output_type": "stream",
     "text": [
      "Ether / IP / TCP 127.0.0.1:46361 > 127.0.0.1:48226 A\n",
      "Ether / IP / TCP 127.0.0.1:46361 > 127.0.0.1:48226 A\n",
      "Ether / IPv6 / TCP ::1:58804 > ::1:8888 A\n",
      "Ether / IPv6 / TCP ::1:58804 > ::1:8888 A\n",
      "Ether / IPv6 / TCP ::1:8888 > ::1:58804 PA / Raw\n",
      "Ether / IPv6 / TCP ::1:8888 > ::1:58804 PA / Raw\n",
      "Ether / IPv6 / TCP ::1:58804 > ::1:8888 A\n",
      "Ether / IPv6 / TCP ::1:58804 > ::1:8888 A\n",
      "Ether / IPv6 / TCP ::1:59280 > ::1:8888 PA / Raw\n",
      "Ether / IPv6 / TCP ::1:59280 > ::1:8888 PA / Raw\n",
      "Ether / IPv6 / TCP ::1:8888 > ::1:59280 A\n",
      "Ether / IPv6 / TCP ::1:8888 > ::1:59280 A\n",
      "Ether / IPv6 / TCP ::1:8888 > ::1:59280 PA / Raw\n",
      "Ether / IPv6 / TCP ::1:8888 > ::1:59280 PA / Raw\n",
      "Ether / IPv6 / TCP ::1:59280 > ::1:8888 A\n",
      "Ether / IPv6 / TCP ::1:59280 > ::1:8888 A\n",
      "ICMP code: 0\n",
      "ICMP code: 0\n",
      "ICMP code: 0\n",
      "ICMP code: 0\n",
      "Ether / ARP who has 192.168.231.2 says 192.168.231.131\n",
      "Ether / ARP is at 00:50:56:f9:21:6d says 192.168.231.2 / Padding\n",
      "ICMP code: 0\n",
      "ICMP code: 0\n",
      "ICMP code: 0\n",
      "ICMP code: 0\n",
      "ICMP code: 0\n",
      "ICMP code: 0\n",
      "ICMP code: 0\n",
      "ICMP code: 0\n",
      "ICMP code: 0\n",
      "ICMP code: 0\n",
      "ICMP code: 0\n",
      "ICMP code: 0\n",
      "ICMP code: 0\n",
      "ICMP code: 0\n",
      "ICMP code: 0\n",
      "ICMP code: 0\n",
      "Ether / IPv6 / TCP ::1:59280 > ::1:8888 A\n",
      "Ether / IPv6 / TCP ::1:59280 > ::1:8888 A\n",
      "Ether / IPv6 / TCP ::1:8888 > ::1:59280 A\n",
      "Ether / IPv6 / TCP ::1:8888 > ::1:59280 A\n",
      "Ether / IPv6 / TCP ::1:8888 > ::1:58804 PA / Raw\n",
      "Ether / IPv6 / TCP ::1:8888 > ::1:58804 PA / Raw\n",
      "Ether / IPv6 / TCP ::1:58804 > ::1:8888 A\n",
      "Ether / IPv6 / TCP ::1:58804 > ::1:8888 A\n",
      "Ether / IPv6 / TCP ::1:58804 > ::1:8888 PA / Raw\n",
      "Ether / IPv6 / TCP ::1:58804 > ::1:8888 PA / Raw\n",
      "Ether / IPv6 / TCP ::1:8888 > ::1:58804 A\n",
      "Ether / IPv6 / TCP ::1:8888 > ::1:58804 A\n",
      "Total ICMP packets: 20\n"
     ]
    }
   ],
   "source": [
    "count = 0\n",
    "for packet in pkts:\n",
    "    #print(packet.summary())\n",
    "    if (packet.haslayer(ICMP)):\n",
    "        count += 1\n",
    "        print(\"ICMP code: \"+ str(packet.getlayer(ICMP).code))\n",
    "    else:\n",
    "        print(packet.summary())\n",
    "print('Total ICMP packets: {}'.format(count))"
   ]
  },
  {
   "cell_type": "code",
   "execution_count": null,
   "metadata": {
    "collapsed": true
   },
   "outputs": [],
   "source": []
  }
 ],
 "metadata": {
  "kernelspec": {
   "display_name": "Python 3",
   "language": "python",
   "name": "python3"
  },
  "language_info": {
   "codemirror_mode": {
    "name": "ipython",
    "version": 3
   },
   "file_extension": ".py",
   "mimetype": "text/x-python",
   "name": "python",
   "nbconvert_exporter": "python",
   "pygments_lexer": "ipython3",
   "version": "3.6.1"
  }
 },
 "nbformat": 4,
 "nbformat_minor": 2
}
